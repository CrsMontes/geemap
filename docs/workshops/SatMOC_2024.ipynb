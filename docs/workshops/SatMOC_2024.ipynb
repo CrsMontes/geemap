{
 "cells": [
  {
   "cell_type": "markdown",
   "id": "0",
   "metadata": {},
   "source": [
    "[![image](https://colab.research.google.com/assets/colab-badge.svg)](https://colab.research.google.com/github/gee-community/geemap/blob/master/docs/workshops/SatMOC_2024.ipynb)\n",
    "\n",
    "**From Satellites to Solutions: Drought Monitoring with Google Earth Engine**\n",
    "\n",
    "-   Registration: <https://www.nesdis.noaa.gov/events/satellites-solutions-drought-monitoring-google-earth-engine>\n",
    "-   Notebook: <https://geemap.org/workshops/SatMOC_2024>\n",
    "-   Earth Engine: <https://earthengine.google.com>\n",
    "-   Geemap: <https://geemap.org>\n",
    "\n",
    "## Introduction (10 mins)\n",
    "\n",
    "This notebook is designed for the summer short course offered by the American Meteorological Society (AMS) Committee on Satellite Meteorology, Oceanography, and Climatology (SatMOC).  \n",
    "\n",
    "### Description\n",
    "\n",
    "Droughts pose a critical threat to water resources, agriculture, and ecosystems worldwide. This hands-on short course will teach you how to harness the power of Google Earth Engine (GEE) to monitor and analyze drought patterns. GEE's vast repository of satellite data and powerful cloud computing capabilities will streamline your drought research and decision-making.\n",
    "\n",
    "In this short course, you will:\n",
    "\n",
    "* Explore the fundamentals of remote sensing for drought monitoring.\n",
    "* Learn to calculate and interpret key drought indices such as the Standardized Precipitation Index (SPI) and the Vegetation Condition Index (VCI).\n",
    "* Master GEE coding techniques to process large geospatial datasets.\n",
    "* Create dynamic visualizations that track the evolution of drought conditions over time.\n",
    "* Develop tools to support local and regional drought management strategies.\n",
    "\n",
    "### Prerequisites\n",
    "\n",
    "-   To use geemap and the Earth Engine Python API, you must [register](https://code.earthengine.google.com/register) for an Earth Engine account and follow the instructions [here](https://docs.google.com/document/d/1ZGSmrNm6_baqd8CHt33kIBWOlvkh-HLr46bODgJN1h0/edit?usp=sharing) to create a Cloud Project. Earth Engine is free for [noncommercial and research use](https://earthengine.google.com/noncommercial). To test whether you can use authenticate the Earth Engine Python API, please run [this notebook](https://colab.research.google.com/github/giswqs/geemap/blob/master/examples/notebooks/geemap_colab.ipynb) on Google Colab.\n",
    "\n",
    "-   It is recommended that attendees have a basic understanding of Python and Jupyter Notebook.\n",
    "-   Familiarity with the Earth Engine JavaScript API is not required but will be helpful.\n",
    "-   Attendees can use Google Colab to follow this short course without installing anything on their computer.\n",
    "\n",
    "By the end of this short course, you will have the skills and resources to confidently integrate Google Earth Engine into your drought monitoring and decision-making workflows.\n",
    "\n",
    "### Agenda\n",
    "This short course consists of six 30-minute sessions. During each hands-on session, the attendees will walk through Jupyter notebook examples on Google Colab. At the end of each session, they will complete a hands-on exercise to apply the knowledge they have learned in each session.\n",
    "\n",
    "- Course introduction and software setup (30 mins)\n",
    "    - Introduction and location of short course materials (10 mins)\n",
    "    - Introduction to Earth Engine and geemap (15 mins)\n",
    "    - Google Colab and Earth Engine Python API authentication (5 mins)\n",
    "- Using Earth Engine data (30 mins)\n",
    "    - Earth Engine data types\n",
    "    - Earth Engine Data Catalog\n",
    "    - Exercise: creating cloud-free imagery\n",
    "- Visualizing Earth Engine data (30 mins)\n",
    "    - Geemap Inspector tool, plotting tool, interactive GUI for data visualization\n",
    "    - Legends, color bars, and labels\n",
    "    - Split-panel map and linked maps\n",
    "    - Timeseries inspector and time slider\n",
    "    - Exercise: visualizing timeseries precipitation and vegetation data\n",
    "- Drought monitoring (30 mins)\n",
    "    - Exploring drought datasets (e.g., USDM, GRIDMET, SPEIbase, JPSS, GOES)\n",
    "    - Creating drought timeseries animations\n",
    "    - Creating wildfire animations\n",
    "    - Computing zonal statistics\n",
    "- Analyzing and visualizing precipitation data (30 mins)\n",
    "    - Intro to precipitation datasets (e.g., ERA5, GPM, TRMM, CHIRPS)\n",
    "    - Creating precipitation timeseries animations\n",
    "    - Calculating Standardized Precipitation Index (SPI)\n",
    "    - Computing zonal statistics\n",
    "    - Creating interactive charts\n",
    "- Analyzing and visualizing vegetation data (30 mins)\n",
    "    - Intro to vegetation datasets (e.g., MODIS, Landsat)\n",
    "    - Creating vegetation timeseries animations\n",
    "    - Calculating Vegetation Condition Index (VCI)\n",
    "    - Computing zonal statistics\n",
    "    - Creating interactive charts \n",
    "\n",
    "\n",
    "\n",
    "## Introduction to Earth Engine and geemap (15 mins)\n",
    "\n",
    "Earth Engine is free for [noncommercial and research use](https://earthengine.google.com/noncommercial). For more than a decade, Earth Engine has enabled planetary-scale Earth data science and analysis by nonprofit organizations, research scientists, and other impact users.\n",
    "\n",
    "With the launch of Earth Engine for [commercial use](https://earthengine.google.com/commercial), commercial customers will be charged for Earth Engine services. However, Earth Engine will remain free of charge for noncommercial use and research projects. Nonprofit organizations, academic institutions, educators, news media, Indigenous governments, and government researchers are eligible to use Earth Engine free of charge, just as they have done for over a decade.\n",
    "\n",
    "The geemap Python package is built upon the Earth Engine Python API and open-source mapping libraries. It allows Earth Engine users to interactively manipulate, analyze, and visualize geospatial big data in a Jupyter environment. Since its creation in April 2020, geemap has received over 3,300 GitHub stars and is being used by over 2,700 projects on GitHub.\n",
    "\n",
    "## Google Colab and Earth Engine Python API authentication (5 mins)\n",
    "\n",
    "[![image](https://colab.research.google.com/assets/colab-badge.svg)](https://colab.research.google.com/github/gee-community/geemap/blob/master/docs/workshops/SatMOC_2024.ipynb)\n",
    "\n",
    "### Change Colab dark theme\n",
    "\n",
    "Currently, ipywidgets does not work well with Colab dark theme. Some of the geemap widgets may not display properly in Colab dark theme.It is recommended that you change Colab to the light theme.\n",
    "\n",
    "![](https://i.imgur.com/EJ0GDP8.png)\n",
    "\n",
    "\n",
    "### Install geemap\n",
    "\n",
    "The geemap package is pre-installed in Google Colab and is updated to the latest minor or major release every few weeks. Some optional dependencies of geemap being used by this notebook are not pre-installed in Colab. Uncomment the following line to install geemap and some optional dependencies."
   ]
  },
  {
   "cell_type": "code",
   "execution_count": null,
   "id": "1",
   "metadata": {},
   "outputs": [],
   "source": [
    "# %pip install -U \"geemap[workshop]\"\n",
    "# %pip install -U git+https://github.com/gee-community/geemap.git"
   ]
  },
  {
   "cell_type": "markdown",
   "id": "2",
   "metadata": {},
   "source": [
    "Note that some geemap features may not work properly in the Google Colab environmennt. If you are familiar with [Anaconda](https://www.anaconda.com/download) or [Miniconda](https://docs.anaconda.com/free/miniconda), it is recommended to create a new conda environment to install geemap and its optional dependencies on your local computer. \n",
    "\n",
    "```bash\n",
    "conda create -n gee python=3.11\n",
    "conda activate gee\n",
    "conda install -c conda-forge mamba\n",
    "mamba install -c conda-forge geemap pygis\n",
    "```"
   ]
  },
  {
   "cell_type": "markdown",
   "id": "3",
   "metadata": {},
   "source": [
    "### Import libraries\n",
    "\n",
    "Import the earthengine-api and geemap."
   ]
  },
  {
   "cell_type": "code",
   "execution_count": null,
   "id": "4",
   "metadata": {},
   "outputs": [],
   "source": [
    "import ee\n",
    "import geemap"
   ]
  },
  {
   "cell_type": "markdown",
   "id": "5",
   "metadata": {},
   "source": [
    "### Authenticate and initialize Earth Engine\n",
    "\n",
    "You will need to create a [Google Cloud Project](https://console.cloud.google.com/projectcreate) and enable the [Earth Engine API](https://console.cloud.google.com/apis/api/earthengine.googleapis.com) for the project. You can find detailed instructions [here](https://book.geemap.org/chapters/01_introduction.html#earth-engine-authentication)."
   ]
  },
  {
   "cell_type": "code",
   "execution_count": null,
   "id": "6",
   "metadata": {},
   "outputs": [],
   "source": [
    "ee.Authenticate()"
   ]
  },
  {
   "cell_type": "code",
   "execution_count": null,
   "id": "7",
   "metadata": {},
   "outputs": [],
   "source": [
    "ee.Initialize(project=\"ee-giswqs\")"
   ]
  },
  {
   "cell_type": "markdown",
   "id": "8",
   "metadata": {},
   "source": [
    "## Creating interactive maps\n",
    "\n",
    "Let's create an interactive map using the `ipyleaflet` plotting backend. The [`geemap.Map`](https://geemap.org/geemap/#geemap.geemap.m) class inherits the [`ipyleaflet.Map`](https://ipyleaflet.readthedocs.io/en/latest/map_and_basemaps/map.html) class. Therefore, you can use the same syntax to create an interactive map as you would with `ipyleaflet.Map`."
   ]
  },
  {
   "cell_type": "code",
   "execution_count": null,
   "id": "9",
   "metadata": {},
   "outputs": [],
   "source": [
    "m = geemap.Map()"
   ]
  },
  {
   "cell_type": "markdown",
   "id": "10",
   "metadata": {},
   "source": [
    "To display it in a Jupyter notebook, simply ask for the object representation:"
   ]
  },
  {
   "cell_type": "code",
   "execution_count": null,
   "id": "11",
   "metadata": {},
   "outputs": [],
   "source": [
    "m"
   ]
  },
  {
   "cell_type": "markdown",
   "id": "12",
   "metadata": {},
   "source": [
    "To customize the map, you can specify various keyword arguments, such as `center` ([lat, lon]), `zoom`, `width`, and `height`. The default `width` is `100%`, which takes up the entire cell width of the Jupyter notebook. The `height` argument accepts a number or a string. If a number is provided, it represents the height of the map in pixels. If a string is provided, the string must be in the format of a number followed by `px`, e.g., `600px`."
   ]
  },
  {
   "cell_type": "code",
   "execution_count": null,
   "id": "13",
   "metadata": {},
   "outputs": [],
   "source": [
    "m = geemap.Map(center=[40, -100], zoom=4, height=\"600xp\")\n",
    "m"
   ]
  },
  {
   "cell_type": "markdown",
   "id": "14",
   "metadata": {},
   "source": [
    "To hide a control, set `control_name` to `False`, e.g., `draw_ctrl=False`."
   ]
  },
  {
   "cell_type": "code",
   "execution_count": null,
   "id": "15",
   "metadata": {},
   "outputs": [],
   "source": [
    "m = geemap.Map(data_ctrl=False, toolbar_ctrl=False, draw_ctrl=False)\n",
    "m"
   ]
  },
  {
   "cell_type": "markdown",
   "id": "16",
   "metadata": {},
   "source": [
    "### Adding basemaps\n",
    "\n",
    "There are several ways to add basemaps to a map. You can specify the basemap to use in the `basemap` keyword argument when creating the map. Alternatively, you can add basemap layers to the map using the `add_basemap` method. Geemap has hundreds of built-in basemaps available that can be easily added to the map with only one line of code.\n",
    "\n",
    "Create a map by specifying the basemap to use as follows. For example, the `Esri.WorldImagery` basemap represents the Esri world imagery basemap."
   ]
  },
  {
   "cell_type": "code",
   "execution_count": null,
   "id": "17",
   "metadata": {},
   "outputs": [],
   "source": [
    "m = geemap.Map(basemap=\"Esri.WorldImagery\")\n",
    "m"
   ]
  },
  {
   "cell_type": "markdown",
   "id": "18",
   "metadata": {},
   "source": [
    "You can add as many basemaps as you like to the map. For example, the following code adds the `OpenTopoMap` basemap to the map above:"
   ]
  },
  {
   "cell_type": "code",
   "execution_count": null,
   "id": "19",
   "metadata": {},
   "outputs": [],
   "source": [
    "m.add_basemap(\"OpenTopoMap\")"
   ]
  },
  {
   "cell_type": "markdown",
   "id": "20",
   "metadata": {},
   "source": [
    "You can also change basemaps interactively using the basemap GUI."
   ]
  },
  {
   "cell_type": "markdown",
   "id": "21",
   "metadata": {},
   "source": [
    "## Using Earth Engine data (30 mins)\n",
    "\n",
    "### Earth Engine data types\n",
    "\n",
    "Earth Engine objects are server-side objects rather than client-side objects, which means that they are not stored locally on your computer. Similar to video streaming services (e.g., YouTube, Netflix, and Hulu), which store videos/movies on their servers, Earth Engine data are stored on the Earth Engine servers. We can stream geospatial data from Earth Engine on-the-fly without having to download the data just like we can watch videos from streaming services using a web browser without having to download the entire video to your computer.\n",
    "\n",
    "-   **Image**: the fundamental raster data type in Earth Engine.\n",
    "-   **ImageCollection**: a stack or time-series of images.\n",
    "-   **Geometry**: the fundamental vector data type in Earth Engine.\n",
    "-   **Feature**: a Geometry with attributes.\n",
    "-   **FeatureCollection**: a set of features.\n",
    "\n",
    "### Image\n",
    "\n",
    "Raster data in Earth Engine are represented as **Image** objects. Images are composed of one or more bands and each band has its own name, data type, scale, mask and projection. Each image has metadata stored as a set of properties.\n",
    "\n",
    "#### Loading Earth Engine images"
   ]
  },
  {
   "cell_type": "code",
   "execution_count": null,
   "id": "22",
   "metadata": {},
   "outputs": [],
   "source": [
    "image = ee.Image(\"USGS/SRTMGL1_003\")\n",
    "image"
   ]
  },
  {
   "cell_type": "markdown",
   "id": "23",
   "metadata": {},
   "source": [
    "#### Visualizing Earth Engine images"
   ]
  },
  {
   "cell_type": "code",
   "execution_count": null,
   "id": "24",
   "metadata": {},
   "outputs": [],
   "source": [
    "m = geemap.Map(center=[21.79, 70.87], zoom=3)\n",
    "image = ee.Image(\"USGS/SRTMGL1_003\")\n",
    "vis_params = {\n",
    "    \"min\": 0,\n",
    "    \"max\": 6000,\n",
    "    \"palette\": [\"006633\", \"E5FFCC\", \"662A00\", \"D8D8D8\", \"F5F5F5\"],  # 'terrain'\n",
    "}\n",
    "m.add_layer(image, vis_params, \"SRTM\")\n",
    "m"
   ]
  },
  {
   "cell_type": "markdown",
   "id": "25",
   "metadata": {},
   "source": [
    "### ImageCollection\n",
    "\n",
    "An `ImageCollection` is a stack or sequence of images. An `ImageCollection` can be loaded by passing an Earth Engine asset ID into the `ImageCollection` constructor. You can find `ImageCollection` IDs in the [Earth Engine Data Catalog](https://developers.google.com/earth-engine/datasets).\n",
    "\n",
    "#### Loading image collections\n",
    "\n",
    "For example, to load the image collection of the [Sentinel-2 surface reflectance](https://developers.google.com/earth-engine/datasets/catalog/COPERNICUS_S2_SR):"
   ]
  },
  {
   "cell_type": "code",
   "execution_count": null,
   "id": "26",
   "metadata": {},
   "outputs": [],
   "source": [
    "collection = ee.ImageCollection(\"COPERNICUS/S2_SR\")"
   ]
  },
  {
   "cell_type": "markdown",
   "id": "27",
   "metadata": {},
   "source": [
    "#### Visualizing image collections\n",
    "\n",
    "To visualize an Earth Engine **ImageCollection**, we need to convert an **ImageCollection** to an **Image** by compositing all the images in the collection to a single image representing, for example, the min, max, median, mean or standard deviation of the images. For example, to create a median value image from a collection, use the `collection.median()` method. Let's create a median image from the Sentinel-2 surface reflectance collection:"
   ]
  },
  {
   "cell_type": "code",
   "execution_count": null,
   "id": "28",
   "metadata": {},
   "outputs": [],
   "source": [
    "m = geemap.Map()\n",
    "collection = (\n",
    "    ee.ImageCollection(\"COPERNICUS/S2_SR\")\n",
    "    .filterDate(\"2023-01-01\", \"2024-01-01\")\n",
    "    .filter(ee.Filter.lt(\"CLOUDY_PIXEL_PERCENTAGE\", 5))\n",
    ")\n",
    "image = collection.median()\n",
    "\n",
    "vis = {\n",
    "    \"min\": 0.0,\n",
    "    \"max\": 3000,\n",
    "    \"bands\": [\"B4\", \"B3\", \"B2\"],\n",
    "}\n",
    "\n",
    "m.set_center(-77.0054, 38.8974, 13)\n",
    "m.add_layer(image, vis, \"Sentinel-2\")\n",
    "m"
   ]
  },
  {
   "cell_type": "markdown",
   "id": "29",
   "metadata": {},
   "source": [
    "### FeatureCollection\n",
    "\n",
    "A **FeatureCollection** is a collection of Features. A FeatureCollection is analogous to a GeoJSON FeatureCollection object, i.e., a collection of features with associated properties/attributes. Data contained in a shapefile can be represented as a FeatureCollection.\n",
    "\n",
    "#### Loading feature collections\n",
    "\n",
    "The [Earth Engine Data Catalog](https://developers.google.com/earth-engine/datasets) hosts a variety of vector datasets (e.g,, US Census data, country boundaries, and more) as feature collections. You can find feature collection IDs by searching the data catalog. For example, to load the [TIGER roads data](https://developers.google.com/earth-engine/datasets/catalog/TIGER_2016_Roads) by the U.S. Census Bureau:"
   ]
  },
  {
   "cell_type": "code",
   "execution_count": null,
   "id": "30",
   "metadata": {},
   "outputs": [],
   "source": [
    "m = geemap.Map()\n",
    "fc = ee.FeatureCollection(\"TIGER/2016/Roads\")\n",
    "m.set_center(-73.9596, 40.7688, 12)\n",
    "m.add_layer(fc, {}, \"Census roads\")\n",
    "m"
   ]
  },
  {
   "cell_type": "markdown",
   "id": "31",
   "metadata": {},
   "source": [
    "#### Filtering feature collections"
   ]
  },
  {
   "cell_type": "code",
   "execution_count": null,
   "id": "32",
   "metadata": {},
   "outputs": [],
   "source": [
    "m = geemap.Map()\n",
    "states = ee.FeatureCollection(\"TIGER/2018/States\")\n",
    "fc = states.filter(ee.Filter.eq(\"NAME\", \"Tennessee\"))\n",
    "m.add_layer(fc, {}, \"Tennessee\")\n",
    "m.center_object(fc, 7)\n",
    "m"
   ]
  },
  {
   "cell_type": "code",
   "execution_count": null,
   "id": "33",
   "metadata": {},
   "outputs": [],
   "source": [
    "m = geemap.Map()\n",
    "states = ee.FeatureCollection(\"TIGER/2018/States\")\n",
    "fc = states.filter(ee.Filter.inList(\"NAME\", [\"California\", \"Oregon\", \"Washington\"]))\n",
    "m.add_layer(fc, {}, \"West Coast\")\n",
    "m.center_object(fc, 5)\n",
    "m"
   ]
  },
  {
   "cell_type": "code",
   "execution_count": null,
   "id": "34",
   "metadata": {},
   "outputs": [],
   "source": [
    "region = m.user_roi\n",
    "if region is None:\n",
    "    region = ee.Geometry.BBox(-88.40, 29.88, -77.90, 35.39)\n",
    "\n",
    "fc = ee.FeatureCollection(\"TIGER/2018/States\").filterBounds(region)\n",
    "m.add_layer(fc, {}, \"Southeastern U.S.\")\n",
    "m.center_object(fc, 6)"
   ]
  },
  {
   "cell_type": "markdown",
   "id": "35",
   "metadata": {},
   "source": [
    "#### Visualizing feature collections"
   ]
  },
  {
   "cell_type": "code",
   "execution_count": null,
   "id": "36",
   "metadata": {},
   "outputs": [],
   "source": [
    "m = geemap.Map(center=[40, -100], zoom=4)\n",
    "states = ee.FeatureCollection(\"TIGER/2018/States\")\n",
    "m.add_layer(states, {}, \"US States\")\n",
    "m"
   ]
  },
  {
   "cell_type": "code",
   "execution_count": null,
   "id": "37",
   "metadata": {},
   "outputs": [],
   "source": [
    "m = geemap.Map(center=[40, -100], zoom=4)\n",
    "states = ee.FeatureCollection(\"TIGER/2018/States\")\n",
    "style = {\"color\": \"0000ffff\", \"width\": 2, \"lineType\": \"solid\", \"fillColor\": \"FF000080\"}\n",
    "m.add_layer(states.style(**style), {}, \"US States\")\n",
    "m"
   ]
  },
  {
   "cell_type": "code",
   "execution_count": null,
   "id": "38",
   "metadata": {},
   "outputs": [],
   "source": [
    "m = geemap.Map(center=[40, -100], zoom=4)\n",
    "states = ee.FeatureCollection(\"TIGER/2018/States\")\n",
    "vis_params = {\n",
    "    \"color\": \"000000\",\n",
    "    \"colorOpacity\": 1,\n",
    "    \"pointSize\": 3,\n",
    "    \"pointShape\": \"circle\",\n",
    "    \"width\": 2,\n",
    "    \"lineType\": \"solid\",\n",
    "    \"fillColorOpacity\": 0.66,\n",
    "}\n",
    "palette = [\"006633\", \"E5FFCC\", \"662A00\", \"D8D8D8\", \"F5F5F5\"]\n",
    "m.add_styled_vector(\n",
    "    states, column=\"NAME\", palette=palette, layer_name=\"Styled vector\", **vis_params\n",
    ")\n",
    "m"
   ]
  },
  {
   "cell_type": "markdown",
   "id": "39",
   "metadata": {},
   "source": [
    "### Earth Engine Data Catalog\n",
    "\n",
    "The [Earth Engine Data Catalog](https://developers.google.com/earth-engine/datasets) hosts a variety of geospatial datasets. As of July 2024, the catalog contains over [1,100 datasets](https://github.com/opengeos/Earth-Engine-Catalog/blob/master/gee_catalog.tsv) with a total size of over 100 petabytes. Some notable datasets include: Landsat, Sentinel, MODIS, NAIP, etc. For a complete list of datasets in CSV or JSON formats, see the [Earth Engine Datasets List](https://github.com/giswqs/Earth-Engine-Catalog/blob/master/gee_catalog.tsv).\n",
    "\n",
    "#### Searching for datasets\n",
    "\n",
    "The [Earth Engine Data Catalog](https://developers.google.com/earth-engine/datasets/catalog) is searchable. You can search datasets by name, keyword, or tag. For example, enter \"elevation\" in the search box will filter the catalog to show only datasets containing \"elevation\" in their name, description, or tags. 52 datasets are returned for this search query. Scroll down the list to find the [NASA SRTM Digital Elevation 30m](https://developers.google.com/earth-engine/datasets/catalog/USGS_SRTMGL1_003#description) dataset. On each dataset page, you can find the following information, including Dataset Availability, Dataset Provider, Earth Engine Snippet, Tags, Description, Code Example, and more. One important piece of information is the Image/ImageCollection/FeatureCollection ID of each dataset, which is essential for accessing the dataset through the Earth Engine JavaScript or Python APIs.\n",
    "\n",
    "![](https://i.imgur.com/B3rf4QN.jpg)"
   ]
  },
  {
   "cell_type": "code",
   "execution_count": null,
   "id": "40",
   "metadata": {},
   "outputs": [],
   "source": [
    "m = geemap.Map()\n",
    "m"
   ]
  },
  {
   "cell_type": "code",
   "execution_count": null,
   "id": "41",
   "metadata": {},
   "outputs": [],
   "source": [
    "m = geemap.Map()\n",
    "dem = ee.Image(\"USGS/SRTMGL1_003\")\n",
    "vis_params = {\n",
    "    \"min\": 0,\n",
    "    \"max\": 4000,\n",
    "    \"palette\": [\"006633\", \"E5FFCC\", \"662A00\", \"D8D8D8\", \"F5F5F5\"],\n",
    "}\n",
    "m.add_layer(dem, vis_params, \"SRTM DEM\")\n",
    "m"
   ]
  },
  {
   "cell_type": "markdown",
   "id": "42",
   "metadata": {},
   "source": [
    "### Exercise 1 - Creating cloud-free imagery\n",
    "\n",
    "Create a cloud-free imagery of a selected US state for the year of 2023. You can use either Landsat 9 or Sentinel-2 imagery. Relevant Earth Engine assets:\n",
    "\n",
    "-   [ee.FeatureCollection(\"TIGER/2018/States\")](https://developers.google.com/earth-engine/datasets/catalog/TIGER_2018_States)\n",
    "-   [ee.ImageCollection(\"COPERNICUS/S2_SR\")](https://developers.google.com/earth-engine/datasets/catalog/COPERNICUS_S2_SR)\n",
    "-   [ee.ImageCollection(\"LANDSAT/LC09/C02/T1_L2\")](https://developers.google.com/earth-engine/datasets/catalog/LANDSAT_LC09_C02_T1_L2)\n",
    "\n",
    "A sample map of cloud-free imagery for the state of Texas is shown below:\n",
    "\n",
    "![](https://i.imgur.com/i3IT0lF.png)"
   ]
  },
  {
   "cell_type": "code",
   "execution_count": null,
   "id": "43",
   "metadata": {},
   "outputs": [],
   "source": [
    "# Type your code here"
   ]
  },
  {
   "cell_type": "markdown",
   "id": "44",
   "metadata": {},
   "source": [
    "## Visualizing Earth Engine data (30 mins)\n",
    "\n",
    "### Using the inspector tool\n",
    "\n",
    "Inspect pixel values and vector features using the inspector tool. "
   ]
  },
  {
   "cell_type": "code",
   "execution_count": null,
   "id": "45",
   "metadata": {},
   "outputs": [],
   "source": [
    "m = geemap.Map(center=(40, -100), zoom=4)\n",
    "\n",
    "dem = ee.Image(\"USGS/SRTMGL1_003\")\n",
    "landsat7 = ee.Image(\"LANDSAT/LE7_TOA_5YEAR/1999_2003\").select(\n",
    "    [\"B1\", \"B2\", \"B3\", \"B4\", \"B5\", \"B7\"]\n",
    ")\n",
    "states = ee.FeatureCollection(\"TIGER/2018/States\")\n",
    "\n",
    "vis_params = {\n",
    "    \"min\": 0,\n",
    "    \"max\": 4000,\n",
    "    \"palette\": [\"006633\", \"E5FFCC\", \"662A00\", \"D8D8D8\", \"F5F5F5\"],\n",
    "}\n",
    "\n",
    "m.add_layer(dem, vis_params, \"SRTM DEM\")\n",
    "m.add_layer(\n",
    "    landsat7,\n",
    "    {\"bands\": [\"B4\", \"B3\", \"B2\"], \"min\": 20, \"max\": 200, \"gamma\": 2.0},\n",
    "    \"Landsat 7\",\n",
    ")\n",
    "m.add_layer(states, {}, \"US States\")\n",
    "m.add(\"inspector\")\n",
    "m"
   ]
  },
  {
   "cell_type": "markdown",
   "id": "46",
   "metadata": {},
   "source": [
    "### Using the plotting tool\n",
    "\n",
    "Plot spectral profiles of pixels using the plotting tool."
   ]
  },
  {
   "cell_type": "code",
   "execution_count": null,
   "id": "47",
   "metadata": {},
   "outputs": [],
   "source": [
    "m = geemap.Map(center=[40, -100], zoom=4)\n",
    "\n",
    "landsat7 = ee.Image(\"LANDSAT/LE7_TOA_5YEAR/1999_2003\").select(\n",
    "    [\"B1\", \"B2\", \"B3\", \"B4\", \"B5\", \"B7\"]\n",
    ")\n",
    "\n",
    "landsat_vis = {\"bands\": [\"B4\", \"B3\", \"B2\"], \"gamma\": 1.4}\n",
    "m.add_layer(landsat7, landsat_vis, \"Landsat\")\n",
    "\n",
    "hyperion = ee.ImageCollection(\"EO1/HYPERION\").filter(\n",
    "    ee.Filter.date(\"2016-01-01\", \"2017-03-01\")\n",
    ")\n",
    "\n",
    "hyperion_vis = {\n",
    "    \"min\": 1000.0,\n",
    "    \"max\": 14000.0,\n",
    "    \"gamma\": 2.5,\n",
    "}\n",
    "m.add_layer(hyperion, hyperion_vis, \"Hyperion\")\n",
    "m.add_plot_gui()\n",
    "m"
   ]
  },
  {
   "cell_type": "markdown",
   "id": "48",
   "metadata": {},
   "source": [
    "Set plotting options for Landsat."
   ]
  },
  {
   "cell_type": "code",
   "execution_count": null,
   "id": "49",
   "metadata": {},
   "outputs": [],
   "source": [
    "m.set_plot_options(add_marker_cluster=True, overlay=True)"
   ]
  },
  {
   "cell_type": "markdown",
   "id": "50",
   "metadata": {},
   "source": [
    "Set plotting options for Hyperion."
   ]
  },
  {
   "cell_type": "code",
   "execution_count": null,
   "id": "51",
   "metadata": {},
   "outputs": [],
   "source": [
    "m.set_plot_options(add_marker_cluster=True, plot_type=\"bar\")"
   ]
  },
  {
   "cell_type": "markdown",
   "id": "52",
   "metadata": {},
   "source": [
    "### Legends, color bars, and labels\n",
    "\n",
    "#### Built-in legends"
   ]
  },
  {
   "cell_type": "code",
   "execution_count": null,
   "id": "53",
   "metadata": {},
   "outputs": [],
   "source": [
    "from geemap.legends import builtin_legends"
   ]
  },
  {
   "cell_type": "code",
   "execution_count": null,
   "id": "54",
   "metadata": {},
   "outputs": [],
   "source": [
    "for legend in builtin_legends:\n",
    "    print(legend)"
   ]
  },
  {
   "cell_type": "markdown",
   "id": "55",
   "metadata": {},
   "source": [
    "Add NLCD WMS layer and legend to the map."
   ]
  },
  {
   "cell_type": "code",
   "execution_count": null,
   "id": "56",
   "metadata": {},
   "outputs": [],
   "source": [
    "m = geemap.Map(center=[40, -100], zoom=4)\n",
    "m.add_basemap(\"Esri.WorldImagery\")\n",
    "m.add_basemap(\"NLCD 2021 CONUS Land Cover\")\n",
    "m.add_legend(\n",
    "    title=\"NLCD Land Cover Type\",\n",
    "    builtin_legend=\"NLCD\",\n",
    "    max_width=\"100px\",\n",
    "    height=\"455px\",\n",
    ")\n",
    "m"
   ]
  },
  {
   "cell_type": "markdown",
   "id": "57",
   "metadata": {},
   "source": [
    "Add NLCD Earth Engine layer and legend to the map."
   ]
  },
  {
   "cell_type": "code",
   "execution_count": null,
   "id": "58",
   "metadata": {},
   "outputs": [],
   "source": [
    "m = geemap.Map(center=[40, -100], zoom=4)\n",
    "m.add_basemap(\"Esri.WorldImagery\")\n",
    "\n",
    "nlcd = ee.Image(\"USGS/NLCD_RELEASES/2021_REL/NLCD/2021\")\n",
    "landcover = nlcd.select(\"landcover\")\n",
    "\n",
    "m.add_layer(landcover, {}, \"NLCD Land Cover 2021\")\n",
    "m.add_legend(title=\"NLCD Land Cover Type\", builtin_legend=\"NLCD\", height=\"455px\")\n",
    "m"
   ]
  },
  {
   "cell_type": "markdown",
   "id": "59",
   "metadata": {},
   "source": [
    "#### Custom legends"
   ]
  },
  {
   "cell_type": "markdown",
   "id": "60",
   "metadata": {},
   "source": [
    "Add a custom legend by specifying a dictionary of colors and labels."
   ]
  },
  {
   "cell_type": "code",
   "execution_count": null,
   "id": "61",
   "metadata": {},
   "outputs": [],
   "source": [
    "m = geemap.Map(center=[40, -100], zoom=4)\n",
    "m.add_basemap(\"Esri.WorldImagery\")\n",
    "\n",
    "legend_dict = {\n",
    "    \"11 Open Water\": \"466b9f\",\n",
    "    \"12 Perennial Ice/Snow\": \"d1def8\",\n",
    "    \"21 Developed, Open Space\": \"dec5c5\",\n",
    "    \"22 Developed, Low Intensity\": \"d99282\",\n",
    "    \"23 Developed, Medium Intensity\": \"eb0000\",\n",
    "    \"24 Developed High Intensity\": \"ab0000\",\n",
    "    \"31 Barren Land (Rock/Sand/Clay)\": \"b3ac9f\",\n",
    "    \"41 Deciduous Forest\": \"68ab5f\",\n",
    "    \"42 Evergreen Forest\": \"1c5f2c\",\n",
    "    \"43 Mixed Forest\": \"b5c58f\",\n",
    "    \"51 Dwarf Scrub\": \"af963c\",\n",
    "    \"52 Shrub/Scrub\": \"ccb879\",\n",
    "    \"71 Grassland/Herbaceous\": \"dfdfc2\",\n",
    "    \"72 Sedge/Herbaceous\": \"d1d182\",\n",
    "    \"73 Lichens\": \"a3cc51\",\n",
    "    \"74 Moss\": \"82ba9e\",\n",
    "    \"81 Pasture/Hay\": \"dcd939\",\n",
    "    \"82 Cultivated Crops\": \"ab6c28\",\n",
    "    \"90 Woody Wetlands\": \"b8d9eb\",\n",
    "    \"95 Emergent Herbaceous Wetlands\": \"6c9fb8\",\n",
    "}\n",
    "\n",
    "nlcd = ee.Image(\"USGS/NLCD_RELEASES/2021_REL/NLCD/2021\")\n",
    "landcover = nlcd.select(\"landcover\")\n",
    "\n",
    "m.add_layer(landcover, {}, \"NLCD Land Cover 2021\")\n",
    "m.add_legend(title=\"NLCD Land Cover Type\", legend_dict=legend_dict)\n",
    "m"
   ]
  },
  {
   "cell_type": "markdown",
   "id": "62",
   "metadata": {},
   "source": [
    "#### Creating color bars\n",
    "\n",
    "Add a horizontal color bar."
   ]
  },
  {
   "cell_type": "code",
   "execution_count": null,
   "id": "63",
   "metadata": {},
   "outputs": [],
   "source": [
    "m = geemap.Map()\n",
    "\n",
    "dem = ee.Image(\"USGS/SRTMGL1_003\")\n",
    "vis_params = {\n",
    "    \"min\": 0,\n",
    "    \"max\": 4000,\n",
    "    \"palette\": [\"006633\", \"E5FFCC\", \"662A00\", \"D8D8D8\", \"F5F5F5\"],\n",
    "}\n",
    "\n",
    "m.add_layer(dem, vis_params, \"SRTM DEM\")\n",
    "m.add_colorbar(vis_params, label=\"Elevation (m)\", layer_name=\"SRTM DEM\")\n",
    "m"
   ]
  },
  {
   "cell_type": "markdown",
   "id": "64",
   "metadata": {},
   "source": [
    "Add a vertical color bar."
   ]
  },
  {
   "cell_type": "code",
   "execution_count": null,
   "id": "65",
   "metadata": {},
   "outputs": [],
   "source": [
    "m.add_colorbar(\n",
    "    vis_params,\n",
    "    label=\"Elevation (m)\",\n",
    "    layer_name=\"SRTM DEM\",\n",
    "    orientation=\"vertical\",\n",
    "    max_width=\"100px\",\n",
    ")"
   ]
  },
  {
   "cell_type": "markdown",
   "id": "66",
   "metadata": {},
   "source": [
    "Make the color bar background transparent."
   ]
  },
  {
   "cell_type": "code",
   "execution_count": null,
   "id": "67",
   "metadata": {},
   "outputs": [],
   "source": [
    "m.add_colorbar(\n",
    "    vis_params,\n",
    "    label=\"Elevation (m)\",\n",
    "    layer_name=\"SRTM DEM\",\n",
    "    orientation=\"vertical\",\n",
    "    max_width=\"100px\",\n",
    "    transparent_bg=True,\n",
    ")"
   ]
  },
  {
   "cell_type": "markdown",
   "id": "68",
   "metadata": {},
   "source": [
    "### Split-panel map and linked maps\n",
    "\n",
    "### Split-panel maps\n",
    "\n",
    "Create a split map with basemaps. Note that ipyleaflet has a bug with the SplitControl. You can't pan the map, which should be resolved in the next ipyleaflet release."
   ]
  },
  {
   "cell_type": "code",
   "execution_count": null,
   "id": "69",
   "metadata": {},
   "outputs": [],
   "source": [
    "m = geemap.Map()\n",
    "m.split_map(left_layer=\"Esri.WorldTopoMap\", right_layer=\"OpenTopoMap\")\n",
    "m"
   ]
  },
  {
   "cell_type": "markdown",
   "id": "70",
   "metadata": {},
   "source": [
    "Create a split map with Earth Engine layers."
   ]
  },
  {
   "cell_type": "code",
   "execution_count": null,
   "id": "71",
   "metadata": {},
   "outputs": [],
   "source": [
    "m = geemap.Map(center=(40, -100), zoom=4, height=600)\n",
    "\n",
    "nlcd_2001 = ee.Image(\"USGS/NLCD_RELEASES/2019_REL/NLCD/2001\").select(\"landcover\")\n",
    "nlcd_2019 = ee.Image(\"USGS/NLCD_RELEASES/2021_REL/NLCD/2021\").select(\"landcover\")\n",
    "\n",
    "left_layer = geemap.ee_tile_layer(nlcd_2001, {}, \"NLCD 2001\")\n",
    "right_layer = geemap.ee_tile_layer(nlcd_2019, {}, \"NLCD 2021\")\n",
    "\n",
    "m.split_map(left_layer, right_layer, left_label=\"NLCD 2001\", right_label=\"NLCD 2021\")\n",
    "m"
   ]
  },
  {
   "cell_type": "markdown",
   "id": "72",
   "metadata": {},
   "source": [
    "### Linked maps\n",
    "\n",
    "Create a 2x2 linked map for visualizing Sentinel-2 imagery with different band combinations. Note that this feature does not work properly with Colab. Panning one map would not pan other maps."
   ]
  },
  {
   "cell_type": "code",
   "execution_count": null,
   "id": "73",
   "metadata": {},
   "outputs": [],
   "source": [
    "image = (\n",
    "    ee.ImageCollection(\"COPERNICUS/S2\")\n",
    "    .filterDate(\"2018-09-01\", \"2018-09-30\")\n",
    "    .map(lambda img: img.divide(10000))\n",
    "    .median()\n",
    ")\n",
    "\n",
    "vis_params = [\n",
    "    {\"bands\": [\"B4\", \"B3\", \"B2\"], \"min\": 0, \"max\": 0.3, \"gamma\": 1.3},\n",
    "    {\"bands\": [\"B8\", \"B11\", \"B4\"], \"min\": 0, \"max\": 0.3, \"gamma\": 1.3},\n",
    "    {\"bands\": [\"B8\", \"B4\", \"B3\"], \"min\": 0, \"max\": 0.3, \"gamma\": 1.3},\n",
    "    {\"bands\": [\"B12\", \"B12\", \"B4\"], \"min\": 0, \"max\": 0.3, \"gamma\": 1.3},\n",
    "]\n",
    "\n",
    "labels = [\n",
    "    \"Natural Color (B4/B3/B2)\",\n",
    "    \"Land/Water (B8/B11/B4)\",\n",
    "    \"Color Infrared (B8/B4/B3)\",\n",
    "    \"Vegetation (B12/B11/B4)\",\n",
    "]\n",
    "\n",
    "geemap.linked_maps(\n",
    "    rows=2,\n",
    "    cols=2,\n",
    "    height=\"300px\",\n",
    "    center=[38.4151, 21.2712],\n",
    "    zoom=12,\n",
    "    ee_objects=[image],\n",
    "    vis_params=vis_params,\n",
    "    labels=labels,\n",
    "    label_position=\"topright\",\n",
    ")"
   ]
  },
  {
   "cell_type": "markdown",
   "id": "74",
   "metadata": {},
   "source": [
    "### Timeseries inspector and time slider\n",
    "\n",
    "#### Timeseries inspector\n",
    "\n",
    "Check the available years of NLCD."
   ]
  },
  {
   "cell_type": "code",
   "execution_count": null,
   "id": "75",
   "metadata": {},
   "outputs": [],
   "source": [
    "m = geemap.Map(center=[40, -100], zoom=4)\n",
    "pdsi_col = ee.ImageCollection(\"USGS/NLCD_RELEASES/2019_REL/NLCD\").select(\"landcover\")\n",
    "vis_params = {\"bands\": [\"landcover\"]}\n",
    "years = pdsi_col.aggregate_array(\"system:index\").getInfo()\n",
    "years"
   ]
  },
  {
   "cell_type": "markdown",
   "id": "76",
   "metadata": {},
   "source": [
    "Create a timeseries inspector for NLCD. Note that ipyleaflet has a bug with the SplitControl. You can't pan the map, which should be resolved in a future ipyleaflet release."
   ]
  },
  {
   "cell_type": "code",
   "execution_count": null,
   "id": "77",
   "metadata": {},
   "outputs": [],
   "source": [
    "m.ts_inspector(\n",
    "    left_ts=pdsi_col,\n",
    "    right_ts=pdsi_col,\n",
    "    left_names=years,\n",
    "    right_names=years,\n",
    "    left_vis=vis_params,\n",
    "    right_vis=vis_params,\n",
    "    width=\"80px\",\n",
    ")\n",
    "m"
   ]
  },
  {
   "cell_type": "markdown",
   "id": "78",
   "metadata": {},
   "source": [
    "#### Time slider\n",
    "\n",
    "Note that this feature may not work properly with in the Colab environment. Restart Colab runtime if the time slider does not work.\n",
    "\n",
    "Create a map for visualizing MODIS vegetation data."
   ]
  },
  {
   "cell_type": "code",
   "execution_count": null,
   "id": "79",
   "metadata": {},
   "outputs": [],
   "source": [
    "m = geemap.Map()\n",
    "\n",
    "collection = (\n",
    "    ee.ImageCollection(\"MODIS/MCD43A4_006_NDVI\")\n",
    "    .filter(ee.Filter.date(\"2018-06-01\", \"2018-07-01\"))\n",
    "    .select(\"NDVI\")\n",
    ")\n",
    "vis_params = {\n",
    "    \"min\": 0.0,\n",
    "    \"max\": 1.0,\n",
    "    \"palette\": \"ndvi\",\n",
    "}\n",
    "\n",
    "m.add_time_slider(collection, vis_params, time_interval=2)\n",
    "m"
   ]
  },
  {
   "cell_type": "markdown",
   "id": "80",
   "metadata": {},
   "source": [
    "Create a map for visualizing weather data."
   ]
  },
  {
   "cell_type": "code",
   "execution_count": null,
   "id": "81",
   "metadata": {},
   "outputs": [],
   "source": [
    "m = geemap.Map()\n",
    "\n",
    "collection = (\n",
    "    ee.ImageCollection(\"NOAA/GFS0P25\")\n",
    "    .filterDate(\"2018-12-22\", \"2018-12-23\")\n",
    "    .limit(24)\n",
    "    .select(\"temperature_2m_above_ground\")\n",
    ")\n",
    "\n",
    "vis_params = {\n",
    "    \"min\": -40.0,\n",
    "    \"max\": 35.0,\n",
    "    \"palette\": [\"blue\", \"purple\", \"cyan\", \"green\", \"yellow\", \"red\"],\n",
    "}\n",
    "\n",
    "labels = [str(n).zfill(2) + \":00\" for n in range(0, 24)]\n",
    "m.add_time_slider(collection, vis_params, labels=labels, time_interval=1, opacity=0.8)\n",
    "m"
   ]
  },
  {
   "cell_type": "markdown",
   "id": "82",
   "metadata": {},
   "source": [
    "Visualizing Sentinel-2 imagery"
   ]
  },
  {
   "cell_type": "code",
   "execution_count": null,
   "id": "83",
   "metadata": {},
   "outputs": [],
   "source": [
    "m = geemap.Map(center=[37.75, -122.45], zoom=12)\n",
    "\n",
    "pdsi_col = (\n",
    "    ee.ImageCollection(\"COPERNICUS/S2_SR\")\n",
    "    .filterBounds(ee.Geometry.Point([-122.45, 37.75]))\n",
    "    .filterMetadata(\"CLOUDY_PIXEL_PERCENTAGE\", \"less_than\", 10)\n",
    ")\n",
    "\n",
    "vis_params = {\"min\": 0, \"max\": 4000, \"bands\": [\"B8\", \"B4\", \"B3\"]}\n",
    "\n",
    "m.add_time_slider(pdsi_col, vis_params)\n",
    "m"
   ]
  },
  {
   "cell_type": "markdown",
   "id": "84",
   "metadata": {},
   "source": [
    "### Exercise 2 - Creating land cover maps with a legend\n",
    "\n",
    "Create a split map for visualizing NLCD land cover change in a selected US state between 2001 and 2019. Add the NLCD legend to the map. Relevant Earth Engine assets:\n",
    "\n",
    "-   [ee.FeatureCollection(\"TIGER/2018/States\")](https://developers.google.com/earth-engine/datasets/catalog/TIGER_2018_States)\n",
    "-   [ee.ImageCollection(\"USGS/NLCD_RELEASES/2019_REL/NLCD\")](https://developers.google.com/earth-engine/datasets/catalog/USGS_NLCD_RELEASES_2019_REL_NLCD)\n",
    "\n",
    "A sample map for visualizing NLCD land cover change in Texas is shown below:\n",
    "![](https://i.imgur.com/1b62CeI.jpg)"
   ]
  },
  {
   "cell_type": "markdown",
   "id": "85",
   "metadata": {},
   "source": [
    "## Creating timelapse animations\n",
    "\n",
    "### MODIS vegetation indices"
   ]
  },
  {
   "cell_type": "code",
   "execution_count": null,
   "id": "86",
   "metadata": {},
   "outputs": [],
   "source": [
    "Map = geemap.Map()\n",
    "Map"
   ]
  },
  {
   "cell_type": "code",
   "execution_count": null,
   "id": "87",
   "metadata": {},
   "outputs": [],
   "source": [
    "roi = Map.user_roi\n",
    "if roi is None:\n",
    "    roi = ee.Geometry.BBox(-18.6983, -36.1630, 52.2293, 38.1446)\n",
    "    Map.addLayer(roi)\n",
    "    Map.centerObject(roi)"
   ]
  },
  {
   "cell_type": "code",
   "execution_count": null,
   "id": "88",
   "metadata": {},
   "outputs": [],
   "source": [
    "timelapse = geemap.modis_ndvi_timelapse(\n",
    "    roi,\n",
    "    out_gif=\"ndvi.gif\",\n",
    "    data=\"Terra\",\n",
    "    band=\"NDVI\",\n",
    "    start_date=\"2000-01-01\",\n",
    "    end_date=\"2022-12-31\",\n",
    "    frames_per_second=3,\n",
    "    title=\"MODIS NDVI Timelapse\",\n",
    "    overlay_data=\"countries\",\n",
    ")\n",
    "geemap.show_image(timelapse)"
   ]
  },
  {
   "cell_type": "markdown",
   "id": "89",
   "metadata": {},
   "source": [
    "### MODIS temperature data"
   ]
  },
  {
   "cell_type": "code",
   "execution_count": null,
   "id": "90",
   "metadata": {},
   "outputs": [],
   "source": [
    "Map = geemap.Map()\n",
    "Map"
   ]
  },
  {
   "cell_type": "code",
   "execution_count": null,
   "id": "91",
   "metadata": {},
   "outputs": [],
   "source": [
    "roi = Map.user_roi\n",
    "if roi is None:\n",
    "    roi = ee.Geometry.BBox(-171.21, -57.13, 177.53, 79.99)\n",
    "    Map.addLayer(roi)\n",
    "    Map.centerObject(roi)"
   ]
  },
  {
   "cell_type": "code",
   "execution_count": null,
   "id": "92",
   "metadata": {},
   "outputs": [],
   "source": [
    "timelapse = geemap.modis_ocean_color_timelapse(\n",
    "    satellite=\"Aqua\",\n",
    "    start_date=\"2018-01-01\",\n",
    "    end_date=\"2020-12-31\",\n",
    "    roi=roi,\n",
    "    frequency=\"month\",\n",
    "    out_gif=\"temperature.gif\",\n",
    "    overlay_data=\"continents\",\n",
    "    overlay_color=\"yellow\",\n",
    "    overlay_opacity=0.5,\n",
    ")\n",
    "geemap.show_image(timelapse)"
   ]
  },
  {
   "cell_type": "markdown",
   "id": "93",
   "metadata": {},
   "source": [
    "### GOES timelapse"
   ]
  },
  {
   "cell_type": "code",
   "execution_count": null,
   "id": "94",
   "metadata": {},
   "outputs": [],
   "source": [
    "roi = ee.Geometry.BBox(167.1898, -28.5757, 202.6258, -12.4411)\n",
    "start_date = \"2022-01-15T03:00:00\"\n",
    "end_date = \"2022-01-15T07:00:00\"\n",
    "data = \"GOES-17\"\n",
    "scan = \"full_disk\""
   ]
  },
  {
   "cell_type": "code",
   "execution_count": null,
   "id": "95",
   "metadata": {},
   "outputs": [],
   "source": [
    "timelapse = geemap.goes_timelapse(\n",
    "    roi, \"goes.gif\", start_date, end_date, data, scan, framesPerSecond=5\n",
    ")\n",
    "geemap.show_image(timelapse)"
   ]
  },
  {
   "cell_type": "code",
   "execution_count": null,
   "id": "96",
   "metadata": {},
   "outputs": [],
   "source": [
    "roi = ee.Geometry.BBox(-159.5954, 24.5178, -114.2438, 60.4088)\n",
    "start_date = \"2021-10-24T14:00:00\"\n",
    "end_date = \"2021-10-25T01:00:00\"\n",
    "data = \"GOES-17\"\n",
    "scan = \"full_disk\""
   ]
  },
  {
   "cell_type": "code",
   "execution_count": null,
   "id": "97",
   "metadata": {},
   "outputs": [],
   "source": [
    "timelapse = geemap.goes_timelapse(\n",
    "    roi, \"hurricane.gif\", start_date, end_date, data, scan, framesPerSecond=5\n",
    ")\n",
    "geemap.show_image(timelapse)"
   ]
  },
  {
   "cell_type": "code",
   "execution_count": null,
   "id": "98",
   "metadata": {},
   "outputs": [],
   "source": [
    "roi = ee.Geometry.BBox(-121.0034, 36.8488, -117.9052, 39.0490)\n",
    "start_date = \"2020-09-05T15:00:00\"\n",
    "end_date = \"2020-09-06T02:00:00\"\n",
    "data = \"GOES-17\"\n",
    "scan = \"full_disk\""
   ]
  },
  {
   "cell_type": "code",
   "execution_count": null,
   "id": "99",
   "metadata": {},
   "outputs": [],
   "source": [
    "timelapse = geemap.goes_fire_timelapse(\n",
    "    roi, \"fire.gif\", start_date, end_date, data, scan, framesPerSecond=5\n",
    ")\n",
    "geemap.show_image(timelapse)"
   ]
  },
  {
   "cell_type": "markdown",
   "id": "100",
   "metadata": {},
   "source": [
    "## Drought monitoring (30 mins)\n",
    "\n",
    "In this section, we will explore drought datasets and anylyze drought patterns using Google Earth Engine. There are many [drought datasets](https://developers.google.com/earth-engine/datasets/tags/drought) available in the [Earth Engine Public Data Catalog](https://developers.google.com/earth-engine/datasets/) and [Community Catalog](https://gee-community-catalog.org/), including the [US Drought Monitor](https://developers.google.com/earth-engine/datasets/catalog/projects_sat-io_open-datasets_us-drought-monitor), [GRIDMET](https://developers.google.com/earth-engine/datasets/catalog/GRIDMET_DROUGHT), and [SPEIbase](https://developers.google.com/earth-engine/datasets/catalog/CSIC_SPEI_2_9). We will focus on the GRIDMET datasets in this section.\n",
    "\n",
    "NASA reported [July 2023 as Hottest Month on Record Ever Since 1880](https://www.nasa.gov/news-release/nasa-clocks-july-2023-as-hottest-month-on-record-ever-since-1880)\n",
    "\n",
    "![](https://www.nasa.gov/wp-content/uploads/2023/08/microsoftteams-image_26.png)"
   ]
  },
  {
   "cell_type": "markdown",
   "id": "101",
   "metadata": {},
   "source": [
    "### Exploring drought datasets\n",
    "\n",
    "There are several drought datasets available in the [Earth Engine Community Catalog](https://gee-community-catalog.org), including:\n",
    "\n",
    "- [United States Drought Monitor](https://gee-community-catalog.org/projects/usdm)\n",
    "- [North American Drought Monitor (NADM)](https://gee-community-catalog.org/projects/nadm)\n",
    "- [Canadian Drought Outlook](https://gee-community-catalog.org/projects/can_drought_outlook)\n",
    "- [United States Seasonal Drought Outlook](https://gee-community-catalog.org/projects/ussdo)\n",
    "\n",
    "The [Earth Engine Public Data Catalog](https://developers.google.com/earth-engine/datasets/catalog) also hosts several [drought datasets](https://developers.google.com/earth-engine/datasets/tags/drought), including:\n",
    "\n",
    "- [GRIDMET DROUGHT: CONUS Drought Indices](https://developers.google.com/earth-engine/datasets/catalog/GRIDMET_DROUGHT)\n",
    "- [SPEIbase: Standardised Precipitation-Evapotranspiration Index database](https://developers.google.com/earth-engine/datasets/catalog/CSIC_SPEI_2_9)\n",
    "- [KBDI: Keetch-Byram Drought Index](https://developers.google.com/earth-engine/datasets/catalog/UTOKYO_WTLAB_KBDI_v1)\n",
    "\n",
    "Let's explore the USDM dataset in the Earth Engine Community Catalog.\n",
    "\n",
    "The U.S. Drought Monitor is a map released every Thursday, showing parts of the U.S. that are in drought. The map uses five classifications: abnormally dry (D0), showing areas that may be going into or are coming out of drought, and four levels of drought: moderate (D1), severe (D2), extreme (D3) and exceptional (D4).\n",
    "\n",
    "The Drought Monitor has been a team effort since its inception in 1999, produced jointly by the National Drought Mitigation Center (NDMC) at the University of Nebraska-Lincoln, the National Oceanic and Atmospheric Administration (NOAA), and the U.S. Department of Agriculture (USDA). The NDMC hosts the web site of the drought monitor and the associated data, and provides the map and data to NOAA, USDA and other agencies. It is freely available at https://droughtmonitor.unl.edu.\n",
    "\n",
    "![](https://i.imgur.com/Y2cOxiX.png)\n",
    "\n",
    "To visualize the USDM data, open the [USDM Explorer Web App](https://sat-io.earthengine.app/view/usdm-explorer) and select any US county to view the weekly USDM data for that county.\n",
    "\n",
    "![](https://i.imgur.com/kLTVbnl.png)"
   ]
  },
  {
   "cell_type": "code",
   "execution_count": null,
   "id": "102",
   "metadata": {},
   "outputs": [],
   "source": []
  },
  {
   "cell_type": "code",
   "execution_count": null,
   "id": "103",
   "metadata": {},
   "outputs": [],
   "source": [
    "start_date = \"2023-07-01\"\n",
    "end_date = \"2023-08-01\"\n",
    "pdsi_col = ee.ImageCollection(\"GRIDMET/DROUGHT\").filterDate(start_date, end_date)\n",
    "pdsi_col"
   ]
  },
  {
   "cell_type": "code",
   "execution_count": null,
   "id": "104",
   "metadata": {},
   "outputs": [],
   "source": [
    "pdsi_col.aggregate_array(\"system:id\")"
   ]
  },
  {
   "cell_type": "code",
   "execution_count": null,
   "id": "105",
   "metadata": {},
   "outputs": [],
   "source": [
    "pdsi_image = pdsi_col.filterDate(start_date, end_date).mean()\n",
    "pdsi_image"
   ]
  },
  {
   "cell_type": "code",
   "execution_count": null,
   "id": "106",
   "metadata": {},
   "outputs": [],
   "source": []
  },
  {
   "cell_type": "code",
   "execution_count": null,
   "id": "107",
   "metadata": {},
   "outputs": [],
   "source": [
    "m = geemap.Map(center=[40, -100], zoom=4)\n",
    "\n",
    "# Make a color palette that is similar to USDM drought classification\n",
    "usdmColors = [\n",
    "    \"#00ffff\",\n",
    "    \"#aaff55\",\n",
    "    \"#ffffff\",\n",
    "    \"#ffff00\",\n",
    "    \"#fcd37f\",\n",
    "    \"#ffaa00\",\n",
    "    \"#e60000\",\n",
    "    \"#730000\",\n",
    "]\n",
    "\n",
    "# Make color options for standardized variables spi/spei/eddi\n",
    "minColorbar = -2.5\n",
    "maxColorbar = 2.5\n",
    "colorbarOptions1 = {\"min\": minColorbar, \"max\": maxColorbar, \"palette\": usdmColors}\n",
    "\n",
    "# Make color options for Palmer variables psdi/z\n",
    "minColorbar = -6\n",
    "maxColorbar = 6\n",
    "colorbarOptions2 = {\"min\": minColorbar, \"max\": maxColorbar, \"palette\": usdmColors}\n",
    "\n",
    "\n",
    "pdsi = pdsi_image.select(\"pdsi\")\n",
    "z = pdsi_image.select(\"z\")\n",
    "spi14d = pdsi_image.select(\"spi14d\")\n",
    "spi30d = pdsi_image.select(\"spi30d\")\n",
    "spi90d = pdsi_image.select(\"spi90d\")\n",
    "spi180d = pdsi_image.select(\"spi180d\")\n",
    "spi1y = pdsi_image.select(\"spi1y\")\n",
    "\n",
    "m.add_layer(pdsi, colorbarOptions2, \"PDSI\")\n",
    "m.add_layer(z, colorbarOptions2, \"Z-Index\")\n",
    "m.add_layer(spi14d, colorbarOptions1, \"SPI-14d\")\n",
    "m.add_layer(spi30d, colorbarOptions1, \"SPI-30d\")\n",
    "m.add_layer(spi90d, colorbarOptions1, \"SPI-90d\")\n",
    "m.add_layer(spi180d, colorbarOptions1, \"SPI-180d\")\n",
    "m.add_layer(spi1y, colorbarOptions1, \"SPI-1y\")\n",
    "\n",
    "m.add_colorbar(colorbarOptions2, layer_name=\"PDSI\")\n",
    "\n",
    "states = ee.FeatureCollection(\"TIGER/2018/States\").filterBounds(\n",
    "    ee.Geometry.BBox(-126.2109, 23.3221, -66.3574, 50.1206)\n",
    ")\n",
    "style = {\"color\": \"000000ff\", \"width\": 2, \"lineType\": \"solid\", \"fillColor\": \"00000000\"}\n",
    "m.add_layer(states.style(**style), {}, \"US States\")\n",
    "m"
   ]
  },
  {
   "cell_type": "code",
   "execution_count": null,
   "id": "108",
   "metadata": {},
   "outputs": [],
   "source": [
    "if m.user_roi is not None:\n",
    "    roi = m.user_rois\n",
    "else:\n",
    "    state = \"Nevada\"\n",
    "    roi = states.filter(ee.Filter.eq(\"NAME\", state))\n",
    "pdsi_col = (\n",
    "    ee.ImageCollection(\"GRIDMET/DROUGHT\")\n",
    "    .select(\"pdsi\")\n",
    "    .map(lambda img: img.clipToCollection(roi))\n",
    ")\n",
    "spi_col = (\n",
    "    ee.ImageCollection(\"GRIDMET/DROUGHT\")\n",
    "    .select(\"spi30d\")\n",
    "    .map(lambda img: img.clipToCollection(roi))\n",
    ")"
   ]
  },
  {
   "cell_type": "code",
   "execution_count": null,
   "id": "109",
   "metadata": {},
   "outputs": [],
   "source": [
    "pdsi_ts = geemap.create_timeseries(\n",
    "    pdsi_col,\n",
    "    start_date=\"1980-01-01\",\n",
    "    end_date=\"2024-07-01\",\n",
    "    frequency=\"month\",\n",
    "    reducer=\"mean\",\n",
    ")\n",
    "pdsi_ts"
   ]
  },
  {
   "cell_type": "code",
   "execution_count": null,
   "id": "110",
   "metadata": {},
   "outputs": [],
   "source": [
    "spi_ts = geemap.create_timeseries(\n",
    "    spi_col,\n",
    "    start_date=\"1980-01-01\",\n",
    "    end_date=\"2024-07-01\",\n",
    "    frequency=\"month\",\n",
    "    reducer=\"mean\",\n",
    ")\n",
    "spi_ts"
   ]
  },
  {
   "cell_type": "code",
   "execution_count": null,
   "id": "111",
   "metadata": {},
   "outputs": [],
   "source": [
    "dates = geemap.image_dates(pdsi_ts).getInfo()\n",
    "print(dates[:5])"
   ]
  },
  {
   "cell_type": "code",
   "execution_count": null,
   "id": "112",
   "metadata": {},
   "outputs": [],
   "source": [
    "m = geemap.Map()\n",
    "pdsi_image = pdsi_col.filterDate(\"2023-07-01\", \"2023-08-01\").first()\n",
    "spi_image = spi_col.filterDate(\"2023-07-01\", \"2023-08-01\").first()\n",
    "m.add_layer(pdsi_image, colorbarOptions2, \"PDSI\")\n",
    "m.add_layer(spi_image, colorbarOptions2, \"SPI\")\n",
    "m.centerObject(roi, 6)\n",
    "m.add_colorbar(colorbarOptions2, layer_name=\"PDSI\")\n",
    "m"
   ]
  },
  {
   "cell_type": "code",
   "execution_count": null,
   "id": "113",
   "metadata": {},
   "outputs": [],
   "source": [
    "pdsi_ts_image = pdsi_ts.toBands()\n",
    "spi_ts_image = spi_ts.toBands()"
   ]
  },
  {
   "cell_type": "code",
   "execution_count": null,
   "id": "114",
   "metadata": {},
   "outputs": [],
   "source": [
    "pdsi_csv = \"pdsi_stats.csv\"\n",
    "geemap.zonal_stats(pdsi_ts_image, roi, pdsi_csv, stat_type=\"MEAN\")"
   ]
  },
  {
   "cell_type": "code",
   "execution_count": null,
   "id": "115",
   "metadata": {},
   "outputs": [],
   "source": [
    "spi_csv = \"spi_stats.csv\"\n",
    "geemap.zonal_stats(spi_ts_image, roi, spi_csv, stat_type=\"MEAN\")"
   ]
  },
  {
   "cell_type": "code",
   "execution_count": null,
   "id": "116",
   "metadata": {},
   "outputs": [],
   "source": [
    "df = geemap.csv_to_df(pdsi_csv)\n",
    "pdsi_columns = [col for col in df.columns if \"pdsi\" in col.lower()]\n",
    "df_pdsi = df[pdsi_columns]\n",
    "df_pdsi = df_pdsi.T\n",
    "df_pdsi.columns = [\"pdsi\"]\n",
    "df_pdsi"
   ]
  },
  {
   "cell_type": "code",
   "execution_count": null,
   "id": "117",
   "metadata": {},
   "outputs": [],
   "source": [
    "df = geemap.csv_to_df(spi_csv)\n",
    "spi_columns = [col for col in df.columns if \"spi\" in col.lower()]\n",
    "df_spi = df[spi_columns]\n",
    "df_spi = df_spi.T\n",
    "df_spi.columns = [\"spi\"]\n",
    "df_spi"
   ]
  },
  {
   "cell_type": "code",
   "execution_count": null,
   "id": "118",
   "metadata": {},
   "outputs": [],
   "source": [
    "df_spi[\"spi\"].tolist()"
   ]
  },
  {
   "cell_type": "code",
   "execution_count": null,
   "id": "119",
   "metadata": {},
   "outputs": [],
   "source": [
    "df_pdsi[\"spi\"] = df_spi[\"spi\"].tolist()"
   ]
  },
  {
   "cell_type": "code",
   "execution_count": null,
   "id": "120",
   "metadata": {},
   "outputs": [],
   "source": [
    "df_pdsi[\"date\"] = dates\n",
    "df_pdsi.columns = [\"pdsi\", \"spi\", \"date\"]\n",
    "df_pdsi"
   ]
  },
  {
   "cell_type": "code",
   "execution_count": null,
   "id": "121",
   "metadata": {},
   "outputs": [],
   "source": [
    "geemap.bar_chart(df_pdsi, x=\"date\", y=[\"pdsi\"])"
   ]
  },
  {
   "cell_type": "code",
   "execution_count": null,
   "id": "122",
   "metadata": {},
   "outputs": [],
   "source": [
    "geemap.bar_chart(df_pdsi, x=\"date\", y=[\"spi\"])"
   ]
  },
  {
   "cell_type": "code",
   "execution_count": null,
   "id": "123",
   "metadata": {},
   "outputs": [],
   "source": [
    "geemap.bar_chart(df_pdsi, x=\"date\", y=[\"pdsi\", \"spi\"])"
   ]
  },
  {
   "cell_type": "code",
   "execution_count": null,
   "id": "124",
   "metadata": {},
   "outputs": [],
   "source": []
  },
  {
   "cell_type": "markdown",
   "id": "125",
   "metadata": {},
   "source": [
    "## Analyzing and visualizing precipitation data (30 mins)\n",
    "\n",
    "### Intro to precipitation datasets (e.g., ERA5, GPM, TRMM, CHIRPS)\n",
    "\n",
    "https://www.drought.gov/data-maps-tools/climate-and-drought-indices-python-spi-spei-pet\n",
    "\n",
    "https://developers.google.com/earth-engine/datasets/catalog/UCSB-CHG_CHIRPS_DAILY\n",
    "\n",
    "https://www.un-spider.org/advisory-support/recommended-practices/recommended-practice-drought-monitoring-spi/step-by-step\n",
    "\n",
    "\n",
    "https://developers.google.com/earth-engine/datasets/catalog/OREGONSTATE_PRISM_AN81d\n"
   ]
  },
  {
   "cell_type": "code",
   "execution_count": null,
   "id": "126",
   "metadata": {},
   "outputs": [],
   "source": [
    "dataset = (\n",
    "    ee.ImageCollection(\"OREGONSTATE/PRISM/AN81d\")\n",
    "    .select(\"ppt\")\n",
    "    .map(lambda img: img.clipToCollection(roi))\n",
    ")\n",
    "prism_ts = geemap.create_timeseries(\n",
    "    dataset, \"1981-01-01\", \"2024-07-01\", frequency=\"month\", reducer=\"sum\"\n",
    ")"
   ]
  },
  {
   "cell_type": "code",
   "execution_count": null,
   "id": "127",
   "metadata": {},
   "outputs": [],
   "source": [
    "prism_ts_image = prism_ts.toBands()"
   ]
  },
  {
   "cell_type": "code",
   "execution_count": null,
   "id": "128",
   "metadata": {},
   "outputs": [],
   "source": [
    "ppt_mean = prism_ts_image.reduce(ee.Reducer.mean())\n",
    "ppt_std = prism_ts_image.reduce(ee.Reducer.stdDev())"
   ]
  },
  {
   "cell_type": "code",
   "execution_count": null,
   "id": "129",
   "metadata": {},
   "outputs": [],
   "source": [
    "ppt_202307 = prism_ts.filterDate(\"2023-07-01\", \"2023-08-01\").first()"
   ]
  },
  {
   "cell_type": "code",
   "execution_count": null,
   "id": "130",
   "metadata": {},
   "outputs": [],
   "source": [
    "spi_202307 = ppt_202307.subtract(ppt_mean).divide(ppt_std)"
   ]
  },
  {
   "cell_type": "code",
   "execution_count": null,
   "id": "131",
   "metadata": {},
   "outputs": [],
   "source": [
    "m = geemap.Map()\n",
    "# Make a color palette that is similar to USDM drought classification\n",
    "usdmColors = [\n",
    "    \"#00ffff\",\n",
    "    \"#aaff55\",\n",
    "    \"#ffffff\",\n",
    "    \"#ffff00\",\n",
    "    \"#fcd37f\",\n",
    "    \"#ffaa00\",\n",
    "    \"#e60000\",\n",
    "    \"#730000\",\n",
    "]\n",
    "\n",
    "# Make color options for standardized variables spi/spei/eddi\n",
    "minColorbar = -2.5\n",
    "maxColorbar = 2.5\n",
    "colorbarOptions1 = {\"min\": minColorbar, \"max\": maxColorbar, \"palette\": usdmColors}\n",
    "\n",
    "m.add_layer(spi_202307, colorbarOptions1, \"SPI\")\n",
    "m.add_colorbar(colorbarOptions1, label=\"SPI\")\n",
    "m.center_object(roi, zoom=6)\n",
    "m"
   ]
  },
  {
   "cell_type": "code",
   "execution_count": null,
   "id": "132",
   "metadata": {},
   "outputs": [],
   "source": []
  },
  {
   "cell_type": "code",
   "execution_count": null,
   "id": "133",
   "metadata": {},
   "outputs": [],
   "source": []
  }
 ],
 "metadata": {
  "kernelspec": {
   "display_name": "Python 3",
   "language": "python",
   "name": "python3"
  },
  "language_info": {
   "codemirror_mode": {
    "name": "ipython",
    "version": 3
   },
   "file_extension": ".py",
   "mimetype": "text/x-python",
   "name": "python",
   "nbconvert_exporter": "python",
   "pygments_lexer": "ipython3",
   "version": "3.11.9"
  }
 },
 "nbformat": 4,
 "nbformat_minor": 5
}
