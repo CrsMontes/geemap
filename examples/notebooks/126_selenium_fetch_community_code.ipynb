{
 "cells": [
  {
   "cell_type": "markdown",
   "metadata": {},
   "source": [
    "<a href=\"https://githubtocolab.com/giswqs/geemap/blob/master/examples/notebooks/126_selenium_fetch_community_code.ipynb\" target=\"_parent\"><img src=\"https://colab.research.google.com/assets/colab-badge.svg\" alt=\"Open in Colab\"/></a>\n",
    "\n",
    "## Web retrieval code scripts from google earth engine\n",
    "\n",
    "- Requires login to google account\n",
    "- Blocked by default in many current [selenium](https://www.selenium.dev/) drivers\n",
    "- But is still possible using the [undetected_chromedriver](https://pypi.org/project/undetected-chromedriver/)\n",
    "\n",
    "Tested on local windows jupyter."
   ]
  },
  {
   "cell_type": "code",
   "execution_count": null,
   "metadata": {},
   "outputs": [],
   "source": [
    "#! pip install geemap\n",
    "#! pip install selenium\n",
    "#! pip install undetected_chromedriver"
   ]
  },
  {
   "cell_type": "markdown",
   "metadata": {},
   "source": [
    "## Open browser\n",
    "\n",
    "- needs some extras to allow setting download location (ChromeWithPrefs)\n",
    "- modify prefs download directory as required \n",
    "\n",
    "    prefs = {\"download.default_directory\": r\"%\\geemap\\geemap\\data\\awesome_gee\",}"
   ]
  },
  {
   "cell_type": "code",
   "execution_count": null,
   "metadata": {},
   "outputs": [],
   "source": [
    "prefs = {\n",
    "        \"download.default_directory\": r\"C:\\Users\\karel\\geemap\\geemap\\geemap\\data\\awesome_gee\",\n",
    "        }"
   ]
  },
  {
   "cell_type": "code",
   "execution_count": null,
   "metadata": {},
   "outputs": [],
   "source": [
    "### https://github.com/ultrafunkamsterdam/undetected-chromedriver/issues/524#issuecomment-1058340938\n",
    "\n",
    "import json\n",
    "import os\n",
    "import tempfile\n",
    "from functools import reduce\n",
    "\n",
    "import undetected_chromedriver as webdriver\n",
    "\n",
    "\n",
    "class ChromeWithPrefs(webdriver.Chrome):\n",
    "    def __init__(self, *args, options=None, **kwargs):\n",
    "        if options:\n",
    "            self._handle_prefs(options)\n",
    "\n",
    "        super().__init__(*args, options=options, **kwargs)\n",
    "\n",
    "        # remove the user_data_dir when quitting\n",
    "        self.keep_user_data_dir = False\n",
    "\n",
    "    @staticmethod\n",
    "    def _handle_prefs(options):\n",
    "        if prefs != options.experimental_options.get(\"prefs\"):\n",
    "            # turn a (dotted key, value) into a proper nested dict\n",
    "            def undot_key(key, value):\n",
    "                if \".\" in key:\n",
    "                    key, rest = key.split(\".\", 1)\n",
    "                    value = undot_key(rest, value)\n",
    "                return {key: value}\n",
    "\n",
    "            # undot prefs dict keys\n",
    "            undot_prefs = reduce(\n",
    "                lambda d1, d2: {**d1, **d2},  # merge dicts\n",
    "                (undot_key(key, value) for key, value in prefs.items()),\n",
    "            )\n",
    "\n",
    "            # create an user_data_dir and add its path to the options\n",
    "            user_data_dir = os.path.normpath(tempfile.mkdtemp())\n",
    "            options.add_argument(f\"--user-data-dir={user_data_dir}\")\n",
    "\n",
    "            # create the preferences json file in its default directory\n",
    "            default_dir = os.path.join(user_data_dir, \"Default\")\n",
    "            os.mkdir(default_dir)\n",
    "\n",
    "            prefs_file = os.path.join(default_dir, \"Preferences\")\n",
    "            with open(prefs_file, encoding=\"latin1\", mode=\"w\") as f:\n",
    "                json.dump(undot_prefs, f)\n",
    "\n",
    "            # pylint: disable=protected-access\n",
    "            # remove the experimental_options to avoid an error\n",
    "            del options._experimental_options[\"prefs\"]    "
   ]
  },
  {
   "cell_type": "markdown",
   "metadata": {},
   "source": [
    "## Manually log in\n",
    "\n",
    "In newly opened browser window fill in\n",
    "\n",
    "- username\n",
    "- password\n",
    "\n",
    "\n",
    "Leave the browser open. "
   ]
  },
  {
   "cell_type": "code",
   "execution_count": null,
   "metadata": {},
   "outputs": [],
   "source": [
    "options = webdriver.ChromeOptions()\n",
    "options.add_experimental_option(\"prefs\", prefs)\n",
    "\n",
    "# use the derived Chrome class that handles prefs\n",
    "driver = ChromeWithPrefs(options=options)\n",
    "driver.get('https://www.google.com/accounts/Login')"
   ]
  },
  {
   "cell_type": "markdown",
   "metadata": {},
   "source": [
    "## Go get a cup of coffee / tea\n",
    "\n",
    "- attempts to fetch each code example from community datasets\n",
    "- plus 900 datasources (with duplicates, 140 unique ones)\n",
    "- takes about 1-3 seconds per page. \n",
    "- not all can be loaded (f.e. those using https://earthenv-dot-map-of-life.appspot.com/)"
   ]
  },
  {
   "cell_type": "code",
   "execution_count": null,
   "metadata": {},
   "outputs": [],
   "source": [
    "import geemap\n",
    "import os\n",
    "import time\n",
    "\n",
    "memory = {}"
   ]
  },
  {
   "cell_type": "code",
   "execution_count": null,
   "metadata": {
    "scrolled": false
   },
   "outputs": [],
   "source": [
    "def load_all():\n",
    "    \n",
    "    failed = list()\n",
    "    known = 0\n",
    "\n",
    "    def get_community_examples():   \n",
    "        assets = geemap.search_ee_data('', source='community')\n",
    "        for asset in assets:\n",
    "            asset['uri'] = asset['sample_code'].replace('https://code.earthengine.google.com/',\n",
    "                                      'https://code.earthengine.google.com/scripts/public/load?id=')\n",
    "        return [x for x in assets if 'google' in x['uri']]  \n",
    "    \n",
    "    def get_ee_code(uri, label):\n",
    "       \n",
    "        name = \"f.json\"\n",
    "        path = os.path.join(prefs[\"download.default_directory\"], name)\n",
    "        \n",
    "        if os.path.exists(path):\n",
    "            os.remove(path)\n",
    "            \n",
    "        uuid = uri.replace('https://code.earthengine.google.com/scripts/public/load?id=','')         \n",
    "        if uuid not in memory:\n",
    "        \n",
    "            driver.get(uri)       \n",
    "            time.sleep(2)\n",
    "            \n",
    "            counter = 0   \n",
    "            while not os.path.isfile(path) and counter < 6:\n",
    "                counter += 1\n",
    "                time.sleep(2)\n",
    "            try:\n",
    "                with open(path) as f:\n",
    "                    script = json.load(f)['code']\n",
    "                    memory[uuid] = script\n",
    "                    os.remove(path)\n",
    "            except:\n",
    "                failed.append(y)\n",
    "        else: \n",
    "            known += 1\n",
    "    \n",
    "    for ix, (x,y) in enumerate([(asset['uri'], asset['title']) for asset in get_community_examples()]):\n",
    "        if not ix%20:\n",
    "            print(f'Fetch {ix}')\n",
    "        try:\n",
    "            get_ee_code(x,y)\n",
    "        except Exception as e:\n",
    "            failed.append(y)\n",
    "            raise(e)\n",
    "            \n",
    "    return failed, known\n",
    "\n",
    "failed = load_all()\n",
    "failed = load_all()\n",
    "failed, known = load_all()"
   ]
  },
  {
   "cell_type": "code",
   "execution_count": null,
   "metadata": {
    "scrolled": true
   },
   "outputs": [],
   "source": [
    "from collections import Counter\n",
    "\n",
    "known, len(failed), len(set(failed)), Counter(failed)"
   ]
  },
  {
   "cell_type": "markdown",
   "metadata": {},
   "source": [
    "## Unable to import these"
   ]
  },
  {
   "cell_type": "code",
   "execution_count": null,
   "metadata": {},
   "outputs": [],
   "source": [
    "{'Cloud Forest Prediction': 1,\n",
    "          'Mapbiomas: Final Integrated Land Use Land Cover Maps': 1,\n",
    "          'Mapbiomas: Maps of Annual water coverage Collection 6': 1,\n",
    "          'Mapbiomas: Maps of Annual water frequency Collection 6': 1,\n",
    "          'Mapbiomas: Maps of Deforestation Regeneration Collection 6': 1,\n",
    "          'Mapbiomas: Maps of Mined substances Collection 6': 1,\n",
    "          'Mapbiomas: Maps of Pasture quality Collection 6': 1,\n",
    "          'Mapbiomas: Maps of annual burned coverage Collection 6': 1,\n",
    "          'Mapbiomas: Maps of fire frequency Collection 6': 1,\n",
    "          'Mapbiomas: Maps of irrigated agriculture': 1,\n",
    "          'Mapbiomas: Maps of monthly burned coverage Collection 6': 1,\n",
    "          'Mapbiomas: Maps of quality (change in coverage or use) between selected years': 1,\n",
    "          'Mapbiomas: Maps of transition areas (change in coverage or use) between selected years': 1,\n",
    "          'Mapbiomas: Mosaic of Landsat Images for each year of Collection 6': 1,\n",
    "          'Mean annual cloud frequency': 1,\n",
    "          'Mean between-year seasonality': 1,\n",
    "          'Mean monthly cloud frequency': 1,\n",
    "          'Rangeland-Analysis-Platform: NPP partitioned v2': 1,\n",
    "          'Rangeland-Analysis-Platform: Vegetation Cover v2': 1,\n",
    "          'Seasonality concentration and angle (theta)': 1,\n",
    "          'Seasonality single band with color table': 1,\n",
    "          'Spatial variability (1 degree SD)': 1,\n",
    "          'Timing of peak seasonal cloud concentration': 1,\n",
    "          'Within-year seasonality': 1}"
   ]
  },
  {
   "cell_type": "code",
   "execution_count": null,
   "metadata": {},
   "outputs": [],
   "source": [
    "len(memory), "
   ]
  },
  {
   "cell_type": "code",
   "execution_count": null,
   "metadata": {},
   "outputs": [],
   "source": [
    "name = \"community_f.json\"\n",
    "path = os.path.join(prefs[\"download.default_directory\"], name)\n",
    "\n",
    "with open(path, 'w') as f:\n",
    "    f.write(json.dumps(memory))"
   ]
  },
  {
   "cell_type": "markdown",
   "metadata": {},
   "source": [
    "## Update to repository\n",
    "\n",
    "https://github.com/giswqs/geemap/data/community_f.json"
   ]
  },
  {
   "cell_type": "markdown",
   "metadata": {},
   "source": [
    "## Verify usage"
   ]
  },
  {
   "cell_type": "code",
   "execution_count": null,
   "metadata": {},
   "outputs": [],
   "source": [
    "Map = geemap.Map()\n",
    "Map"
   ]
  },
  {
   "cell_type": "code",
   "execution_count": null,
   "metadata": {},
   "outputs": [],
   "source": []
  }
 ],
 "metadata": {
  "kernelspec": {
   "display_name": "Python 3",
   "language": "python",
   "name": "python3"
  },
  "language_info": {
   "codemirror_mode": {
    "name": "ipython",
    "version": 3
   },
   "file_extension": ".py",
   "mimetype": "text/x-python",
   "name": "python",
   "nbconvert_exporter": "python",
   "pygments_lexer": "ipython3",
   "version": "3.7.6"
  }
 },
 "nbformat": 4,
 "nbformat_minor": 4
}
