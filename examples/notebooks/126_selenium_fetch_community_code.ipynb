{
 "cells": [
  {
   "cell_type": "markdown",
   "metadata": {},
   "source": [
    "<a href=\"https://githubtocolab.com/giswqs/geemap/blob/master/examples/notebooks/126_selenium_fetch_community_code.ipynb\" target=\"_parent\"><img src=\"https://colab.research.google.com/assets/colab-badge.svg\" alt=\"Open in Colab\"/></a>\n",
    "\n",
    "## Web retrieval code scripts from google earth engine\n",
    "\n",
    "- Requires login to google account\n",
    "- Blocked by default in many current [selenium](https://www.selenium.dev/) drivers\n",
    "- But is still possible using the [undetected_chromedriver](https://pypi.org/project/undetected-chromedriver/)\n",
    "\n",
    "Tested on local windows jupyter."
   ]
  },
  {
   "cell_type": "code",
   "execution_count": 1,
   "metadata": {},
   "outputs": [],
   "source": [
    "#! pip install geemap\n",
    "#! pip install selenium\n",
    "#! pip install undetected_chromedriver"
   ]
  },
  {
   "cell_type": "markdown",
   "metadata": {},
   "source": [
    "## Open browser\n",
    "\n",
    "- needs some extras to allow setting download location (ChromeWithPrefs)\n",
    "- modify prefs download directory as required \n",
    "\n",
    "    prefs = {\"download.default_directory\": r\"%\\geemap\\geemap\\data\\awesome_gee\",}"
   ]
  },
  {
   "cell_type": "code",
   "execution_count": null,
   "metadata": {},
   "outputs": [],
   "source": [
    "prefs = {\n",
    "        \"download.default_directory\": r\"C:\\Users\\karel\\geemap\\geemap\\geemap\\data\\awesome_gee\",\n",
    "        }"
   ]
  },
  {
   "cell_type": "code",
   "execution_count": null,
   "metadata": {},
   "outputs": [],
   "source": [
    "### https://github.com/ultrafunkamsterdam/undetected-chromedriver/issues/524#issuecomment-1058340938\n",
    "\n",
    "import json\n",
    "import os\n",
    "import tempfile\n",
    "from functools import reduce\n",
    "\n",
    "import undetected_chromedriver as webdriver\n",
    "\n",
    "\n",
    "class ChromeWithPrefs(webdriver.Chrome):\n",
    "    def __init__(self, *args, options=None, **kwargs):\n",
    "        if options:\n",
    "            self._handle_prefs(options)\n",
    "\n",
    "        super().__init__(*args, options=options, **kwargs)\n",
    "\n",
    "        # remove the user_data_dir when quitting\n",
    "        self.keep_user_data_dir = False\n",
    "\n",
    "    @staticmethod\n",
    "    def _handle_prefs(options):\n",
    "        if prefs != options.experimental_options.get(\"prefs\"):\n",
    "            # turn a (dotted key, value) into a proper nested dict\n",
    "            def undot_key(key, value):\n",
    "                if \".\" in key:\n",
    "                    key, rest = key.split(\".\", 1)\n",
    "                    value = undot_key(rest, value)\n",
    "                return {key: value}\n",
    "\n",
    "            # undot prefs dict keys\n",
    "            undot_prefs = reduce(\n",
    "                lambda d1, d2: {**d1, **d2},  # merge dicts\n",
    "                (undot_key(key, value) for key, value in prefs.items()),\n",
    "            )\n",
    "\n",
    "            # create an user_data_dir and add its path to the options\n",
    "            user_data_dir = os.path.normpath(tempfile.mkdtemp())\n",
    "            options.add_argument(f\"--user-data-dir={user_data_dir}\")\n",
    "\n",
    "            # create the preferences json file in its default directory\n",
    "            default_dir = os.path.join(user_data_dir, \"Default\")\n",
    "            os.mkdir(default_dir)\n",
    "\n",
    "            prefs_file = os.path.join(default_dir, \"Preferences\")\n",
    "            with open(prefs_file, encoding=\"latin1\", mode=\"w\") as f:\n",
    "                json.dump(undot_prefs, f)\n",
    "\n",
    "            # pylint: disable=protected-access\n",
    "            # remove the experimental_options to avoid an error\n",
    "            del options._experimental_options[\"prefs\"]    "
   ]
  },
  {
   "cell_type": "markdown",
   "metadata": {},
   "source": [
    "## Manually log in\n",
    "\n",
    "In newly opened browser window fill in\n",
    "\n",
    "- username\n",
    "- password\n",
    "\n",
    "\n",
    "Leave the browser open. "
   ]
  },
  {
   "cell_type": "code",
   "execution_count": null,
   "metadata": {},
   "outputs": [],
   "source": [
    "options = webdriver.ChromeOptions()\n",
    "options.add_experimental_option(\"prefs\", prefs)\n",
    "\n",
    "# use the derived Chrome class that handles prefs\n",
    "driver = ChromeWithPrefs(options=options)\n",
    "driver.get('https://www.google.com/accounts/Login')"
   ]
  },
  {
   "cell_type": "markdown",
   "metadata": {},
   "source": [
    "## Retrieve the code examples"
   ]
  },
  {
   "cell_type": "code",
   "execution_count": null,
   "metadata": {},
   "outputs": [],
   "source": [
    "import os\n",
    "import time\n",
    "\n",
    "def get_ee_code(uri='https://code.earthengine.google.com/scripts/public/load?id=7592ab36de453d718aab7291692abb88', label='test_example'):\n",
    "    \n",
    "    code = uri.replace('https://code.earthengine.google.com/scripts/public/load?id=','')\n",
    "    old_name = \"f.json\"\n",
    "    new_name = f\"{code}.json\"\n",
    "    old = os.path.join(prefs[\"download.default_directory\"], old_name)\n",
    "    new = os.path.join(prefs[\"download.default_directory\"], new_name)\n",
    "    \n",
    "    if os.path.isfile(old):\n",
    "        os.remove(old)\n",
    "    \n",
    "    driver.get(uri)\n",
    "    time.sleep(1)  \n",
    "    \n",
    "    counter = 0\n",
    "    while not os.path.isfile(old) and counter < 12:\n",
    "        time.sleep(1)\n",
    "        counter += 1\n",
    "        \n",
    "    if os.path.isfile(new):\n",
    "        # print(f\"The file already exists: {code[:4]}, {label}\")\n",
    "        os.remove(new)       \n",
    "    os.rename(old, new)\n"
   ]
  },
  {
   "cell_type": "code",
   "execution_count": null,
   "metadata": {},
   "outputs": [],
   "source": [
    "get_ee_code()"
   ]
  },
  {
   "cell_type": "markdown",
   "metadata": {},
   "source": [
    "## Go get a cup of coffee / tea\n",
    "\n",
    "- attempts to fetch each code example from community datasets\n",
    "- plus 900 datasources (with duplicates, 140 unique ones)\n",
    "- takes about 1-3 seconds per page. \n",
    "- not all can be loaded (f.e. those using https://earthenv-dot-map-of-life.appspot.com/)"
   ]
  },
  {
   "cell_type": "code",
   "execution_count": null,
   "metadata": {
    "scrolled": false
   },
   "outputs": [],
   "source": [
    "import geemap\n",
    "\n",
    "def get_community_examples():\n",
    "    assets = geemap.search_ee_data('', source='community')\n",
    "    for asset in assets:\n",
    "        asset['uri'] = asset['sample_code'].replace('https://code.earthengine.google.com/',\n",
    "                                  'https://code.earthengine.google.com/scripts/public/load?id=')\n",
    "    return assets\n",
    "\n",
    "seen = set()\n",
    "\n",
    "for ix, (x,y) in enumerate([(asset['uri'], asset['title']) for asset in get_community_examples()]):\n",
    "    if not ix%20:\n",
    "        print(ix)\n",
    "    try:\n",
    "        if x not in seen:\n",
    "            get_ee_code(x,y)\n",
    "            seen.add(x)\n",
    "    except:\n",
    "        print(f\"Failed loading code for {x}, {x}\")"
   ]
  },
  {
   "cell_type": "markdown",
   "metadata": {},
   "source": [
    "## Update to repository\n",
    "\n",
    "https://github.com/giswqs/geemap"
   ]
  },
  {
   "cell_type": "code",
   "execution_count": null,
   "metadata": {},
   "outputs": [],
   "source": []
  }
 ],
 "metadata": {
  "kernelspec": {
   "display_name": "Python 3",
   "language": "python",
   "name": "python3"
  },
  "language_info": {
   "codemirror_mode": {
    "name": "ipython",
    "version": 3
   },
   "file_extension": ".py",
   "mimetype": "text/x-python",
   "name": "python",
   "nbconvert_exporter": "python",
   "pygments_lexer": "ipython3",
   "version": "3.7.6"
  }
 },
 "nbformat": 4,
 "nbformat_minor": 4
}
