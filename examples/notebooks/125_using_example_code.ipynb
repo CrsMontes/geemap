{
 "cells": [
  {
   "cell_type": "markdown",
   "metadata": {},
   "source": [
    "<a href=\"https://githubtocolab.com/giswqs/geemap/blob/master/examples/notebooks/125_using_example_cde_.ipynb\" target=\"_parent\"><img src=\"https://colab.research.google.com/assets/colab-badge.svg\" alt=\"Open in Colab\"/></a>\n",
    "\n",
    "**Using Earth engine examples**\n",
    "\n",
    "\n",
    "- ee datasets seem to come from https://code.earthengine.google.com/scripts/load\n",
    "- When logged into gee, this link returns a f.json. It contains all code examples from the docs, including the datasets.\n",
    "- community datasets can be accessed using git from https://earthengine.googlesource.com\n",
    "- which in many cases can be translated into python code\n",
    "- this should make it feasible to use the code examples directly into geemap\n",
    "\n",
    "Uncomment the following line to install [geemap](https://geemap.org) if needed."
   ]
  },
  {
   "cell_type": "code",
   "execution_count": 1,
   "metadata": {},
   "outputs": [],
   "source": [
    "# !pip install -U geemap"
   ]
  },
  {
   "cell_type": "code",
   "execution_count": 2,
   "metadata": {},
   "outputs": [],
   "source": [
    "import ee\n",
    "import geemap\n",
    "import json\n",
    "# import requests"
   ]
  },
  {
   "cell_type": "markdown",
   "metadata": {},
   "source": [
    "## Manually download f.json \n",
    "https://code.earthengine.google.com/scripts/load"
   ]
  },
  {
   "cell_type": "markdown",
   "metadata": {},
   "source": [
    "## Explore json contents\n",
    "\n",
    "f.json has been added to repo as data/gee_f.json. New collections might be missing if gee_f not updated in repository.\n",
    "\n",
    "Change below open file location path as required to inspect current defs."
   ]
  },
  {
   "cell_type": "markdown",
   "metadata": {},
   "source": []
  },
  {
   "cell_type": "code",
   "execution_count": null,
   "metadata": {},
   "outputs": [],
   "source": [
    "with open(r'c:\\users\\karel\\downloads\\f.json', encoding=\"utf-8\") as f:\n",
    "    functions = json.load(f)\n",
    "\n",
    "functions.keys()"
   ]
  },
  {
   "cell_type": "code",
   "execution_count": null,
   "metadata": {},
   "outputs": [],
   "source": [
    "[(x['name'], len(x['contents'])) for x in functions['examples']]"
   ]
  },
  {
   "cell_type": "markdown",
   "metadata": {},
   "source": [
    "## Details"
   ]
  },
  {
   "cell_type": "code",
   "execution_count": null,
   "metadata": {},
   "outputs": [],
   "source": [
    "details = [(dataset['name'], dataset['code']) \n",
    "                   for x in functions['examples'] \n",
    "                   for dataset in x['contents'] \n",
    "           if x['name'] == 'Datasets']\n",
    "details[0]"
   ]
  },
  {
   "cell_type": "markdown",
   "metadata": {},
   "source": [
    "## Convert js to py"
   ]
  },
  {
   "cell_type": "code",
   "execution_count": null,
   "metadata": {},
   "outputs": [],
   "source": [
    "def get_py(js):\n",
    "    try:\n",
    "        return geemap.js_snippet_to_py(js, \n",
    "                                       add_new_cell=False, \n",
    "                                       import_ee=False, \n",
    "                                       import_geemap=False, \n",
    "                                       show_map=False)\n",
    "    except:\n",
    "        return None\n",
    "\n",
    "results_convert = [get_py(js) for _,js in details]\n",
    "\n"
   ]
  },
  {
   "cell_type": "code",
   "execution_count": null,
   "metadata": {},
   "outputs": [],
   "source": [
    "len(details), len(results_convert)"
   ]
  },
  {
   "cell_type": "markdown",
   "metadata": {},
   "source": [
    "Except for 2 cases, converts ran without error."
   ]
  },
  {
   "cell_type": "code",
   "execution_count": null,
   "metadata": {},
   "outputs": [],
   "source": [
    "len([x for x in results_convert if x])"
   ]
  },
  {
   "cell_type": "markdown",
   "metadata": {},
   "source": [
    "## Verify availability"
   ]
  },
  {
   "cell_type": "code",
   "execution_count": null,
   "metadata": {},
   "outputs": [],
   "source": [
    "from geemap import datasets\n",
    "\n",
    "len(datasets.get_ee_stac_list())"
   ]
  },
  {
   "cell_type": "code",
   "execution_count": null,
   "metadata": {},
   "outputs": [],
   "source": [
    "known_datasets = set(name.replace('/','_') for name in datasets.get_ee_stac_list())\n",
    "known_code = set(name for name,_ in details)"
   ]
  },
  {
   "cell_type": "markdown",
   "metadata": {},
   "source": [
    "## Only some have exact matches"
   ]
  },
  {
   "cell_type": "code",
   "execution_count": null,
   "metadata": {},
   "outputs": [],
   "source": [
    "len(known_code & known_datasets)"
   ]
  },
  {
   "cell_type": "markdown",
   "metadata": {},
   "source": [
    "Sometimes there is a 2-example available for a dataset, mostly FeatureViews."
   ]
  },
  {
   "cell_type": "code",
   "execution_count": null,
   "metadata": {},
   "outputs": [],
   "source": [
    "excess = (known_code - known_datasets)"
   ]
  },
  {
   "cell_type": "code",
   "execution_count": null,
   "metadata": {},
   "outputs": [],
   "source": [
    "len(excess)"
   ]
  },
  {
   "cell_type": "code",
   "execution_count": null,
   "metadata": {},
   "outputs": [],
   "source": [
    "excess_no_featureview = set(x.replace('_FeatureView','') for x in known_code)\n",
    "len(excess_no_featureview - known_datasets)"
   ]
  },
  {
   "cell_type": "markdown",
   "metadata": {},
   "source": [
    "Leftovers"
   ]
  },
  {
   "cell_type": "code",
   "execution_count": null,
   "metadata": {
    "scrolled": false
   },
   "outputs": [],
   "source": [
    "(excess_no_featureview - known_datasets)"
   ]
  },
  {
   "cell_type": "markdown",
   "metadata": {},
   "source": [
    "## Datasets without examples"
   ]
  },
  {
   "cell_type": "code",
   "execution_count": null,
   "metadata": {},
   "outputs": [],
   "source": [
    "missing_code = known_datasets - known_code\n",
    "len(missing_code)"
   ]
  },
  {
   "cell_type": "markdown",
   "metadata": {},
   "source": [
    "These are also missing in gee itself (logically as these load from f.json). \n",
    "\n",
    "- https://code.earthengine.google.com/?scriptPath=Examples%3ADatasets%2FLANDSAT_LC8\n",
    "\n",
    "Deprecated stuff afaik, s.a. Landsat LT1"
   ]
  },
  {
   "cell_type": "code",
   "execution_count": null,
   "metadata": {},
   "outputs": [],
   "source": [
    "missing_code"
   ]
  },
  {
   "cell_type": "code",
   "execution_count": null,
   "metadata": {},
   "outputs": [],
   "source": [
    "from geemap import common \n",
    "\n",
    "[x['title'] for x in common.search_ee_data('LANDSAT L1T')][:5]"
   ]
  },
  {
   "cell_type": "code",
   "execution_count": null,
   "metadata": {
    "scrolled": true
   },
   "outputs": [],
   "source": [
    "[(x['uid'],x['title']) for x in common.search_ee_data('MODIS MYD')][:5]"
   ]
  },
  {
   "cell_type": "code",
   "execution_count": null,
   "metadata": {},
   "outputs": [],
   "source": [
    "from geemap import Map\n",
    "\n",
    "Map()"
   ]
  }
 ],
 "metadata": {
  "anaconda-cloud": {},
  "kernelspec": {
   "display_name": "Python 3.7.6 64-bit ('Anaconda3')",
   "language": "python",
   "name": "python3"
  },
  "language_info": {
   "codemirror_mode": {
    "name": "ipython",
    "version": 3
   },
   "file_extension": ".py",
   "mimetype": "text/x-python",
   "name": "python",
   "nbconvert_exporter": "python",
   "pygments_lexer": "ipython3",
   "version": "3.7.6"
  },
  "vscode": {
   "interpreter": {
    "hash": "b140e27edd2e2c781b067500afeeb13a230e756519a5957c5e99e6a5940dd744"
   }
  }
 },
 "nbformat": 4,
 "nbformat_minor": 4
}
