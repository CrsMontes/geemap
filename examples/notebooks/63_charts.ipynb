{
    "cells": [
        {
            "cell_type": "markdown",
            "metadata": {},
            "source": [
                "<a href=\"https://githubtocolab.com/gee-community/geemap/blob/master/examples/notebooks/63_charts.ipynb\" target=\"_parent\"><img src=\"https://colab.research.google.com/assets/colab-badge.svg\" alt=\"Open in Colab\"/></a>"
            ]
        },
        {
            "cell_type": "markdown",
            "metadata": {},
            "source": [
                "**Chart Overview**\n",
                "\n",
                "Reference: https://developers.google.com/earth-engine/guides/charts_feature#column_chart"
            ]
        },
        {
            "cell_type": "code",
            "execution_count": null,
            "metadata": {},
            "outputs": [],
            "source": [
                "import calendar\n",
                "import ee\n",
                "import geemap\n",
                "import geemap.chart as chart"
            ]
        },
        {
            "cell_type": "markdown",
            "metadata": {},
            "source": [
                "## Creating a chart from ee.FeatureCollection by feature\n",
                "\n",
                "Reference: https://developers.google.com/earth-engine/guides/charts_feature#uichartfeaturebyfeature"
            ]
        },
        {
            "cell_type": "code",
            "execution_count": null,
            "metadata": {},
            "outputs": [],
            "source": [
                "m = geemap.Map()\n",
                "features = ee.FeatureCollection('projects/google/charts_feature_example').select(\n",
                "    '[0-9][0-9]_tmean|label'\n",
                ")\n",
                "m.addLayer(features, {}, \"Ecoregions\")\n",
                "m"
            ]
        },
        {
            "cell_type": "code",
            "execution_count": null,
            "metadata": {},
            "outputs": [],
            "source": [
                "df = geemap.ee_to_df(features)\n",
                "df"
            ]
        },
        {
            "cell_type": "code",
            "execution_count": null,
            "metadata": {},
            "outputs": [],
            "source": [
                "xProperty = \"label\"\n",
                "yProperties = [str(x).zfill(2) + \"_tmean\" for x in range(1, 13)]\n",
                "labels = list(calendar.month_abbr)[1:] # a list of month labels, e.g. ['Jan', 'Feb', ...]\n",
                "title = \"Average Monthly Temperature by Ecoregion\"\n",
                "xlabel = \"Ecoregion\"\n",
                "ylabel = \"Temperature\""
            ]
        },
        {
            "cell_type": "code",
            "execution_count": null,
            "metadata": {},
            "outputs": [],
            "source": [
                "options = {\n",
                "    \"labels\": labels,\n",
                "    \"title\": title,\n",
                "    \"xlabel\": xlabel,\n",
                "    \"ylabel\": ylabel,\n",
                "    \"legend_location\": \"top-left\",\n",
                "    \"height\": \"500px\",\n",
                "    # \"colors\": ['red', 'green', 'blue'],\n",
                "}"
            ]
        },
        {
            "cell_type": "code",
            "execution_count": null,
            "metadata": {},
            "outputs": [],
            "source": [
                "chart.feature_byFeature(features, xProperty, yProperties, **options)"
            ]
        },
        {
            "cell_type": "markdown",
            "metadata": {},
            "source": [
                "![](https://i.imgur.com/9xzsUxg.png)"
            ]
        },
        {
            "cell_type": "markdown",
            "metadata": {},
            "source": [
                "## Creating a chart from ee.FeatureCollection by property\n",
                "\n",
                "Reference: https://developers.google.com/earth-engine/guides/charts_feature#uichartfeaturebyproperty"
            ]
        },
        {
            "cell_type": "code",
            "execution_count": null,
            "metadata": {},
            "outputs": [],
            "source": [
                "features = ee.FeatureCollection('projects/google/charts_feature_example').select(\n",
                "    '[0-9][0-9]_ppt|label'\n",
                ")"
            ]
        },
        {
            "cell_type": "code",
            "execution_count": null,
            "metadata": {},
            "outputs": [],
            "source": [
                "df = geemap.ee_to_df(features)\n",
                "df"
            ]
        },
        {
            "cell_type": "code",
            "execution_count": null,
            "metadata": {},
            "outputs": [],
            "source": [
                "keys = [str(x).zfill(2) + \"_ppt\" for x in range(1, 13)]\n",
                "values = list(calendar.month_abbr)[1:] # a list of month labels, e.g. ['Jan', 'Feb', ...]"
            ]
        },
        {
            "cell_type": "code",
            "execution_count": null,
            "metadata": {},
            "outputs": [],
            "source": [
                "xProperties = dict(zip(keys, values))\n",
                "seriesProperty = \"label\""
            ]
        },
        {
            "cell_type": "code",
            "execution_count": null,
            "metadata": {},
            "outputs": [],
            "source": [
                "options = {\n",
                "    'title': \"Average Ecoregion Precipitation by Month\",\n",
                "    'colors': ['#f0af07', '#0f8755', '#76b349'],\n",
                "    'xlabel': \"Month\",\n",
                "    'ylabel': \"Precipitation (mm)\",\n",
                "    'legend_location': \"top-left\",\n",
                "    \"height\": \"500px\",\n",
                "}"
            ]
        },
        {
            "cell_type": "code",
            "execution_count": null,
            "metadata": {},
            "outputs": [],
            "source": [
                "chart.feature_byProperty(features, xProperties, seriesProperty, **options)"
            ]
        },
        {
            "cell_type": "markdown",
            "metadata": {},
            "source": [
                "![](https://i.imgur.com/mS3vzHJ.png)"
            ]
        },
        {
            "cell_type": "markdown",
            "metadata": {},
            "source": [
                "## Creating a chart from ee.FeatureCollection from a group of features\n",
                "Reference: https://developers.google.com/earth-engine/guides/charts_feature#uichartfeaturegroups"
            ]
        },
        {
            "cell_type": "code",
            "execution_count": null,
            "metadata": {},
            "outputs": [],
            "source": [
                "features = ee.FeatureCollection('projects/google/charts_feature_example')\n",
                "xProperty = 'label'\n",
                "yProperty = '01_tmean'\n",
                "seriesProperty = 'warm'"
            ]
        },
        {
            "cell_type": "code",
            "execution_count": null,
            "metadata": {},
            "outputs": [],
            "source": [
                "options = {\n",
                "    'title': \"Average January Temperature by Ecoregion\",\n",
                "    'colors': ['#cf513e', '#1d6b99'],\n",
                "    'xlabel': \"Ecoregion\",\n",
                "    'ylabel': \"Jan temp (C)\",\n",
                "    'legend_location': \"top-right\",\n",
                "    'height': \"500px\",\n",
                "    'labels': [\"Warm\", \"Cold\"],\n",
                "}"
            ]
        },
        {
            "cell_type": "code",
            "execution_count": null,
            "metadata": {},
            "outputs": [],
            "source": [
                "chart.feature_groups(features, xProperty, yProperty, seriesProperty, **options)"
            ]
        },
        {
            "cell_type": "markdown",
            "id": "bfd431a7",
            "metadata": {},
            "source": [
                "## Image Charts\n",
                "\n",
                "Reference: https://developers.google.com/earth-engine/guides/charts_image"
            ]
        },
        {
            "cell_type": "markdown",
            "id": "3c8c9d5e",
            "metadata": {},
            "source": [
                "### Image chart by regions"
            ]
        },
        {
            "cell_type": "code",
            "execution_count": null,
            "id": "bde5d45b",
            "metadata": {},
            "outputs": [],
            "source": [
                "ecoregions = ee.FeatureCollection('projects/google/charts_feature_example')\n",
                "normClim = ee.ImageCollection('OREGONSTATE/PRISM/Norm81m').toBands().select('[0-9][0-9]_tmean')\n",
                "labels = list(calendar.month_abbr)[1:] # a list of month labels, e.g. ['Jan', 'Feb', ...]"
            ]
        },
        {
            "cell_type": "code",
            "execution_count": null,
            "id": "035a392b",
            "metadata": {},
            "outputs": [],
            "source": [
                "chart.image_byRegion(\n",
                "    image=normClim, \n",
                "    regions=ecoregions, \n",
                "    reducer=\"mean\", \n",
                "    scale=500, \n",
                "    xProperty='label', \n",
                "    xlabel='Ecoregion',\n",
                "    ylabel='Temperature',\n",
                "    labels=labels,\n",
                "    # colors=['red', 'green', 'blue'],\n",
                "    )"
            ]
        },
        {
            "cell_type": "markdown",
            "id": "abac630a",
            "metadata": {},
            "source": [
                "![](https://i.imgur.com/zLSEJLK.png)"
            ]
        }
    ],
    "metadata": {
        "kernelspec": {
            "display_name": "Python 3",
            "language": "python",
            "name": "python3"
        },
        "language_info": {
            "codemirror_mode": {
                "name": "ipython",
                "version": 3
            },
            "file_extension": ".py",
            "mimetype": "text/x-python",
            "name": "python",
            "nbconvert_exporter": "python",
            "pygments_lexer": "ipython3",
            "version": "3.11.6"
        }
    },
    "nbformat": 4,
    "nbformat_minor": 5
}
