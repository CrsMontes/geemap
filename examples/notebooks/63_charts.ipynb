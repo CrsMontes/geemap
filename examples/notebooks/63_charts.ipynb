{
    "cells": [
        {
            "cell_type": "markdown",
            "metadata": {},
            "source": [
                "<a href=\"https://githubtocolab.com/gee-community/geemap/blob/master/examples/notebooks/63_charts.ipynb\" target=\"_parent\"><img src=\"https://colab.research.google.com/assets/colab-badge.svg\" alt=\"Open in Colab\"/></a>"
            ]
        },
        {
            "cell_type": "markdown",
            "metadata": {},
            "source": [
                "**Chart Overview**\n",
                "\n",
                "Reference: https://developers.google.com/earth-engine/guides/charts_feature#column_chart"
            ]
        },
        {
            "cell_type": "code",
            "execution_count": 16,
            "metadata": {},
            "outputs": [
                {
                    "data": {
                        "text/html": [
                            "\n",
                            "            <style>\n",
                            "                .geemap-dark {\n",
                            "                    --jp-widgets-color: white;\n",
                            "                    --jp-widgets-label-color: white;\n",
                            "                    --jp-ui-font-color1: white;\n",
                            "                    --jp-layout-color2: #454545;\n",
                            "                    background-color: #383838;\n",
                            "                }\n",
                            "                    \n",
                            "                .geemap-dark .jupyter-button {\n",
                            "                    --jp-layout-color3: #383838;\n",
                            "                }\n",
                            "                \n",
                            "                .geemap-colab {\n",
                            "                    background-color: var(--colab-primary-surface-color, white);\n",
                            "                }\n",
                            "                    \n",
                            "                .geemap-colab .jupyter-button {\n",
                            "                    --jp-layout-color3: var(--colab-primary-surface-color, white);\n",
                            "                }\n",
                            "            </style>\n",
                            "            "
                        ],
                        "text/plain": [
                            "<IPython.core.display.HTML object>"
                        ]
                    },
                    "metadata": {},
                    "output_type": "display_data"
                }
            ],
            "source": [
                "import ee\n",
                "import geemap\n",
                "import geemap.chart as chart\n",
                "\n",
                "# from geemap import chart"
            ]
        },
        {
            "cell_type": "code",
            "execution_count": 17,
            "metadata": {},
            "outputs": [
                {
                    "data": {
                        "text/html": [
                            "\n",
                            "            <style>\n",
                            "                .geemap-dark {\n",
                            "                    --jp-widgets-color: white;\n",
                            "                    --jp-widgets-label-color: white;\n",
                            "                    --jp-ui-font-color1: white;\n",
                            "                    --jp-layout-color2: #454545;\n",
                            "                    background-color: #383838;\n",
                            "                }\n",
                            "                    \n",
                            "                .geemap-dark .jupyter-button {\n",
                            "                    --jp-layout-color3: #383838;\n",
                            "                }\n",
                            "                \n",
                            "                .geemap-colab {\n",
                            "                    background-color: var(--colab-primary-surface-color, white);\n",
                            "                }\n",
                            "                    \n",
                            "                .geemap-colab .jupyter-button {\n",
                            "                    --jp-layout-color3: var(--colab-primary-surface-color, white);\n",
                            "                }\n",
                            "            </style>\n",
                            "            "
                        ],
                        "text/plain": [
                            "<IPython.core.display.HTML object>"
                        ]
                    },
                    "metadata": {},
                    "output_type": "display_data"
                }
            ],
            "source": [
                "# geemap.update_package()"
            ]
        },
        {
            "cell_type": "markdown",
            "metadata": {},
            "source": [
                "## Creating a chart from ee.FeatureCollection by feature\n",
                "\n",
                "Reference: https://developers.google.com/earth-engine/guides/charts_feature#uichartfeaturebyfeature"
            ]
        },
        {
            "cell_type": "code",
            "execution_count": 18,
            "metadata": {},
            "outputs": [
                {
                    "data": {
                        "text/html": [
                            "\n",
                            "            <style>\n",
                            "                .geemap-dark {\n",
                            "                    --jp-widgets-color: white;\n",
                            "                    --jp-widgets-label-color: white;\n",
                            "                    --jp-ui-font-color1: white;\n",
                            "                    --jp-layout-color2: #454545;\n",
                            "                    background-color: #383838;\n",
                            "                }\n",
                            "                    \n",
                            "                .geemap-dark .jupyter-button {\n",
                            "                    --jp-layout-color3: #383838;\n",
                            "                }\n",
                            "                \n",
                            "                .geemap-colab {\n",
                            "                    background-color: var(--colab-primary-surface-color, white);\n",
                            "                }\n",
                            "                    \n",
                            "                .geemap-colab .jupyter-button {\n",
                            "                    --jp-layout-color3: var(--colab-primary-surface-color, white);\n",
                            "                }\n",
                            "            </style>\n",
                            "            "
                        ],
                        "text/plain": [
                            "<IPython.core.display.HTML object>"
                        ]
                    },
                    "metadata": {},
                    "output_type": "display_data"
                },
                {
                    "data": {
                        "application/vnd.jupyter.widget-view+json": {
                            "model_id": "f66954a723f2433dbd376f43d391b26c",
                            "version_major": 2,
                            "version_minor": 0
                        },
                        "text/plain": [
                            "Map(center=[0, 0], controls=(WidgetControl(options=['position', 'transparent_bg'], widget=SearchDataGUI(childr…"
                        ]
                    },
                    "metadata": {},
                    "output_type": "display_data"
                }
            ],
            "source": [
                "Map = geemap.Map()\n",
                "\n",
                "features = ee.FeatureCollection('projects/google/charts_feature_example').select(\n",
                "    '[0-9][0-9]_tmean|label'\n",
                ")\n",
                "\n",
                "Map.addLayer(features, {}, \"Ecoregions\")\n",
                "Map"
            ]
        },
        {
            "cell_type": "code",
            "execution_count": 19,
            "metadata": {},
            "outputs": [
                {
                    "data": {
                        "text/html": [
                            "\n",
                            "            <style>\n",
                            "                .geemap-dark {\n",
                            "                    --jp-widgets-color: white;\n",
                            "                    --jp-widgets-label-color: white;\n",
                            "                    --jp-ui-font-color1: white;\n",
                            "                    --jp-layout-color2: #454545;\n",
                            "                    background-color: #383838;\n",
                            "                }\n",
                            "                    \n",
                            "                .geemap-dark .jupyter-button {\n",
                            "                    --jp-layout-color3: #383838;\n",
                            "                }\n",
                            "                \n",
                            "                .geemap-colab {\n",
                            "                    background-color: var(--colab-primary-surface-color, white);\n",
                            "                }\n",
                            "                    \n",
                            "                .geemap-colab .jupyter-button {\n",
                            "                    --jp-layout-color3: var(--colab-primary-surface-color, white);\n",
                            "                }\n",
                            "            </style>\n",
                            "            "
                        ],
                        "text/plain": [
                            "<IPython.core.display.HTML object>"
                        ]
                    },
                    "metadata": {},
                    "output_type": "display_data"
                },
                {
                    "data": {
                        "text/html": [
                            "<div>\n",
                            "<style scoped>\n",
                            "    .dataframe tbody tr th:only-of-type {\n",
                            "        vertical-align: middle;\n",
                            "    }\n",
                            "\n",
                            "    .dataframe tbody tr th {\n",
                            "        vertical-align: top;\n",
                            "    }\n",
                            "\n",
                            "    .dataframe thead th {\n",
                            "        text-align: right;\n",
                            "    }\n",
                            "</style>\n",
                            "<table border=\"1\" class=\"dataframe\">\n",
                            "  <thead>\n",
                            "    <tr style=\"text-align: right;\">\n",
                            "      <th></th>\n",
                            "      <th>01_tmean</th>\n",
                            "      <th>02_tmean</th>\n",
                            "      <th>03_tmean</th>\n",
                            "      <th>04_tmean</th>\n",
                            "      <th>05_tmean</th>\n",
                            "      <th>06_tmean</th>\n",
                            "      <th>07_tmean</th>\n",
                            "      <th>08_tmean</th>\n",
                            "      <th>09_tmean</th>\n",
                            "      <th>10_tmean</th>\n",
                            "      <th>11_tmean</th>\n",
                            "      <th>12_tmean</th>\n",
                            "      <th>label</th>\n",
                            "    </tr>\n",
                            "  </thead>\n",
                            "  <tbody>\n",
                            "    <tr>\n",
                            "      <th>0</th>\n",
                            "      <td>5.791036</td>\n",
                            "      <td>7.645011</td>\n",
                            "      <td>10.454658</td>\n",
                            "      <td>14.251640</td>\n",
                            "      <td>19.032815</td>\n",
                            "      <td>23.790506</td>\n",
                            "      <td>25.066577</td>\n",
                            "      <td>23.845259</td>\n",
                            "      <td>21.454795</td>\n",
                            "      <td>15.997988</td>\n",
                            "      <td>9.849321</td>\n",
                            "      <td>5.641386</td>\n",
                            "      <td>Desert</td>\n",
                            "    </tr>\n",
                            "    <tr>\n",
                            "      <th>1</th>\n",
                            "      <td>2.792467</td>\n",
                            "      <td>3.609074</td>\n",
                            "      <td>5.032932</td>\n",
                            "      <td>7.120137</td>\n",
                            "      <td>10.395376</td>\n",
                            "      <td>13.776134</td>\n",
                            "      <td>17.850177</td>\n",
                            "      <td>17.919983</td>\n",
                            "      <td>15.206573</td>\n",
                            "      <td>10.081709</td>\n",
                            "      <td>4.784706</td>\n",
                            "      <td>2.317886</td>\n",
                            "      <td>Forest</td>\n",
                            "    </tr>\n",
                            "    <tr>\n",
                            "      <th>2</th>\n",
                            "      <td>-3.756608</td>\n",
                            "      <td>-1.990220</td>\n",
                            "      <td>2.570146</td>\n",
                            "      <td>7.721306</td>\n",
                            "      <td>13.643875</td>\n",
                            "      <td>19.033558</td>\n",
                            "      <td>22.753059</td>\n",
                            "      <td>21.848346</td>\n",
                            "      <td>16.401770</td>\n",
                            "      <td>9.263021</td>\n",
                            "      <td>2.021918</td>\n",
                            "      <td>-3.426706</td>\n",
                            "      <td>Grassland</td>\n",
                            "    </tr>\n",
                            "  </tbody>\n",
                            "</table>\n",
                            "</div>"
                        ],
                        "text/plain": [
                            "   01_tmean  02_tmean   03_tmean   04_tmean   05_tmean   06_tmean   07_tmean  \\\n",
                            "0  5.791036  7.645011  10.454658  14.251640  19.032815  23.790506  25.066577   \n",
                            "1  2.792467  3.609074   5.032932   7.120137  10.395376  13.776134  17.850177   \n",
                            "2 -3.756608 -1.990220   2.570146   7.721306  13.643875  19.033558  22.753059   \n",
                            "\n",
                            "    08_tmean   09_tmean   10_tmean  11_tmean  12_tmean      label  \n",
                            "0  23.845259  21.454795  15.997988  9.849321  5.641386     Desert  \n",
                            "1  17.919983  15.206573  10.081709  4.784706  2.317886     Forest  \n",
                            "2  21.848346  16.401770   9.263021  2.021918 -3.426706  Grassland  "
                        ]
                    },
                    "execution_count": 19,
                    "metadata": {},
                    "output_type": "execute_result"
                }
            ],
            "source": [
                "df = geemap.ee_to_df(features)\n",
                "df"
            ]
        },
        {
            "cell_type": "code",
            "execution_count": 20,
            "metadata": {},
            "outputs": [
                {
                    "data": {
                        "text/html": [
                            "\n",
                            "            <style>\n",
                            "                .geemap-dark {\n",
                            "                    --jp-widgets-color: white;\n",
                            "                    --jp-widgets-label-color: white;\n",
                            "                    --jp-ui-font-color1: white;\n",
                            "                    --jp-layout-color2: #454545;\n",
                            "                    background-color: #383838;\n",
                            "                }\n",
                            "                    \n",
                            "                .geemap-dark .jupyter-button {\n",
                            "                    --jp-layout-color3: #383838;\n",
                            "                }\n",
                            "                \n",
                            "                .geemap-colab {\n",
                            "                    background-color: var(--colab-primary-surface-color, white);\n",
                            "                }\n",
                            "                    \n",
                            "                .geemap-colab .jupyter-button {\n",
                            "                    --jp-layout-color3: var(--colab-primary-surface-color, white);\n",
                            "                }\n",
                            "            </style>\n",
                            "            "
                        ],
                        "text/plain": [
                            "<IPython.core.display.HTML object>"
                        ]
                    },
                    "metadata": {},
                    "output_type": "display_data"
                }
            ],
            "source": [
                "xProperty = \"label\"\n",
                "yProperties = [str(x).zfill(2) + \"_tmean\" for x in range(1, 13)]\n",
                "\n",
                "labels = [\n",
                "    'Jan',\n",
                "    'Feb',\n",
                "    'Mar',\n",
                "    'Apr',\n",
                "    'May',\n",
                "    'Jun',\n",
                "    'Jul',\n",
                "    'Aug',\n",
                "    'Sep',\n",
                "    'Oct',\n",
                "    'Nov',\n",
                "    'Dec',\n",
                "]\n",
                "colors = [\n",
                "    '#604791',\n",
                "    '#1d6b99',\n",
                "    '#39a8a7',\n",
                "    '#0f8755',\n",
                "    '#76b349',\n",
                "    '#f0af07',\n",
                "    '#e37d05',\n",
                "    '#cf513e',\n",
                "    '#96356f',\n",
                "    '#724173',\n",
                "    '#9c4f97',\n",
                "    '#696969',\n",
                "]\n",
                "title = \"Average Monthly Temperature by Ecoregion\"\n",
                "xlabel = \"Ecoregion\"\n",
                "ylabel = \"Temperature\""
            ]
        },
        {
            "cell_type": "code",
            "execution_count": 21,
            "metadata": {},
            "outputs": [
                {
                    "data": {
                        "text/html": [
                            "\n",
                            "            <style>\n",
                            "                .geemap-dark {\n",
                            "                    --jp-widgets-color: white;\n",
                            "                    --jp-widgets-label-color: white;\n",
                            "                    --jp-ui-font-color1: white;\n",
                            "                    --jp-layout-color2: #454545;\n",
                            "                    background-color: #383838;\n",
                            "                }\n",
                            "                    \n",
                            "                .geemap-dark .jupyter-button {\n",
                            "                    --jp-layout-color3: #383838;\n",
                            "                }\n",
                            "                \n",
                            "                .geemap-colab {\n",
                            "                    background-color: var(--colab-primary-surface-color, white);\n",
                            "                }\n",
                            "                    \n",
                            "                .geemap-colab .jupyter-button {\n",
                            "                    --jp-layout-color3: var(--colab-primary-surface-color, white);\n",
                            "                }\n",
                            "            </style>\n",
                            "            "
                        ],
                        "text/plain": [
                            "<IPython.core.display.HTML object>"
                        ]
                    },
                    "metadata": {},
                    "output_type": "display_data"
                }
            ],
            "source": [
                "options = {\n",
                "    \"labels\": labels,\n",
                "    \"colors\": colors,\n",
                "    \"title\": title,\n",
                "    \"xlabel\": xlabel,\n",
                "    \"ylabel\": ylabel,\n",
                "    \"legend_location\": \"top-left\",\n",
                "    \"height\": \"500px\",\n",
                "}"
            ]
        },
        {
            "cell_type": "code",
            "execution_count": 22,
            "metadata": {},
            "outputs": [
                {
                    "data": {
                        "text/html": [
                            "\n",
                            "            <style>\n",
                            "                .geemap-dark {\n",
                            "                    --jp-widgets-color: white;\n",
                            "                    --jp-widgets-label-color: white;\n",
                            "                    --jp-ui-font-color1: white;\n",
                            "                    --jp-layout-color2: #454545;\n",
                            "                    background-color: #383838;\n",
                            "                }\n",
                            "                    \n",
                            "                .geemap-dark .jupyter-button {\n",
                            "                    --jp-layout-color3: #383838;\n",
                            "                }\n",
                            "                \n",
                            "                .geemap-colab {\n",
                            "                    background-color: var(--colab-primary-surface-color, white);\n",
                            "                }\n",
                            "                    \n",
                            "                .geemap-colab .jupyter-button {\n",
                            "                    --jp-layout-color3: var(--colab-primary-surface-color, white);\n",
                            "                }\n",
                            "            </style>\n",
                            "            "
                        ],
                        "text/plain": [
                            "<IPython.core.display.HTML object>"
                        ]
                    },
                    "metadata": {},
                    "output_type": "display_data"
                },
                {
                    "data": {
                        "application/vnd.jupyter.widget-view+json": {
                            "model_id": "42549b47340944a4a59a2bda020fd30d",
                            "version_major": 2,
                            "version_minor": 0
                        },
                        "text/plain": [
                            "VBox(children=(Figure(axes=[Axis(label='Ecoregion', scale=OrdinalScale()), Axis(label='Temperature', orientati…"
                        ]
                    },
                    "metadata": {},
                    "output_type": "display_data"
                }
            ],
            "source": [
                "chart.feature_byFeature(features, xProperty, yProperties, **options)"
            ]
        },
        {
            "cell_type": "markdown",
            "metadata": {},
            "source": [
                "![](https://i.imgur.com/9xzsUxg.png)"
            ]
        },
        {
            "cell_type": "code",
            "execution_count": 26,
            "metadata": {},
            "outputs": [
                {
                    "data": {
                        "text/html": [
                            "\n",
                            "            <style>\n",
                            "                .geemap-dark {\n",
                            "                    --jp-widgets-color: white;\n",
                            "                    --jp-widgets-label-color: white;\n",
                            "                    --jp-ui-font-color1: white;\n",
                            "                    --jp-layout-color2: #454545;\n",
                            "                    background-color: #383838;\n",
                            "                }\n",
                            "                    \n",
                            "                .geemap-dark .jupyter-button {\n",
                            "                    --jp-layout-color3: #383838;\n",
                            "                }\n",
                            "                \n",
                            "                .geemap-colab {\n",
                            "                    background-color: var(--colab-primary-surface-color, white);\n",
                            "                }\n",
                            "                    \n",
                            "                .geemap-colab .jupyter-button {\n",
                            "                    --jp-layout-color3: var(--colab-primary-surface-color, white);\n",
                            "                }\n",
                            "            </style>\n",
                            "            "
                        ],
                        "text/plain": [
                            "<IPython.core.display.HTML object>"
                        ]
                    },
                    "metadata": {},
                    "output_type": "display_data"
                }
            ],
            "source": [
                "ecoregions = ee.FeatureCollection('projects/google/charts_feature_example')\n",
                "normClim = ee.ImageCollection('OREGONSTATE/PRISM/Norm81m').toBands().select('[0-9][0-9]_tmean')"
            ]
        },
        {
            "cell_type": "code",
            "execution_count": 24,
            "metadata": {},
            "outputs": [
                {
                    "data": {
                        "text/html": [
                            "\n",
                            "            <style>\n",
                            "                .geemap-dark {\n",
                            "                    --jp-widgets-color: white;\n",
                            "                    --jp-widgets-label-color: white;\n",
                            "                    --jp-ui-font-color1: white;\n",
                            "                    --jp-layout-color2: #454545;\n",
                            "                    background-color: #383838;\n",
                            "                }\n",
                            "                    \n",
                            "                .geemap-dark .jupyter-button {\n",
                            "                    --jp-layout-color3: #383838;\n",
                            "                }\n",
                            "                \n",
                            "                .geemap-colab {\n",
                            "                    background-color: var(--colab-primary-surface-color, white);\n",
                            "                }\n",
                            "                    \n",
                            "                .geemap-colab .jupyter-button {\n",
                            "                    --jp-layout-color3: var(--colab-primary-surface-color, white);\n",
                            "                }\n",
                            "            </style>\n",
                            "            "
                        ],
                        "text/plain": [
                            "<IPython.core.display.HTML object>"
                        ]
                    },
                    "metadata": {},
                    "output_type": "display_data"
                },
                {
                    "data": {
                        "text/html": [
                            "<div>\n",
                            "<style scoped>\n",
                            "    .dataframe tbody tr th:only-of-type {\n",
                            "        vertical-align: middle;\n",
                            "    }\n",
                            "\n",
                            "    .dataframe tbody tr th {\n",
                            "        vertical-align: top;\n",
                            "    }\n",
                            "\n",
                            "    .dataframe thead th {\n",
                            "        text-align: right;\n",
                            "    }\n",
                            "</style>\n",
                            "<table border=\"1\" class=\"dataframe\">\n",
                            "  <thead>\n",
                            "    <tr style=\"text-align: right;\">\n",
                            "      <th></th>\n",
                            "      <th>01_ppt</th>\n",
                            "      <th>01_tdmean</th>\n",
                            "      <th>01_tmax</th>\n",
                            "      <th>01_tmean</th>\n",
                            "      <th>01_tmin</th>\n",
                            "      <th>01_vpdmax</th>\n",
                            "      <th>01_vpdmin</th>\n",
                            "      <th>02_ppt</th>\n",
                            "      <th>02_tdmean</th>\n",
                            "      <th>02_tmax</th>\n",
                            "      <th>...</th>\n",
                            "      <th>12_ppt</th>\n",
                            "      <th>12_tdmean</th>\n",
                            "      <th>12_tmax</th>\n",
                            "      <th>12_tmean</th>\n",
                            "      <th>12_tmin</th>\n",
                            "      <th>12_vpdmax</th>\n",
                            "      <th>12_vpdmin</th>\n",
                            "      <th>label</th>\n",
                            "      <th>value</th>\n",
                            "      <th>warm</th>\n",
                            "    </tr>\n",
                            "  </thead>\n",
                            "  <tbody>\n",
                            "    <tr>\n",
                            "      <th>0</th>\n",
                            "      <td>27.954341</td>\n",
                            "      <td>-5.938981</td>\n",
                            "      <td>14.051854</td>\n",
                            "      <td>5.791036</td>\n",
                            "      <td>-2.469782</td>\n",
                            "      <td>12.487592</td>\n",
                            "      <td>1.354838</td>\n",
                            "      <td>21.858469</td>\n",
                            "      <td>-5.516508</td>\n",
                            "      <td>16.323491</td>\n",
                            "      <td>...</td>\n",
                            "      <td>35.557367</td>\n",
                            "      <td>-5.750375</td>\n",
                            "      <td>13.843468</td>\n",
                            "      <td>5.641386</td>\n",
                            "      <td>-2.560697</td>\n",
                            "      <td>12.173214</td>\n",
                            "      <td>1.272226</td>\n",
                            "      <td>Desert</td>\n",
                            "      <td>0</td>\n",
                            "      <td>1</td>\n",
                            "    </tr>\n",
                            "    <tr>\n",
                            "      <th>1</th>\n",
                            "      <td>235.373540</td>\n",
                            "      <td>-0.696075</td>\n",
                            "      <td>6.547829</td>\n",
                            "      <td>2.792467</td>\n",
                            "      <td>-0.962896</td>\n",
                            "      <td>4.098799</td>\n",
                            "      <td>0.508449</td>\n",
                            "      <td>181.531780</td>\n",
                            "      <td>-0.703566</td>\n",
                            "      <td>8.196231</td>\n",
                            "      <td>...</td>\n",
                            "      <td>273.243438</td>\n",
                            "      <td>-0.668041</td>\n",
                            "      <td>5.827072</td>\n",
                            "      <td>2.317886</td>\n",
                            "      <td>-1.191301</td>\n",
                            "      <td>3.521696</td>\n",
                            "      <td>0.480811</td>\n",
                            "      <td>Forest</td>\n",
                            "      <td>1</td>\n",
                            "      <td>1</td>\n",
                            "    </tr>\n",
                            "    <tr>\n",
                            "      <th>2</th>\n",
                            "      <td>9.636893</td>\n",
                            "      <td>-9.243995</td>\n",
                            "      <td>2.920941</td>\n",
                            "      <td>-3.756608</td>\n",
                            "      <td>-10.434157</td>\n",
                            "      <td>4.750901</td>\n",
                            "      <td>0.487785</td>\n",
                            "      <td>13.915104</td>\n",
                            "      <td>-7.865428</td>\n",
                            "      <td>4.853363</td>\n",
                            "      <td>...</td>\n",
                            "      <td>11.198115</td>\n",
                            "      <td>-8.863683</td>\n",
                            "      <td>3.177410</td>\n",
                            "      <td>-3.426706</td>\n",
                            "      <td>-10.030822</td>\n",
                            "      <td>5.038356</td>\n",
                            "      <td>0.488113</td>\n",
                            "      <td>Grassland</td>\n",
                            "      <td>2</td>\n",
                            "      <td>0</td>\n",
                            "    </tr>\n",
                            "  </tbody>\n",
                            "</table>\n",
                            "<p>3 rows × 87 columns</p>\n",
                            "</div>"
                        ],
                        "text/plain": [
                            "       01_ppt  01_tdmean    01_tmax  01_tmean    01_tmin  01_vpdmax  \\\n",
                            "0   27.954341  -5.938981  14.051854  5.791036  -2.469782  12.487592   \n",
                            "1  235.373540  -0.696075   6.547829  2.792467  -0.962896   4.098799   \n",
                            "2    9.636893  -9.243995   2.920941 -3.756608 -10.434157   4.750901   \n",
                            "\n",
                            "   01_vpdmin      02_ppt  02_tdmean    02_tmax  ...      12_ppt  12_tdmean  \\\n",
                            "0   1.354838   21.858469  -5.516508  16.323491  ...   35.557367  -5.750375   \n",
                            "1   0.508449  181.531780  -0.703566   8.196231  ...  273.243438  -0.668041   \n",
                            "2   0.487785   13.915104  -7.865428   4.853363  ...   11.198115  -8.863683   \n",
                            "\n",
                            "     12_tmax  12_tmean    12_tmin  12_vpdmax  12_vpdmin      label  value  \\\n",
                            "0  13.843468  5.641386  -2.560697  12.173214   1.272226     Desert      0   \n",
                            "1   5.827072  2.317886  -1.191301   3.521696   0.480811     Forest      1   \n",
                            "2   3.177410 -3.426706 -10.030822   5.038356   0.488113  Grassland      2   \n",
                            "\n",
                            "   warm  \n",
                            "0     1  \n",
                            "1     1  \n",
                            "2     0  \n",
                            "\n",
                            "[3 rows x 87 columns]"
                        ]
                    },
                    "execution_count": 24,
                    "metadata": {},
                    "output_type": "execute_result"
                }
            ],
            "source": [
                "geemap.ee_to_df(ecoregions)"
            ]
        },
        {
            "cell_type": "code",
            "execution_count": 27,
            "metadata": {},
            "outputs": [
                {
                    "data": {
                        "text/html": [
                            "\n",
                            "            <style>\n",
                            "                .geemap-dark {\n",
                            "                    --jp-widgets-color: white;\n",
                            "                    --jp-widgets-label-color: white;\n",
                            "                    --jp-ui-font-color1: white;\n",
                            "                    --jp-layout-color2: #454545;\n",
                            "                    background-color: #383838;\n",
                            "                }\n",
                            "                    \n",
                            "                .geemap-dark .jupyter-button {\n",
                            "                    --jp-layout-color3: #383838;\n",
                            "                }\n",
                            "                \n",
                            "                .geemap-colab {\n",
                            "                    background-color: var(--colab-primary-surface-color, white);\n",
                            "                }\n",
                            "                    \n",
                            "                .geemap-colab .jupyter-button {\n",
                            "                    --jp-layout-color3: var(--colab-primary-surface-color, white);\n",
                            "                }\n",
                            "            </style>\n",
                            "            "
                        ],
                        "text/plain": [
                            "<IPython.core.display.HTML object>"
                        ]
                    },
                    "metadata": {},
                    "output_type": "display_data"
                },
                {
                    "data": {
                        "text/html": [
                            "<div><style>:root {\n",
                            "  --font-color-primary: var(--jp-content-font-color0, rgba(0, 0, 0, 1));\n",
                            "  --font-color-secondary: var(--jp-content-font-color2, rgba(0, 0, 0, 0.6));\n",
                            "  --font-color-accent: rgba(123, 31, 162, 1);\n",
                            "  --border-color: var(--jp-border-color2, #e0e0e0);\n",
                            "  --background-color: var(--jp-layout-color0, white);\n",
                            "  --background-color-row-even: var(--jp-layout-color1, white);\n",
                            "  --background-color-row-odd: var(--jp-layout-color2, #eeeeee);\n",
                            "}\n",
                            "\n",
                            "html[theme=\"dark\"],\n",
                            "body[data-theme=\"dark\"],\n",
                            "body.vscode-dark {\n",
                            "  --font-color-primary: rgba(255, 255, 255, 1);\n",
                            "  --font-color-secondary: rgba(255, 255, 255, 0.6);\n",
                            "  --font-color-accent: rgb(173, 132, 190);\n",
                            "  --border-color: #2e2e2e;\n",
                            "  --background-color: #111111;\n",
                            "  --background-color-row-even: #111111;\n",
                            "  --background-color-row-odd: #313131;\n",
                            "}\n",
                            "\n",
                            ".ee {\n",
                            "  padding: 1em;\n",
                            "  line-height: 1.5em;\n",
                            "  min-width: 300px;\n",
                            "  max-width: 1200px;\n",
                            "  overflow-y: scroll;\n",
                            "  max-height: 600px;\n",
                            "  border: 1px solid var(--border-color);\n",
                            "  font-family: monospace;\n",
                            "}\n",
                            "\n",
                            ".ee li {\n",
                            "  list-style-type: none;\n",
                            "}\n",
                            "\n",
                            ".ee ul {\n",
                            "  padding-left: 1.5em !important;\n",
                            "  margin: 0;\n",
                            "}\n",
                            "\n",
                            ".ee > ul {\n",
                            "  padding-left: 0 !important;\n",
                            "}\n",
                            "\n",
                            ".ee-open,\n",
                            ".ee-shut {\n",
                            "  color: var(--font-color-secondary);\n",
                            "  cursor: pointer;\n",
                            "  margin: 0;\n",
                            "}\n",
                            "\n",
                            ".ee-open:hover,\n",
                            ".ee-shut:hover {\n",
                            "  color: var(--font-color-primary);\n",
                            "}\n",
                            "\n",
                            ".ee-k {\n",
                            "  color: var(--font-color-accent);\n",
                            "  margin-right: 6px;\n",
                            "}\n",
                            "\n",
                            ".ee-v {\n",
                            "  color: var(--font-color-primary);\n",
                            "}\n",
                            "\n",
                            ".ee-toggle {\n",
                            "  display: none;\n",
                            "}\n",
                            "\n",
                            ".ee-shut + ul {\n",
                            "  display: none;\n",
                            "}\n",
                            "\n",
                            ".ee-open + ul {\n",
                            "  display: block;\n",
                            "}\n",
                            "\n",
                            ".ee-shut::before {\n",
                            "  display: inline-block;\n",
                            "  content: \"▼\";\n",
                            "  margin-right: 6px;\n",
                            "  transform: rotate(-90deg);\n",
                            "  transition: transform 0.2s;\n",
                            "}\n",
                            "\n",
                            ".ee-open::before {\n",
                            "  transform: rotate(0deg);\n",
                            "  display: inline-block;\n",
                            "  content: \"▼\";\n",
                            "  margin-right: 6px;\n",
                            "  transition: transform 0.2s;\n",
                            "}\n",
                            "</style><div class='ee'><ul><li><label class='ee-shut'>Image (12 bands)<input type='checkbox' class='ee-toggle'></label><ul><li><span class='ee-k'>type:</span><span class='ee-v'>Image</span></li><li><label class='ee-shut'>bands: List (12 elements)<input type='checkbox' class='ee-toggle'></label><ul><li><label class='ee-shut'>0: \"01_tmean\", float, GEOGCS[\"NAD83\", \n",
                            "  DATUM[\"North_American_Datum_1983\", \n",
                            "    SPHEROID[\"GRS_1980\", 6378137.0, 298.257222101]], \n",
                            "  PRIMEM[\"Greenwich\", 0.0], \n",
                            "  UNIT[\"degree\", 0.017453292519943295], \n",
                            "  AXIS[\"Longitude\", EAST], \n",
                            "  AXIS[\"Latitude\", NORTH]], 1405x621 px<input type='checkbox' class='ee-toggle'></label><ul><li><span class='ee-k'>id:</span><span class='ee-v'>01_tmean</span></li><li><span class='ee-k'>crs:</span><span class='ee-v'>GEOGCS[\"NAD83\", \n",
                            "  DATUM[\"North_American_Datum_1983\", \n",
                            "    SPHEROID[\"GRS_1980\", 6378137.0, 298.257222101]], \n",
                            "  PRIMEM[\"Greenwich\", 0.0], \n",
                            "  UNIT[\"degree\", 0.017453292519943295], \n",
                            "  AXIS[\"Longitude\", EAST], \n",
                            "  AXIS[\"Latitude\", NORTH]]</span></li><li><label class='ee-shut'>crs_transform: List (6 elements)<input type='checkbox' class='ee-toggle'></label><ul><li><span class='ee-k'>0:</span><span class='ee-v'>0.041666666667</span></li><li><span class='ee-k'>1:</span><span class='ee-v'>0</span></li><li><span class='ee-k'>2:</span><span class='ee-v'>-125.0208333333335</span></li><li><span class='ee-k'>3:</span><span class='ee-v'>0</span></li><li><span class='ee-k'>4:</span><span class='ee-v'>-0.041666666667</span></li><li><span class='ee-k'>5:</span><span class='ee-v'>49.9375000000025</span></li></ul></li><li><label class='ee-shut'>data_type: float<input type='checkbox' class='ee-toggle'></label><ul><li><span class='ee-k'>type:</span><span class='ee-v'>PixelType</span></li><li><span class='ee-k'>precision:</span><span class='ee-v'>float</span></li></ul></li><li><label class='ee-shut'>dimensions: [1405, 621]<input type='checkbox' class='ee-toggle'></label><ul><li><span class='ee-k'>0:</span><span class='ee-v'>1405</span></li><li><span class='ee-k'>1:</span><span class='ee-v'>621</span></li></ul></li></ul></li><li><label class='ee-shut'>1: \"02_tmean\", float, GEOGCS[\"NAD83\", \n",
                            "  DATUM[\"North_American_Datum_1983\", \n",
                            "    SPHEROID[\"GRS_1980\", 6378137.0, 298.257222101]], \n",
                            "  PRIMEM[\"Greenwich\", 0.0], \n",
                            "  UNIT[\"degree\", 0.017453292519943295], \n",
                            "  AXIS[\"Longitude\", EAST], \n",
                            "  AXIS[\"Latitude\", NORTH]], 1405x621 px<input type='checkbox' class='ee-toggle'></label><ul><li><span class='ee-k'>id:</span><span class='ee-v'>02_tmean</span></li><li><span class='ee-k'>crs:</span><span class='ee-v'>GEOGCS[\"NAD83\", \n",
                            "  DATUM[\"North_American_Datum_1983\", \n",
                            "    SPHEROID[\"GRS_1980\", 6378137.0, 298.257222101]], \n",
                            "  PRIMEM[\"Greenwich\", 0.0], \n",
                            "  UNIT[\"degree\", 0.017453292519943295], \n",
                            "  AXIS[\"Longitude\", EAST], \n",
                            "  AXIS[\"Latitude\", NORTH]]</span></li><li><label class='ee-shut'>crs_transform: List (6 elements)<input type='checkbox' class='ee-toggle'></label><ul><li><span class='ee-k'>0:</span><span class='ee-v'>0.041666666667</span></li><li><span class='ee-k'>1:</span><span class='ee-v'>0</span></li><li><span class='ee-k'>2:</span><span class='ee-v'>-125.0208333333335</span></li><li><span class='ee-k'>3:</span><span class='ee-v'>0</span></li><li><span class='ee-k'>4:</span><span class='ee-v'>-0.041666666667</span></li><li><span class='ee-k'>5:</span><span class='ee-v'>49.9375000000025</span></li></ul></li><li><label class='ee-shut'>data_type: float<input type='checkbox' class='ee-toggle'></label><ul><li><span class='ee-k'>type:</span><span class='ee-v'>PixelType</span></li><li><span class='ee-k'>precision:</span><span class='ee-v'>float</span></li></ul></li><li><label class='ee-shut'>dimensions: [1405, 621]<input type='checkbox' class='ee-toggle'></label><ul><li><span class='ee-k'>0:</span><span class='ee-v'>1405</span></li><li><span class='ee-k'>1:</span><span class='ee-v'>621</span></li></ul></li></ul></li><li><label class='ee-shut'>2: \"03_tmean\", float, GEOGCS[\"NAD83\", \n",
                            "  DATUM[\"North_American_Datum_1983\", \n",
                            "    SPHEROID[\"GRS_1980\", 6378137.0, 298.257222101]], \n",
                            "  PRIMEM[\"Greenwich\", 0.0], \n",
                            "  UNIT[\"degree\", 0.017453292519943295], \n",
                            "  AXIS[\"Longitude\", EAST], \n",
                            "  AXIS[\"Latitude\", NORTH]], 1405x621 px<input type='checkbox' class='ee-toggle'></label><ul><li><span class='ee-k'>id:</span><span class='ee-v'>03_tmean</span></li><li><span class='ee-k'>crs:</span><span class='ee-v'>GEOGCS[\"NAD83\", \n",
                            "  DATUM[\"North_American_Datum_1983\", \n",
                            "    SPHEROID[\"GRS_1980\", 6378137.0, 298.257222101]], \n",
                            "  PRIMEM[\"Greenwich\", 0.0], \n",
                            "  UNIT[\"degree\", 0.017453292519943295], \n",
                            "  AXIS[\"Longitude\", EAST], \n",
                            "  AXIS[\"Latitude\", NORTH]]</span></li><li><label class='ee-shut'>crs_transform: List (6 elements)<input type='checkbox' class='ee-toggle'></label><ul><li><span class='ee-k'>0:</span><span class='ee-v'>0.041666666667</span></li><li><span class='ee-k'>1:</span><span class='ee-v'>0</span></li><li><span class='ee-k'>2:</span><span class='ee-v'>-125.0208333333335</span></li><li><span class='ee-k'>3:</span><span class='ee-v'>0</span></li><li><span class='ee-k'>4:</span><span class='ee-v'>-0.041666666667</span></li><li><span class='ee-k'>5:</span><span class='ee-v'>49.9375000000025</span></li></ul></li><li><label class='ee-shut'>data_type: float<input type='checkbox' class='ee-toggle'></label><ul><li><span class='ee-k'>type:</span><span class='ee-v'>PixelType</span></li><li><span class='ee-k'>precision:</span><span class='ee-v'>float</span></li></ul></li><li><label class='ee-shut'>dimensions: [1405, 621]<input type='checkbox' class='ee-toggle'></label><ul><li><span class='ee-k'>0:</span><span class='ee-v'>1405</span></li><li><span class='ee-k'>1:</span><span class='ee-v'>621</span></li></ul></li></ul></li><li><label class='ee-shut'>3: \"04_tmean\", float, GEOGCS[\"NAD83\", \n",
                            "  DATUM[\"North_American_Datum_1983\", \n",
                            "    SPHEROID[\"GRS_1980\", 6378137.0, 298.257222101]], \n",
                            "  PRIMEM[\"Greenwich\", 0.0], \n",
                            "  UNIT[\"degree\", 0.017453292519943295], \n",
                            "  AXIS[\"Longitude\", EAST], \n",
                            "  AXIS[\"Latitude\", NORTH]], 1405x621 px<input type='checkbox' class='ee-toggle'></label><ul><li><span class='ee-k'>id:</span><span class='ee-v'>04_tmean</span></li><li><span class='ee-k'>crs:</span><span class='ee-v'>GEOGCS[\"NAD83\", \n",
                            "  DATUM[\"North_American_Datum_1983\", \n",
                            "    SPHEROID[\"GRS_1980\", 6378137.0, 298.257222101]], \n",
                            "  PRIMEM[\"Greenwich\", 0.0], \n",
                            "  UNIT[\"degree\", 0.017453292519943295], \n",
                            "  AXIS[\"Longitude\", EAST], \n",
                            "  AXIS[\"Latitude\", NORTH]]</span></li><li><label class='ee-shut'>crs_transform: List (6 elements)<input type='checkbox' class='ee-toggle'></label><ul><li><span class='ee-k'>0:</span><span class='ee-v'>0.041666666667</span></li><li><span class='ee-k'>1:</span><span class='ee-v'>0</span></li><li><span class='ee-k'>2:</span><span class='ee-v'>-125.0208333333335</span></li><li><span class='ee-k'>3:</span><span class='ee-v'>0</span></li><li><span class='ee-k'>4:</span><span class='ee-v'>-0.041666666667</span></li><li><span class='ee-k'>5:</span><span class='ee-v'>49.9375000000025</span></li></ul></li><li><label class='ee-shut'>data_type: float<input type='checkbox' class='ee-toggle'></label><ul><li><span class='ee-k'>type:</span><span class='ee-v'>PixelType</span></li><li><span class='ee-k'>precision:</span><span class='ee-v'>float</span></li></ul></li><li><label class='ee-shut'>dimensions: [1405, 621]<input type='checkbox' class='ee-toggle'></label><ul><li><span class='ee-k'>0:</span><span class='ee-v'>1405</span></li><li><span class='ee-k'>1:</span><span class='ee-v'>621</span></li></ul></li></ul></li><li><label class='ee-shut'>4: \"05_tmean\", float, GEOGCS[\"NAD83\", \n",
                            "  DATUM[\"North_American_Datum_1983\", \n",
                            "    SPHEROID[\"GRS_1980\", 6378137.0, 298.257222101]], \n",
                            "  PRIMEM[\"Greenwich\", 0.0], \n",
                            "  UNIT[\"degree\", 0.017453292519943295], \n",
                            "  AXIS[\"Longitude\", EAST], \n",
                            "  AXIS[\"Latitude\", NORTH]], 1405x621 px<input type='checkbox' class='ee-toggle'></label><ul><li><span class='ee-k'>id:</span><span class='ee-v'>05_tmean</span></li><li><span class='ee-k'>crs:</span><span class='ee-v'>GEOGCS[\"NAD83\", \n",
                            "  DATUM[\"North_American_Datum_1983\", \n",
                            "    SPHEROID[\"GRS_1980\", 6378137.0, 298.257222101]], \n",
                            "  PRIMEM[\"Greenwich\", 0.0], \n",
                            "  UNIT[\"degree\", 0.017453292519943295], \n",
                            "  AXIS[\"Longitude\", EAST], \n",
                            "  AXIS[\"Latitude\", NORTH]]</span></li><li><label class='ee-shut'>crs_transform: List (6 elements)<input type='checkbox' class='ee-toggle'></label><ul><li><span class='ee-k'>0:</span><span class='ee-v'>0.041666666667</span></li><li><span class='ee-k'>1:</span><span class='ee-v'>0</span></li><li><span class='ee-k'>2:</span><span class='ee-v'>-125.0208333333335</span></li><li><span class='ee-k'>3:</span><span class='ee-v'>0</span></li><li><span class='ee-k'>4:</span><span class='ee-v'>-0.041666666667</span></li><li><span class='ee-k'>5:</span><span class='ee-v'>49.9375000000025</span></li></ul></li><li><label class='ee-shut'>data_type: float<input type='checkbox' class='ee-toggle'></label><ul><li><span class='ee-k'>type:</span><span class='ee-v'>PixelType</span></li><li><span class='ee-k'>precision:</span><span class='ee-v'>float</span></li></ul></li><li><label class='ee-shut'>dimensions: [1405, 621]<input type='checkbox' class='ee-toggle'></label><ul><li><span class='ee-k'>0:</span><span class='ee-v'>1405</span></li><li><span class='ee-k'>1:</span><span class='ee-v'>621</span></li></ul></li></ul></li><li><label class='ee-shut'>5: \"06_tmean\", float, GEOGCS[\"NAD83\", \n",
                            "  DATUM[\"North_American_Datum_1983\", \n",
                            "    SPHEROID[\"GRS_1980\", 6378137.0, 298.257222101]], \n",
                            "  PRIMEM[\"Greenwich\", 0.0], \n",
                            "  UNIT[\"degree\", 0.017453292519943295], \n",
                            "  AXIS[\"Longitude\", EAST], \n",
                            "  AXIS[\"Latitude\", NORTH]], 1405x621 px<input type='checkbox' class='ee-toggle'></label><ul><li><span class='ee-k'>id:</span><span class='ee-v'>06_tmean</span></li><li><span class='ee-k'>crs:</span><span class='ee-v'>GEOGCS[\"NAD83\", \n",
                            "  DATUM[\"North_American_Datum_1983\", \n",
                            "    SPHEROID[\"GRS_1980\", 6378137.0, 298.257222101]], \n",
                            "  PRIMEM[\"Greenwich\", 0.0], \n",
                            "  UNIT[\"degree\", 0.017453292519943295], \n",
                            "  AXIS[\"Longitude\", EAST], \n",
                            "  AXIS[\"Latitude\", NORTH]]</span></li><li><label class='ee-shut'>crs_transform: List (6 elements)<input type='checkbox' class='ee-toggle'></label><ul><li><span class='ee-k'>0:</span><span class='ee-v'>0.041666666667</span></li><li><span class='ee-k'>1:</span><span class='ee-v'>0</span></li><li><span class='ee-k'>2:</span><span class='ee-v'>-125.0208333333335</span></li><li><span class='ee-k'>3:</span><span class='ee-v'>0</span></li><li><span class='ee-k'>4:</span><span class='ee-v'>-0.041666666667</span></li><li><span class='ee-k'>5:</span><span class='ee-v'>49.9375000000025</span></li></ul></li><li><label class='ee-shut'>data_type: float<input type='checkbox' class='ee-toggle'></label><ul><li><span class='ee-k'>type:</span><span class='ee-v'>PixelType</span></li><li><span class='ee-k'>precision:</span><span class='ee-v'>float</span></li></ul></li><li><label class='ee-shut'>dimensions: [1405, 621]<input type='checkbox' class='ee-toggle'></label><ul><li><span class='ee-k'>0:</span><span class='ee-v'>1405</span></li><li><span class='ee-k'>1:</span><span class='ee-v'>621</span></li></ul></li></ul></li><li><label class='ee-shut'>6: \"07_tmean\", float, GEOGCS[\"NAD83\", \n",
                            "  DATUM[\"North_American_Datum_1983\", \n",
                            "    SPHEROID[\"GRS_1980\", 6378137.0, 298.257222101]], \n",
                            "  PRIMEM[\"Greenwich\", 0.0], \n",
                            "  UNIT[\"degree\", 0.017453292519943295], \n",
                            "  AXIS[\"Longitude\", EAST], \n",
                            "  AXIS[\"Latitude\", NORTH]], 1405x621 px<input type='checkbox' class='ee-toggle'></label><ul><li><span class='ee-k'>id:</span><span class='ee-v'>07_tmean</span></li><li><span class='ee-k'>crs:</span><span class='ee-v'>GEOGCS[\"NAD83\", \n",
                            "  DATUM[\"North_American_Datum_1983\", \n",
                            "    SPHEROID[\"GRS_1980\", 6378137.0, 298.257222101]], \n",
                            "  PRIMEM[\"Greenwich\", 0.0], \n",
                            "  UNIT[\"degree\", 0.017453292519943295], \n",
                            "  AXIS[\"Longitude\", EAST], \n",
                            "  AXIS[\"Latitude\", NORTH]]</span></li><li><label class='ee-shut'>crs_transform: List (6 elements)<input type='checkbox' class='ee-toggle'></label><ul><li><span class='ee-k'>0:</span><span class='ee-v'>0.041666666667</span></li><li><span class='ee-k'>1:</span><span class='ee-v'>0</span></li><li><span class='ee-k'>2:</span><span class='ee-v'>-125.0208333333335</span></li><li><span class='ee-k'>3:</span><span class='ee-v'>0</span></li><li><span class='ee-k'>4:</span><span class='ee-v'>-0.041666666667</span></li><li><span class='ee-k'>5:</span><span class='ee-v'>49.9375000000025</span></li></ul></li><li><label class='ee-shut'>data_type: float<input type='checkbox' class='ee-toggle'></label><ul><li><span class='ee-k'>type:</span><span class='ee-v'>PixelType</span></li><li><span class='ee-k'>precision:</span><span class='ee-v'>float</span></li></ul></li><li><label class='ee-shut'>dimensions: [1405, 621]<input type='checkbox' class='ee-toggle'></label><ul><li><span class='ee-k'>0:</span><span class='ee-v'>1405</span></li><li><span class='ee-k'>1:</span><span class='ee-v'>621</span></li></ul></li></ul></li><li><label class='ee-shut'>7: \"08_tmean\", float, GEOGCS[\"NAD83\", \n",
                            "  DATUM[\"North_American_Datum_1983\", \n",
                            "    SPHEROID[\"GRS_1980\", 6378137.0, 298.257222101]], \n",
                            "  PRIMEM[\"Greenwich\", 0.0], \n",
                            "  UNIT[\"degree\", 0.017453292519943295], \n",
                            "  AXIS[\"Longitude\", EAST], \n",
                            "  AXIS[\"Latitude\", NORTH]], 1405x621 px<input type='checkbox' class='ee-toggle'></label><ul><li><span class='ee-k'>id:</span><span class='ee-v'>08_tmean</span></li><li><span class='ee-k'>crs:</span><span class='ee-v'>GEOGCS[\"NAD83\", \n",
                            "  DATUM[\"North_American_Datum_1983\", \n",
                            "    SPHEROID[\"GRS_1980\", 6378137.0, 298.257222101]], \n",
                            "  PRIMEM[\"Greenwich\", 0.0], \n",
                            "  UNIT[\"degree\", 0.017453292519943295], \n",
                            "  AXIS[\"Longitude\", EAST], \n",
                            "  AXIS[\"Latitude\", NORTH]]</span></li><li><label class='ee-shut'>crs_transform: List (6 elements)<input type='checkbox' class='ee-toggle'></label><ul><li><span class='ee-k'>0:</span><span class='ee-v'>0.041666666667</span></li><li><span class='ee-k'>1:</span><span class='ee-v'>0</span></li><li><span class='ee-k'>2:</span><span class='ee-v'>-125.0208333333335</span></li><li><span class='ee-k'>3:</span><span class='ee-v'>0</span></li><li><span class='ee-k'>4:</span><span class='ee-v'>-0.041666666667</span></li><li><span class='ee-k'>5:</span><span class='ee-v'>49.9375000000025</span></li></ul></li><li><label class='ee-shut'>data_type: float<input type='checkbox' class='ee-toggle'></label><ul><li><span class='ee-k'>type:</span><span class='ee-v'>PixelType</span></li><li><span class='ee-k'>precision:</span><span class='ee-v'>float</span></li></ul></li><li><label class='ee-shut'>dimensions: [1405, 621]<input type='checkbox' class='ee-toggle'></label><ul><li><span class='ee-k'>0:</span><span class='ee-v'>1405</span></li><li><span class='ee-k'>1:</span><span class='ee-v'>621</span></li></ul></li></ul></li><li><label class='ee-shut'>8: \"09_tmean\", float, GEOGCS[\"NAD83\", \n",
                            "  DATUM[\"North_American_Datum_1983\", \n",
                            "    SPHEROID[\"GRS_1980\", 6378137.0, 298.257222101]], \n",
                            "  PRIMEM[\"Greenwich\", 0.0], \n",
                            "  UNIT[\"degree\", 0.017453292519943295], \n",
                            "  AXIS[\"Longitude\", EAST], \n",
                            "  AXIS[\"Latitude\", NORTH]], 1405x621 px<input type='checkbox' class='ee-toggle'></label><ul><li><span class='ee-k'>id:</span><span class='ee-v'>09_tmean</span></li><li><span class='ee-k'>crs:</span><span class='ee-v'>GEOGCS[\"NAD83\", \n",
                            "  DATUM[\"North_American_Datum_1983\", \n",
                            "    SPHEROID[\"GRS_1980\", 6378137.0, 298.257222101]], \n",
                            "  PRIMEM[\"Greenwich\", 0.0], \n",
                            "  UNIT[\"degree\", 0.017453292519943295], \n",
                            "  AXIS[\"Longitude\", EAST], \n",
                            "  AXIS[\"Latitude\", NORTH]]</span></li><li><label class='ee-shut'>crs_transform: List (6 elements)<input type='checkbox' class='ee-toggle'></label><ul><li><span class='ee-k'>0:</span><span class='ee-v'>0.041666666667</span></li><li><span class='ee-k'>1:</span><span class='ee-v'>0</span></li><li><span class='ee-k'>2:</span><span class='ee-v'>-125.0208333333335</span></li><li><span class='ee-k'>3:</span><span class='ee-v'>0</span></li><li><span class='ee-k'>4:</span><span class='ee-v'>-0.041666666667</span></li><li><span class='ee-k'>5:</span><span class='ee-v'>49.9375000000025</span></li></ul></li><li><label class='ee-shut'>data_type: float<input type='checkbox' class='ee-toggle'></label><ul><li><span class='ee-k'>type:</span><span class='ee-v'>PixelType</span></li><li><span class='ee-k'>precision:</span><span class='ee-v'>float</span></li></ul></li><li><label class='ee-shut'>dimensions: [1405, 621]<input type='checkbox' class='ee-toggle'></label><ul><li><span class='ee-k'>0:</span><span class='ee-v'>1405</span></li><li><span class='ee-k'>1:</span><span class='ee-v'>621</span></li></ul></li></ul></li><li><label class='ee-shut'>9: \"10_tmean\", float, GEOGCS[\"NAD83\", \n",
                            "  DATUM[\"North_American_Datum_1983\", \n",
                            "    SPHEROID[\"GRS_1980\", 6378137.0, 298.257222101]], \n",
                            "  PRIMEM[\"Greenwich\", 0.0], \n",
                            "  UNIT[\"degree\", 0.017453292519943295], \n",
                            "  AXIS[\"Longitude\", EAST], \n",
                            "  AXIS[\"Latitude\", NORTH]], 1405x621 px<input type='checkbox' class='ee-toggle'></label><ul><li><span class='ee-k'>id:</span><span class='ee-v'>10_tmean</span></li><li><span class='ee-k'>crs:</span><span class='ee-v'>GEOGCS[\"NAD83\", \n",
                            "  DATUM[\"North_American_Datum_1983\", \n",
                            "    SPHEROID[\"GRS_1980\", 6378137.0, 298.257222101]], \n",
                            "  PRIMEM[\"Greenwich\", 0.0], \n",
                            "  UNIT[\"degree\", 0.017453292519943295], \n",
                            "  AXIS[\"Longitude\", EAST], \n",
                            "  AXIS[\"Latitude\", NORTH]]</span></li><li><label class='ee-shut'>crs_transform: List (6 elements)<input type='checkbox' class='ee-toggle'></label><ul><li><span class='ee-k'>0:</span><span class='ee-v'>0.041666666667</span></li><li><span class='ee-k'>1:</span><span class='ee-v'>0</span></li><li><span class='ee-k'>2:</span><span class='ee-v'>-125.0208333333335</span></li><li><span class='ee-k'>3:</span><span class='ee-v'>0</span></li><li><span class='ee-k'>4:</span><span class='ee-v'>-0.041666666667</span></li><li><span class='ee-k'>5:</span><span class='ee-v'>49.9375000000025</span></li></ul></li><li><label class='ee-shut'>data_type: float<input type='checkbox' class='ee-toggle'></label><ul><li><span class='ee-k'>type:</span><span class='ee-v'>PixelType</span></li><li><span class='ee-k'>precision:</span><span class='ee-v'>float</span></li></ul></li><li><label class='ee-shut'>dimensions: [1405, 621]<input type='checkbox' class='ee-toggle'></label><ul><li><span class='ee-k'>0:</span><span class='ee-v'>1405</span></li><li><span class='ee-k'>1:</span><span class='ee-v'>621</span></li></ul></li></ul></li><li><label class='ee-shut'>10: \"11_tmean\", float, GEOGCS[\"NAD83\", \n",
                            "  DATUM[\"North_American_Datum_1983\", \n",
                            "    SPHEROID[\"GRS_1980\", 6378137.0, 298.257222101]], \n",
                            "  PRIMEM[\"Greenwich\", 0.0], \n",
                            "  UNIT[\"degree\", 0.017453292519943295], \n",
                            "  AXIS[\"Longitude\", EAST], \n",
                            "  AXIS[\"Latitude\", NORTH]], 1405x621 px<input type='checkbox' class='ee-toggle'></label><ul><li><span class='ee-k'>id:</span><span class='ee-v'>11_tmean</span></li><li><span class='ee-k'>crs:</span><span class='ee-v'>GEOGCS[\"NAD83\", \n",
                            "  DATUM[\"North_American_Datum_1983\", \n",
                            "    SPHEROID[\"GRS_1980\", 6378137.0, 298.257222101]], \n",
                            "  PRIMEM[\"Greenwich\", 0.0], \n",
                            "  UNIT[\"degree\", 0.017453292519943295], \n",
                            "  AXIS[\"Longitude\", EAST], \n",
                            "  AXIS[\"Latitude\", NORTH]]</span></li><li><label class='ee-shut'>crs_transform: List (6 elements)<input type='checkbox' class='ee-toggle'></label><ul><li><span class='ee-k'>0:</span><span class='ee-v'>0.041666666667</span></li><li><span class='ee-k'>1:</span><span class='ee-v'>0</span></li><li><span class='ee-k'>2:</span><span class='ee-v'>-125.0208333333335</span></li><li><span class='ee-k'>3:</span><span class='ee-v'>0</span></li><li><span class='ee-k'>4:</span><span class='ee-v'>-0.041666666667</span></li><li><span class='ee-k'>5:</span><span class='ee-v'>49.9375000000025</span></li></ul></li><li><label class='ee-shut'>data_type: float<input type='checkbox' class='ee-toggle'></label><ul><li><span class='ee-k'>type:</span><span class='ee-v'>PixelType</span></li><li><span class='ee-k'>precision:</span><span class='ee-v'>float</span></li></ul></li><li><label class='ee-shut'>dimensions: [1405, 621]<input type='checkbox' class='ee-toggle'></label><ul><li><span class='ee-k'>0:</span><span class='ee-v'>1405</span></li><li><span class='ee-k'>1:</span><span class='ee-v'>621</span></li></ul></li></ul></li><li><label class='ee-shut'>11: \"12_tmean\", float, GEOGCS[\"NAD83\", \n",
                            "  DATUM[\"North_American_Datum_1983\", \n",
                            "    SPHEROID[\"GRS_1980\", 6378137.0, 298.257222101]], \n",
                            "  PRIMEM[\"Greenwich\", 0.0], \n",
                            "  UNIT[\"degree\", 0.017453292519943295], \n",
                            "  AXIS[\"Longitude\", EAST], \n",
                            "  AXIS[\"Latitude\", NORTH]], 1405x621 px<input type='checkbox' class='ee-toggle'></label><ul><li><span class='ee-k'>id:</span><span class='ee-v'>12_tmean</span></li><li><span class='ee-k'>crs:</span><span class='ee-v'>GEOGCS[\"NAD83\", \n",
                            "  DATUM[\"North_American_Datum_1983\", \n",
                            "    SPHEROID[\"GRS_1980\", 6378137.0, 298.257222101]], \n",
                            "  PRIMEM[\"Greenwich\", 0.0], \n",
                            "  UNIT[\"degree\", 0.017453292519943295], \n",
                            "  AXIS[\"Longitude\", EAST], \n",
                            "  AXIS[\"Latitude\", NORTH]]</span></li><li><label class='ee-shut'>crs_transform: List (6 elements)<input type='checkbox' class='ee-toggle'></label><ul><li><span class='ee-k'>0:</span><span class='ee-v'>0.041666666667</span></li><li><span class='ee-k'>1:</span><span class='ee-v'>0</span></li><li><span class='ee-k'>2:</span><span class='ee-v'>-125.0208333333335</span></li><li><span class='ee-k'>3:</span><span class='ee-v'>0</span></li><li><span class='ee-k'>4:</span><span class='ee-v'>-0.041666666667</span></li><li><span class='ee-k'>5:</span><span class='ee-v'>49.9375000000025</span></li></ul></li><li><label class='ee-shut'>data_type: float<input type='checkbox' class='ee-toggle'></label><ul><li><span class='ee-k'>type:</span><span class='ee-v'>PixelType</span></li><li><span class='ee-k'>precision:</span><span class='ee-v'>float</span></li></ul></li><li><label class='ee-shut'>dimensions: [1405, 621]<input type='checkbox' class='ee-toggle'></label><ul><li><span class='ee-k'>0:</span><span class='ee-v'>1405</span></li><li><span class='ee-k'>1:</span><span class='ee-v'>621</span></li></ul></li></ul></li></ul></li></ul></li></ul></div><script>function toggleHeader() {\n",
                            "    const parent = this.parentElement;\n",
                            "    parent.className = parent.className === \"ee-open\" ? \"ee-shut\" : \"ee-open\";\n",
                            "}\n",
                            "\n",
                            "for (let c of document.getElementsByClassName(\"ee-toggle\")) {\n",
                            "    c.onclick = toggleHeader;\n",
                            "}</script></div>"
                        ],
                        "text/plain": [
                            "<ee.image.Image at 0x7f455c6a6dd0>"
                        ]
                    },
                    "execution_count": 27,
                    "metadata": {},
                    "output_type": "execute_result"
                }
            ],
            "source": [
                "normClim"
            ]
        },
        {
            "cell_type": "code",
            "execution_count": 31,
            "metadata": {},
            "outputs": [
                {
                    "data": {
                        "text/html": [
                            "\n",
                            "            <style>\n",
                            "                .geemap-dark {\n",
                            "                    --jp-widgets-color: white;\n",
                            "                    --jp-widgets-label-color: white;\n",
                            "                    --jp-ui-font-color1: white;\n",
                            "                    --jp-layout-color2: #454545;\n",
                            "                    background-color: #383838;\n",
                            "                }\n",
                            "                    \n",
                            "                .geemap-dark .jupyter-button {\n",
                            "                    --jp-layout-color3: #383838;\n",
                            "                }\n",
                            "                \n",
                            "                .geemap-colab {\n",
                            "                    background-color: var(--colab-primary-surface-color, white);\n",
                            "                }\n",
                            "                    \n",
                            "                .geemap-colab .jupyter-button {\n",
                            "                    --jp-layout-color3: var(--colab-primary-surface-color, white);\n",
                            "                }\n",
                            "            </style>\n",
                            "            "
                        ],
                        "text/plain": [
                            "<IPython.core.display.HTML object>"
                        ]
                    },
                    "metadata": {},
                    "output_type": "display_data"
                }
            ],
            "source": [
                "fc = geemap.zonal_stats(normClim, ecoregions, stat_type='MEAN', scale=500, return_fc=True, verbose=False)"
            ]
        },
        {
            "cell_type": "code",
            "execution_count": 32,
            "metadata": {},
            "outputs": [
                {
                    "data": {
                        "text/html": [
                            "\n",
                            "            <style>\n",
                            "                .geemap-dark {\n",
                            "                    --jp-widgets-color: white;\n",
                            "                    --jp-widgets-label-color: white;\n",
                            "                    --jp-ui-font-color1: white;\n",
                            "                    --jp-layout-color2: #454545;\n",
                            "                    background-color: #383838;\n",
                            "                }\n",
                            "                    \n",
                            "                .geemap-dark .jupyter-button {\n",
                            "                    --jp-layout-color3: #383838;\n",
                            "                }\n",
                            "                \n",
                            "                .geemap-colab {\n",
                            "                    background-color: var(--colab-primary-surface-color, white);\n",
                            "                }\n",
                            "                    \n",
                            "                .geemap-colab .jupyter-button {\n",
                            "                    --jp-layout-color3: var(--colab-primary-surface-color, white);\n",
                            "                }\n",
                            "            </style>\n",
                            "            "
                        ],
                        "text/plain": [
                            "<IPython.core.display.HTML object>"
                        ]
                    },
                    "metadata": {},
                    "output_type": "display_data"
                },
                {
                    "data": {
                        "text/html": [
                            "<div>\n",
                            "<style scoped>\n",
                            "    .dataframe tbody tr th:only-of-type {\n",
                            "        vertical-align: middle;\n",
                            "    }\n",
                            "\n",
                            "    .dataframe tbody tr th {\n",
                            "        vertical-align: top;\n",
                            "    }\n",
                            "\n",
                            "    .dataframe thead th {\n",
                            "        text-align: right;\n",
                            "    }\n",
                            "</style>\n",
                            "<table border=\"1\" class=\"dataframe\">\n",
                            "  <thead>\n",
                            "    <tr style=\"text-align: right;\">\n",
                            "      <th></th>\n",
                            "      <th>01_ppt</th>\n",
                            "      <th>01_tdmean</th>\n",
                            "      <th>01_tmax</th>\n",
                            "      <th>01_tmean</th>\n",
                            "      <th>01_tmin</th>\n",
                            "      <th>01_vpdmax</th>\n",
                            "      <th>01_vpdmin</th>\n",
                            "      <th>02_ppt</th>\n",
                            "      <th>02_tdmean</th>\n",
                            "      <th>02_tmax</th>\n",
                            "      <th>...</th>\n",
                            "      <th>12_ppt</th>\n",
                            "      <th>12_tdmean</th>\n",
                            "      <th>12_tmax</th>\n",
                            "      <th>12_tmean</th>\n",
                            "      <th>12_tmin</th>\n",
                            "      <th>12_vpdmax</th>\n",
                            "      <th>12_vpdmin</th>\n",
                            "      <th>label</th>\n",
                            "      <th>value</th>\n",
                            "      <th>warm</th>\n",
                            "    </tr>\n",
                            "  </thead>\n",
                            "  <tbody>\n",
                            "    <tr>\n",
                            "      <th>0</th>\n",
                            "      <td>27.954341</td>\n",
                            "      <td>-5.938981</td>\n",
                            "      <td>14.051854</td>\n",
                            "      <td>5.910990</td>\n",
                            "      <td>-2.469782</td>\n",
                            "      <td>12.487592</td>\n",
                            "      <td>1.354838</td>\n",
                            "      <td>21.858469</td>\n",
                            "      <td>-5.516508</td>\n",
                            "      <td>16.323491</td>\n",
                            "      <td>...</td>\n",
                            "      <td>35.557367</td>\n",
                            "      <td>-5.750375</td>\n",
                            "      <td>13.843468</td>\n",
                            "      <td>5.783772</td>\n",
                            "      <td>-2.560697</td>\n",
                            "      <td>12.173214</td>\n",
                            "      <td>1.272226</td>\n",
                            "      <td>Desert</td>\n",
                            "      <td>0</td>\n",
                            "      <td>1</td>\n",
                            "    </tr>\n",
                            "    <tr>\n",
                            "      <th>1</th>\n",
                            "      <td>235.373540</td>\n",
                            "      <td>-0.696075</td>\n",
                            "      <td>6.547829</td>\n",
                            "      <td>3.094200</td>\n",
                            "      <td>-0.962896</td>\n",
                            "      <td>4.098799</td>\n",
                            "      <td>0.508449</td>\n",
                            "      <td>181.531780</td>\n",
                            "      <td>-0.703566</td>\n",
                            "      <td>8.196231</td>\n",
                            "      <td>...</td>\n",
                            "      <td>273.243438</td>\n",
                            "      <td>-0.668041</td>\n",
                            "      <td>5.827072</td>\n",
                            "      <td>2.610459</td>\n",
                            "      <td>-1.191301</td>\n",
                            "      <td>3.521696</td>\n",
                            "      <td>0.480811</td>\n",
                            "      <td>Forest</td>\n",
                            "      <td>1</td>\n",
                            "      <td>1</td>\n",
                            "    </tr>\n",
                            "    <tr>\n",
                            "      <th>2</th>\n",
                            "      <td>9.636893</td>\n",
                            "      <td>-9.243995</td>\n",
                            "      <td>2.920941</td>\n",
                            "      <td>-3.734058</td>\n",
                            "      <td>-10.434157</td>\n",
                            "      <td>4.750901</td>\n",
                            "      <td>0.487785</td>\n",
                            "      <td>13.915104</td>\n",
                            "      <td>-7.865428</td>\n",
                            "      <td>4.853363</td>\n",
                            "      <td>...</td>\n",
                            "      <td>11.198115</td>\n",
                            "      <td>-8.863683</td>\n",
                            "      <td>3.177410</td>\n",
                            "      <td>-3.396242</td>\n",
                            "      <td>-10.030822</td>\n",
                            "      <td>5.038356</td>\n",
                            "      <td>0.488113</td>\n",
                            "      <td>Grassland</td>\n",
                            "      <td>2</td>\n",
                            "      <td>0</td>\n",
                            "    </tr>\n",
                            "  </tbody>\n",
                            "</table>\n",
                            "<p>3 rows × 87 columns</p>\n",
                            "</div>"
                        ],
                        "text/plain": [
                            "       01_ppt  01_tdmean    01_tmax  01_tmean    01_tmin  01_vpdmax  \\\n",
                            "0   27.954341  -5.938981  14.051854  5.910990  -2.469782  12.487592   \n",
                            "1  235.373540  -0.696075   6.547829  3.094200  -0.962896   4.098799   \n",
                            "2    9.636893  -9.243995   2.920941 -3.734058 -10.434157   4.750901   \n",
                            "\n",
                            "   01_vpdmin      02_ppt  02_tdmean    02_tmax  ...      12_ppt  12_tdmean  \\\n",
                            "0   1.354838   21.858469  -5.516508  16.323491  ...   35.557367  -5.750375   \n",
                            "1   0.508449  181.531780  -0.703566   8.196231  ...  273.243438  -0.668041   \n",
                            "2   0.487785   13.915104  -7.865428   4.853363  ...   11.198115  -8.863683   \n",
                            "\n",
                            "     12_tmax  12_tmean    12_tmin  12_vpdmax  12_vpdmin      label  value  \\\n",
                            "0  13.843468  5.783772  -2.560697  12.173214   1.272226     Desert      0   \n",
                            "1   5.827072  2.610459  -1.191301   3.521696   0.480811     Forest      1   \n",
                            "2   3.177410 -3.396242 -10.030822   5.038356   0.488113  Grassland      2   \n",
                            "\n",
                            "   warm  \n",
                            "0     1  \n",
                            "1     1  \n",
                            "2     0  \n",
                            "\n",
                            "[3 rows x 87 columns]"
                        ]
                    },
                    "execution_count": 32,
                    "metadata": {},
                    "output_type": "execute_result"
                }
            ],
            "source": [
                "geemap.ee_to_df(fc)"
            ]
        },
        {
            "cell_type": "markdown",
            "metadata": {},
            "source": [
                "## Creating a chart from ee.FeatureCollection by property\n",
                "\n",
                "Reference: https://developers.google.com/earth-engine/guides/charts_feature#uichartfeaturebyproperty"
            ]
        },
        {
            "cell_type": "code",
            "execution_count": 7,
            "metadata": {},
            "outputs": [
                {
                    "data": {
                        "text/html": [
                            "\n",
                            "            <style>\n",
                            "                .geemap-dark {\n",
                            "                    --jp-widgets-color: white;\n",
                            "                    --jp-widgets-label-color: white;\n",
                            "                    --jp-ui-font-color1: white;\n",
                            "                    --jp-layout-color2: #454545;\n",
                            "                    background-color: #383838;\n",
                            "                }\n",
                            "                    \n",
                            "                .geemap-dark .jupyter-button {\n",
                            "                    --jp-layout-color3: #383838;\n",
                            "                }\n",
                            "                \n",
                            "                .geemap-colab {\n",
                            "                    background-color: var(--colab-primary-surface-color, white);\n",
                            "                }\n",
                            "                    \n",
                            "                .geemap-colab .jupyter-button {\n",
                            "                    --jp-layout-color3: var(--colab-primary-surface-color, white);\n",
                            "                }\n",
                            "            </style>\n",
                            "            "
                        ],
                        "text/plain": [
                            "<IPython.core.display.HTML object>"
                        ]
                    },
                    "metadata": {},
                    "output_type": "display_data"
                },
                {
                    "data": {
                        "application/vnd.jupyter.widget-view+json": {
                            "model_id": "be0a3e6aa46e441eaa345ad6ea770d36",
                            "version_major": 2,
                            "version_minor": 0
                        },
                        "text/plain": [
                            "Map(center=[0, 0], controls=(WidgetControl(options=['position', 'transparent_bg'], widget=SearchDataGUI(childr…"
                        ]
                    },
                    "metadata": {},
                    "output_type": "display_data"
                }
            ],
            "source": [
                "Map = geemap.Map()\n",
                "\n",
                "features = ee.FeatureCollection('projects/google/charts_feature_example').select(\n",
                "    '[0-9][0-9]_ppt|label'\n",
                ")\n",
                "\n",
                "Map.addLayer(features, {}, 'Features')\n",
                "Map"
            ]
        },
        {
            "cell_type": "code",
            "execution_count": 8,
            "metadata": {},
            "outputs": [
                {
                    "data": {
                        "text/html": [
                            "\n",
                            "            <style>\n",
                            "                .geemap-dark {\n",
                            "                    --jp-widgets-color: white;\n",
                            "                    --jp-widgets-label-color: white;\n",
                            "                    --jp-ui-font-color1: white;\n",
                            "                    --jp-layout-color2: #454545;\n",
                            "                    background-color: #383838;\n",
                            "                }\n",
                            "                    \n",
                            "                .geemap-dark .jupyter-button {\n",
                            "                    --jp-layout-color3: #383838;\n",
                            "                }\n",
                            "                \n",
                            "                .geemap-colab {\n",
                            "                    background-color: var(--colab-primary-surface-color, white);\n",
                            "                }\n",
                            "                    \n",
                            "                .geemap-colab .jupyter-button {\n",
                            "                    --jp-layout-color3: var(--colab-primary-surface-color, white);\n",
                            "                }\n",
                            "            </style>\n",
                            "            "
                        ],
                        "text/plain": [
                            "<IPython.core.display.HTML object>"
                        ]
                    },
                    "metadata": {},
                    "output_type": "display_data"
                },
                {
                    "data": {
                        "text/html": [
                            "<div>\n",
                            "<style scoped>\n",
                            "    .dataframe tbody tr th:only-of-type {\n",
                            "        vertical-align: middle;\n",
                            "    }\n",
                            "\n",
                            "    .dataframe tbody tr th {\n",
                            "        vertical-align: top;\n",
                            "    }\n",
                            "\n",
                            "    .dataframe thead th {\n",
                            "        text-align: right;\n",
                            "    }\n",
                            "</style>\n",
                            "<table border=\"1\" class=\"dataframe\">\n",
                            "  <thead>\n",
                            "    <tr style=\"text-align: right;\">\n",
                            "      <th></th>\n",
                            "      <th>01_ppt</th>\n",
                            "      <th>02_ppt</th>\n",
                            "      <th>03_ppt</th>\n",
                            "      <th>04_ppt</th>\n",
                            "      <th>05_ppt</th>\n",
                            "      <th>06_ppt</th>\n",
                            "      <th>07_ppt</th>\n",
                            "      <th>08_ppt</th>\n",
                            "      <th>09_ppt</th>\n",
                            "      <th>10_ppt</th>\n",
                            "      <th>11_ppt</th>\n",
                            "      <th>12_ppt</th>\n",
                            "      <th>label</th>\n",
                            "    </tr>\n",
                            "  </thead>\n",
                            "  <tbody>\n",
                            "    <tr>\n",
                            "      <th>0</th>\n",
                            "      <td>27.954341</td>\n",
                            "      <td>21.858469</td>\n",
                            "      <td>17.579124</td>\n",
                            "      <td>8.252543</td>\n",
                            "      <td>8.372216</td>\n",
                            "      <td>14.802123</td>\n",
                            "      <td>80.389409</td>\n",
                            "      <td>79.326886</td>\n",
                            "      <td>37.412247</td>\n",
                            "      <td>32.728694</td>\n",
                            "      <td>22.809099</td>\n",
                            "      <td>35.557367</td>\n",
                            "      <td>Desert</td>\n",
                            "    </tr>\n",
                            "    <tr>\n",
                            "      <th>1</th>\n",
                            "      <td>235.373540</td>\n",
                            "      <td>181.531780</td>\n",
                            "      <td>181.917962</td>\n",
                            "      <td>150.759019</td>\n",
                            "      <td>112.392139</td>\n",
                            "      <td>72.709877</td>\n",
                            "      <td>23.409216</td>\n",
                            "      <td>25.395566</td>\n",
                            "      <td>54.064534</td>\n",
                            "      <td>121.976155</td>\n",
                            "      <td>261.008798</td>\n",
                            "      <td>273.243438</td>\n",
                            "      <td>Forest</td>\n",
                            "    </tr>\n",
                            "    <tr>\n",
                            "      <th>2</th>\n",
                            "      <td>9.636893</td>\n",
                            "      <td>13.915104</td>\n",
                            "      <td>29.761295</td>\n",
                            "      <td>57.736112</td>\n",
                            "      <td>84.276450</td>\n",
                            "      <td>86.136860</td>\n",
                            "      <td>76.181755</td>\n",
                            "      <td>60.189630</td>\n",
                            "      <td>45.833161</td>\n",
                            "      <td>38.134907</td>\n",
                            "      <td>20.085923</td>\n",
                            "      <td>11.198115</td>\n",
                            "      <td>Grassland</td>\n",
                            "    </tr>\n",
                            "  </tbody>\n",
                            "</table>\n",
                            "</div>"
                        ],
                        "text/plain": [
                            "       01_ppt      02_ppt      03_ppt      04_ppt      05_ppt     06_ppt  \\\n",
                            "0   27.954341   21.858469   17.579124    8.252543    8.372216  14.802123   \n",
                            "1  235.373540  181.531780  181.917962  150.759019  112.392139  72.709877   \n",
                            "2    9.636893   13.915104   29.761295   57.736112   84.276450  86.136860   \n",
                            "\n",
                            "      07_ppt     08_ppt     09_ppt      10_ppt      11_ppt      12_ppt  \\\n",
                            "0  80.389409  79.326886  37.412247   32.728694   22.809099   35.557367   \n",
                            "1  23.409216  25.395566  54.064534  121.976155  261.008798  273.243438   \n",
                            "2  76.181755  60.189630  45.833161   38.134907   20.085923   11.198115   \n",
                            "\n",
                            "       label  \n",
                            "0     Desert  \n",
                            "1     Forest  \n",
                            "2  Grassland  "
                        ]
                    },
                    "execution_count": 8,
                    "metadata": {},
                    "output_type": "execute_result"
                }
            ],
            "source": [
                "df = geemap.ee_to_df(features)\n",
                "df"
            ]
        },
        {
            "cell_type": "code",
            "execution_count": 9,
            "metadata": {},
            "outputs": [
                {
                    "data": {
                        "text/html": [
                            "\n",
                            "            <style>\n",
                            "                .geemap-dark {\n",
                            "                    --jp-widgets-color: white;\n",
                            "                    --jp-widgets-label-color: white;\n",
                            "                    --jp-ui-font-color1: white;\n",
                            "                    --jp-layout-color2: #454545;\n",
                            "                    background-color: #383838;\n",
                            "                }\n",
                            "                    \n",
                            "                .geemap-dark .jupyter-button {\n",
                            "                    --jp-layout-color3: #383838;\n",
                            "                }\n",
                            "                \n",
                            "                .geemap-colab {\n",
                            "                    background-color: var(--colab-primary-surface-color, white);\n",
                            "                }\n",
                            "                    \n",
                            "                .geemap-colab .jupyter-button {\n",
                            "                    --jp-layout-color3: var(--colab-primary-surface-color, white);\n",
                            "                }\n",
                            "            </style>\n",
                            "            "
                        ],
                        "text/plain": [
                            "<IPython.core.display.HTML object>"
                        ]
                    },
                    "metadata": {},
                    "output_type": "display_data"
                }
            ],
            "source": [
                "keys = [str(x).zfill(2) + \"_ppt\" for x in range(1, 13)]\n",
                "values = [\n",
                "    'Jan',\n",
                "    'Feb',\n",
                "    'Mar',\n",
                "    'Apr',\n",
                "    'May',\n",
                "    'Jun',\n",
                "    'Jul',\n",
                "    'Aug',\n",
                "    'Sep',\n",
                "    'Oct',\n",
                "    'Nov',\n",
                "    'Dec',\n",
                "]"
            ]
        },
        {
            "cell_type": "code",
            "execution_count": 10,
            "metadata": {},
            "outputs": [
                {
                    "data": {
                        "text/html": [
                            "\n",
                            "            <style>\n",
                            "                .geemap-dark {\n",
                            "                    --jp-widgets-color: white;\n",
                            "                    --jp-widgets-label-color: white;\n",
                            "                    --jp-ui-font-color1: white;\n",
                            "                    --jp-layout-color2: #454545;\n",
                            "                    background-color: #383838;\n",
                            "                }\n",
                            "                    \n",
                            "                .geemap-dark .jupyter-button {\n",
                            "                    --jp-layout-color3: #383838;\n",
                            "                }\n",
                            "                \n",
                            "                .geemap-colab {\n",
                            "                    background-color: var(--colab-primary-surface-color, white);\n",
                            "                }\n",
                            "                    \n",
                            "                .geemap-colab .jupyter-button {\n",
                            "                    --jp-layout-color3: var(--colab-primary-surface-color, white);\n",
                            "                }\n",
                            "            </style>\n",
                            "            "
                        ],
                        "text/plain": [
                            "<IPython.core.display.HTML object>"
                        ]
                    },
                    "metadata": {},
                    "output_type": "display_data"
                }
            ],
            "source": [
                "xProperties = dict(zip(keys, values))\n",
                "seriesProperty = \"label\""
            ]
        },
        {
            "cell_type": "code",
            "execution_count": 11,
            "metadata": {},
            "outputs": [
                {
                    "data": {
                        "text/html": [
                            "\n",
                            "            <style>\n",
                            "                .geemap-dark {\n",
                            "                    --jp-widgets-color: white;\n",
                            "                    --jp-widgets-label-color: white;\n",
                            "                    --jp-ui-font-color1: white;\n",
                            "                    --jp-layout-color2: #454545;\n",
                            "                    background-color: #383838;\n",
                            "                }\n",
                            "                    \n",
                            "                .geemap-dark .jupyter-button {\n",
                            "                    --jp-layout-color3: #383838;\n",
                            "                }\n",
                            "                \n",
                            "                .geemap-colab {\n",
                            "                    background-color: var(--colab-primary-surface-color, white);\n",
                            "                }\n",
                            "                    \n",
                            "                .geemap-colab .jupyter-button {\n",
                            "                    --jp-layout-color3: var(--colab-primary-surface-color, white);\n",
                            "                }\n",
                            "            </style>\n",
                            "            "
                        ],
                        "text/plain": [
                            "<IPython.core.display.HTML object>"
                        ]
                    },
                    "metadata": {},
                    "output_type": "display_data"
                }
            ],
            "source": [
                "options = {\n",
                "    'title': \"Average Ecoregion Precipitation by Month\",\n",
                "    'colors': ['#f0af07', '#0f8755', '#76b349'],\n",
                "    'xlabel': \"Month\",\n",
                "    'ylabel': \"Precipitation (mm)\",\n",
                "    'legend_location': \"top-left\",\n",
                "    \"height\": \"500px\",\n",
                "}"
            ]
        },
        {
            "cell_type": "code",
            "execution_count": 12,
            "metadata": {},
            "outputs": [
                {
                    "data": {
                        "text/html": [
                            "\n",
                            "            <style>\n",
                            "                .geemap-dark {\n",
                            "                    --jp-widgets-color: white;\n",
                            "                    --jp-widgets-label-color: white;\n",
                            "                    --jp-ui-font-color1: white;\n",
                            "                    --jp-layout-color2: #454545;\n",
                            "                    background-color: #383838;\n",
                            "                }\n",
                            "                    \n",
                            "                .geemap-dark .jupyter-button {\n",
                            "                    --jp-layout-color3: #383838;\n",
                            "                }\n",
                            "                \n",
                            "                .geemap-colab {\n",
                            "                    background-color: var(--colab-primary-surface-color, white);\n",
                            "                }\n",
                            "                    \n",
                            "                .geemap-colab .jupyter-button {\n",
                            "                    --jp-layout-color3: var(--colab-primary-surface-color, white);\n",
                            "                }\n",
                            "            </style>\n",
                            "            "
                        ],
                        "text/plain": [
                            "<IPython.core.display.HTML object>"
                        ]
                    },
                    "metadata": {},
                    "output_type": "display_data"
                },
                {
                    "data": {
                        "application/vnd.jupyter.widget-view+json": {
                            "model_id": "2ad49b761e9e413e8e1cdaf59294a9d7",
                            "version_major": 2,
                            "version_minor": 0
                        },
                        "text/plain": [
                            "VBox(children=(Figure(axes=[Axis(label='Month', scale=OrdinalScale()), Axis(label='Precipitation (mm)', orient…"
                        ]
                    },
                    "metadata": {},
                    "output_type": "display_data"
                }
            ],
            "source": [
                "chart.feature_byProperty(features, xProperties, seriesProperty, **options)"
            ]
        },
        {
            "cell_type": "markdown",
            "metadata": {},
            "source": [
                "![](https://i.imgur.com/mS3vzHJ.png)"
            ]
        },
        {
            "cell_type": "markdown",
            "metadata": {},
            "source": [
                "## Creating a chart from ee.FeatureCollection from a group of features\n",
                "Reference: https://developers.google.com/earth-engine/guides/charts_feature#uichartfeaturegroups"
            ]
        },
        {
            "cell_type": "code",
            "execution_count": 13,
            "metadata": {},
            "outputs": [
                {
                    "data": {
                        "text/html": [
                            "\n",
                            "            <style>\n",
                            "                .geemap-dark {\n",
                            "                    --jp-widgets-color: white;\n",
                            "                    --jp-widgets-label-color: white;\n",
                            "                    --jp-ui-font-color1: white;\n",
                            "                    --jp-layout-color2: #454545;\n",
                            "                    background-color: #383838;\n",
                            "                }\n",
                            "                    \n",
                            "                .geemap-dark .jupyter-button {\n",
                            "                    --jp-layout-color3: #383838;\n",
                            "                }\n",
                            "                \n",
                            "                .geemap-colab {\n",
                            "                    background-color: var(--colab-primary-surface-color, white);\n",
                            "                }\n",
                            "                    \n",
                            "                .geemap-colab .jupyter-button {\n",
                            "                    --jp-layout-color3: var(--colab-primary-surface-color, white);\n",
                            "                }\n",
                            "            </style>\n",
                            "            "
                        ],
                        "text/plain": [
                            "<IPython.core.display.HTML object>"
                        ]
                    },
                    "metadata": {},
                    "output_type": "display_data"
                }
            ],
            "source": [
                "Map = geemap.Map()\n",
                "\n",
                "features = ee.FeatureCollection('projects/google/charts_feature_example')\n",
                "xProperty = 'label'\n",
                "yProperty = '01_tmean'\n",
                "seriesProperty = 'warm'"
            ]
        },
        {
            "cell_type": "code",
            "execution_count": 14,
            "metadata": {},
            "outputs": [
                {
                    "data": {
                        "text/html": [
                            "\n",
                            "            <style>\n",
                            "                .geemap-dark {\n",
                            "                    --jp-widgets-color: white;\n",
                            "                    --jp-widgets-label-color: white;\n",
                            "                    --jp-ui-font-color1: white;\n",
                            "                    --jp-layout-color2: #454545;\n",
                            "                    background-color: #383838;\n",
                            "                }\n",
                            "                    \n",
                            "                .geemap-dark .jupyter-button {\n",
                            "                    --jp-layout-color3: #383838;\n",
                            "                }\n",
                            "                \n",
                            "                .geemap-colab {\n",
                            "                    background-color: var(--colab-primary-surface-color, white);\n",
                            "                }\n",
                            "                    \n",
                            "                .geemap-colab .jupyter-button {\n",
                            "                    --jp-layout-color3: var(--colab-primary-surface-color, white);\n",
                            "                }\n",
                            "            </style>\n",
                            "            "
                        ],
                        "text/plain": [
                            "<IPython.core.display.HTML object>"
                        ]
                    },
                    "metadata": {},
                    "output_type": "display_data"
                }
            ],
            "source": [
                "options = {\n",
                "    'title': \"Average January Temperature by Ecoregion\",\n",
                "    'colors': ['#cf513e', '#1d6b99'],\n",
                "    'xlabel': \"Ecoregion\",\n",
                "    'ylabel': \"Jan temp (C)\",\n",
                "    'legend_location': \"top-right\",\n",
                "    'height': \"500px\",\n",
                "    'labels': [\"Warm\", \"Cold\"],\n",
                "}"
            ]
        },
        {
            "cell_type": "code",
            "execution_count": 15,
            "metadata": {},
            "outputs": [
                {
                    "data": {
                        "text/html": [
                            "\n",
                            "            <style>\n",
                            "                .geemap-dark {\n",
                            "                    --jp-widgets-color: white;\n",
                            "                    --jp-widgets-label-color: white;\n",
                            "                    --jp-ui-font-color1: white;\n",
                            "                    --jp-layout-color2: #454545;\n",
                            "                    background-color: #383838;\n",
                            "                }\n",
                            "                    \n",
                            "                .geemap-dark .jupyter-button {\n",
                            "                    --jp-layout-color3: #383838;\n",
                            "                }\n",
                            "                \n",
                            "                .geemap-colab {\n",
                            "                    background-color: var(--colab-primary-surface-color, white);\n",
                            "                }\n",
                            "                    \n",
                            "                .geemap-colab .jupyter-button {\n",
                            "                    --jp-layout-color3: var(--colab-primary-surface-color, white);\n",
                            "                }\n",
                            "            </style>\n",
                            "            "
                        ],
                        "text/plain": [
                            "<IPython.core.display.HTML object>"
                        ]
                    },
                    "metadata": {},
                    "output_type": "display_data"
                },
                {
                    "data": {
                        "application/vnd.jupyter.widget-view+json": {
                            "model_id": "5455a0ff48e6453ca24e1738a3eeee5f",
                            "version_major": 2,
                            "version_minor": 0
                        },
                        "text/plain": [
                            "VBox(children=(Figure(axes=[Axis(label='Ecoregion', scale=OrdinalScale()), Axis(label='Jan temp (C)', orientat…"
                        ]
                    },
                    "metadata": {},
                    "output_type": "display_data"
                }
            ],
            "source": [
                "chart.feature_groups(features, xProperty, yProperty, seriesProperty, **options)"
            ]
        }
    ],
    "metadata": {
        "kernelspec": {
            "display_name": "Python 3",
            "language": "python",
            "name": "python3"
        },
        "language_info": {
            "codemirror_mode": {
                "name": "ipython",
                "version": 3
            },
            "file_extension": ".py",
            "mimetype": "text/x-python",
            "name": "python",
            "nbconvert_exporter": "python",
            "pygments_lexer": "ipython3",
            "version": "3.11.6"
        }
    },
    "nbformat": 4,
    "nbformat_minor": 5
}
