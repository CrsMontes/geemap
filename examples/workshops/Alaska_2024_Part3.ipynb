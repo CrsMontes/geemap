{
 "cells": [
  {
   "cell_type": "markdown",
   "id": "0",
   "metadata": {},
   "source": [
    "[![image](https://colab.research.google.com/assets/colab-badge.svg)](https://colab.research.google.com/github/gee-community/geemap/blob/master/docs/workshops/Alaska_2024_Part3.ipynb)\n",
    "\n",
    "**Geospatial Cloud Computing with the GEE Python API - Part 3**\n",
    "\n",
    "-   Notebook: <https://geemap.org/workshops/Alaska_2024_Part3>\n",
    "-   Earth Engine: <https://earthengine.google.com>\n",
    "-   Geemap: <https://geemap.org>\n",
    "\n",
    "## Introduction\n",
    "\n",
    "This notebook contains the materials for the third part of the workshop **Geospatial Cloud Computing with the GEE Python API** at the University of Alaska Fairbanks.\n",
    "\n",
    "This workshop provides an introduction to cloud-based geospatial analysis using the Earth Engine Python API. Attendees will learn the basics of Earth Engine data types and how to visualize, analyze, and export Earth Engine data in a Jupyter environment with geemap. In addition, attendees will learn how to develop and deploy interactive Earth Engine web apps with Python. Through practical examples and hands-on exercises, attendees will enhance their learning experience. During each hands-on session, attendees will walk through Jupyter Notebook examples on Google Colab with the instructors. At the end of each session, they will complete a hands-on exercise to apply the knowledge they have learned.\n",
    "\n",
    "### Agenda\n",
    "\n",
    "The workshop is divided into three parts. The third part will cover the following topics:\n",
    "\n",
    "-   Image Classification (focused on land cover in Alaska)\n",
    "-   Accuracy assessment\n",
    "-   Create and export maps\n",
    "-   Building interactive web apps\n",
    "\n",
    "### Prerequisites\n",
    "\n",
    "-   To use geemap and the Earth Engine Python API, you must [register](https://code.earthengine.google.com/register) for an Earth Engine account and follow the instructions [here](https://docs.google.com/document/d/1ZGSmrNm6_baqd8CHt33kIBWOlvkh-HLr46bODgJN1h0/edit?usp=sharing) to create a Cloud Project. Earth Engine is free for [noncommercial and research use](https://earthengine.google.com/noncommercial). To test whether you can use authenticate the Earth Engine Python API, please run [this notebook](https://colab.research.google.com/github/giswqs/geemap/blob/master/examples/notebooks/geemap_colab.ipynb) on Google Colab.\n",
    "\n",
    "### Import libraries"
   ]
  },
  {
   "cell_type": "code",
   "execution_count": null,
   "id": "1",
   "metadata": {},
   "outputs": [],
   "source": [
    "import ee\n",
    "import geemap"
   ]
  },
  {
   "cell_type": "code",
   "execution_count": null,
   "id": "2",
   "metadata": {},
   "outputs": [],
   "source": [
    "geemap.ee_initialize()"
   ]
  },
  {
   "cell_type": "markdown",
   "id": "3",
   "metadata": {},
   "source": [
    "## Image Classification\n",
    "\n",
    "### Unsupervised classification"
   ]
  },
  {
   "cell_type": "code",
   "execution_count": null,
   "id": "4",
   "metadata": {},
   "outputs": [],
   "source": [
    "m = geemap.Map()\n",
    "\n",
    "point = ee.Geometry.Point([-88.0664, 41.9411])\n",
    "\n",
    "image = (\n",
    "    ee.ImageCollection(\"LANDSAT/LC09/C02/T1_L2\")\n",
    "    .filterBounds(point)\n",
    "    .filterDate(\"2022-01-01\", \"2022-12-31\")\n",
    "    .sort(\"CLOUD_COVER\")\n",
    "    .first()\n",
    "    .select(\"SR_B[1-7]\")\n",
    ")\n",
    "\n",
    "region = image.geometry()\n",
    "image = image.multiply(0.0000275).add(-0.2).set(image.toDictionary())\n",
    "vis_params = {\"min\": 0, \"max\": 0.3, \"bands\": [\"SR_B5\", \"SR_B4\", \"SR_B3\"]}\n",
    "\n",
    "m.centerObject(region, 8)\n",
    "m.addLayer(image, vis_params, \"Landsat-9\")\n",
    "m"
   ]
  },
  {
   "cell_type": "code",
   "execution_count": null,
   "id": "5",
   "metadata": {},
   "outputs": [],
   "source": [
    "geemap.get_info(image)"
   ]
  },
  {
   "cell_type": "code",
   "execution_count": null,
   "id": "6",
   "metadata": {},
   "outputs": [],
   "source": [
    "image.get(\"DATE_ACQUIRED\").getInfo()"
   ]
  },
  {
   "cell_type": "code",
   "execution_count": null,
   "id": "7",
   "metadata": {},
   "outputs": [],
   "source": [
    "image.get(\"CLOUD_COVER\").getInfo()"
   ]
  },
  {
   "cell_type": "code",
   "execution_count": null,
   "id": "8",
   "metadata": {},
   "outputs": [],
   "source": [
    "training = image.sample(\n",
    "    **{\n",
    "        # \"region\": region,\n",
    "        \"scale\": 30,\n",
    "        \"numPixels\": 5000,\n",
    "        \"seed\": 0,\n",
    "        \"geometries\": True,  # Set this to False to ignore geometries\n",
    "    }\n",
    ")\n",
    "\n",
    "m.addLayer(training, {}, \"Training samples\")\n",
    "m"
   ]
  },
  {
   "cell_type": "code",
   "execution_count": null,
   "id": "9",
   "metadata": {},
   "outputs": [],
   "source": [
    "geemap.ee_to_df(training.limit(5))"
   ]
  },
  {
   "cell_type": "code",
   "execution_count": null,
   "id": "10",
   "metadata": {},
   "outputs": [],
   "source": [
    "n_clusters = 5\n",
    "clusterer = ee.Clusterer.wekaKMeans(n_clusters).train(training)"
   ]
  },
  {
   "cell_type": "code",
   "execution_count": null,
   "id": "11",
   "metadata": {},
   "outputs": [],
   "source": [
    "result = image.cluster(clusterer)\n",
    "m.addLayer(result.randomVisualizer(), {}, \"clusters\")\n",
    "m"
   ]
  },
  {
   "cell_type": "code",
   "execution_count": null,
   "id": "12",
   "metadata": {},
   "outputs": [],
   "source": [
    "legend_dict = {\n",
    "    \"Open Water\": \"#466b9f\",\n",
    "    \"Developed, High Intensity\": \"#ab0000\",\n",
    "    \"Developed, Low Intensity\": \"#d99282\",\n",
    "    \"Forest\": \"#1c5f2c\",\n",
    "    \"Cropland\": \"#ab6c28\",\n",
    "}\n",
    "\n",
    "palette = list(legend_dict.values())\n",
    "\n",
    "m.addLayer(result, {\"min\": 0, \"max\": 4, \"palette\": palette}, \"Labelled clusters\")\n",
    "m.add_legend(title=\"Land Cover Type\", legend_dict=legend_dict, position=\"bottomright\")\n",
    "m"
   ]
  },
  {
   "cell_type": "code",
   "execution_count": null,
   "id": "13",
   "metadata": {},
   "outputs": [],
   "source": [
    "geemap.download_ee_image(image, filename=\"unsupervised.tif\", region=region, scale=90)"
   ]
  },
  {
   "cell_type": "markdown",
   "id": "14",
   "metadata": {},
   "source": [
    "### Supervised classification"
   ]
  },
  {
   "cell_type": "code",
   "execution_count": null,
   "id": "15",
   "metadata": {},
   "outputs": [],
   "source": [
    "m = geemap.Map()\n",
    "point = ee.Geometry.Point([-122.4439, 37.7538])\n",
    "\n",
    "image = (\n",
    "    ee.ImageCollection(\"LANDSAT/LC08/C02/T1_L2\")\n",
    "    .filterBounds(point)\n",
    "    .filterDate(\"2019-01-01\", \"2020-01-01\")\n",
    "    .sort(\"CLOUD_COVER\")\n",
    "    .first()\n",
    "    .select(\"SR_B[1-7]\")\n",
    ")\n",
    "\n",
    "image = image.multiply(0.0000275).add(-0.2).set(image.toDictionary())\n",
    "vis_params = {\"min\": 0, \"max\": 0.3, \"bands\": [\"SR_B5\", \"SR_B4\", \"SR_B3\"]}\n",
    "\n",
    "m.centerObject(point, 8)\n",
    "m.addLayer(image, vis_params, \"Landsat-8\")\n",
    "m"
   ]
  },
  {
   "cell_type": "code",
   "execution_count": null,
   "id": "16",
   "metadata": {},
   "outputs": [],
   "source": [
    "geemap.get_info(image)"
   ]
  },
  {
   "cell_type": "code",
   "execution_count": null,
   "id": "17",
   "metadata": {},
   "outputs": [],
   "source": [
    "image.get(\"DATE_ACQUIRED\").getInfo()"
   ]
  },
  {
   "cell_type": "code",
   "execution_count": null,
   "id": "18",
   "metadata": {},
   "outputs": [],
   "source": [
    "image.get(\"CLOUD_COVER\").getInfo()"
   ]
  },
  {
   "cell_type": "code",
   "execution_count": null,
   "id": "19",
   "metadata": {},
   "outputs": [],
   "source": [
    "nlcd = ee.Image(\"USGS/NLCD_RELEASES/2019_REL/NLCD/2019\")\n",
    "landcover = nlcd.select(\"landcover\").clip(image.geometry())\n",
    "m.addLayer(landcover, {}, \"NLCD Landcover\")\n",
    "m"
   ]
  },
  {
   "cell_type": "code",
   "execution_count": null,
   "id": "20",
   "metadata": {},
   "outputs": [],
   "source": [
    "points = landcover.sample(\n",
    "    **{\n",
    "        \"region\": image.geometry(),\n",
    "        \"scale\": 30,\n",
    "        \"numPixels\": 5000,\n",
    "        \"seed\": 0,\n",
    "        \"geometries\": True,\n",
    "    }\n",
    ")\n",
    "\n",
    "m.addLayer(points, {}, \"training\", False)"
   ]
  },
  {
   "cell_type": "code",
   "execution_count": null,
   "id": "21",
   "metadata": {},
   "outputs": [],
   "source": [
    "print(points.size().getInfo())"
   ]
  },
  {
   "cell_type": "code",
   "execution_count": null,
   "id": "22",
   "metadata": {},
   "outputs": [],
   "source": [
    "bands = [\"SR_B1\", \"SR_B2\", \"SR_B3\", \"SR_B4\", \"SR_B5\", \"SR_B6\", \"SR_B7\"]\n",
    "label = \"landcover\"\n",
    "features = image.select(bands).sampleRegions(\n",
    "    **{\"collection\": points, \"properties\": [label], \"scale\": 30}\n",
    ")"
   ]
  },
  {
   "cell_type": "code",
   "execution_count": null,
   "id": "23",
   "metadata": {},
   "outputs": [],
   "source": [
    "geemap.ee_to_df(features.limit(5))"
   ]
  },
  {
   "cell_type": "code",
   "execution_count": null,
   "id": "24",
   "metadata": {},
   "outputs": [],
   "source": [
    "params = {\n",
    "    \"features\": features,\n",
    "    \"classProperty\": label,\n",
    "    \"inputProperties\": bands,\n",
    "}\n",
    "classifier = ee.Classifier.smileCart(maxNodes=None).train(**params)"
   ]
  },
  {
   "cell_type": "code",
   "execution_count": null,
   "id": "25",
   "metadata": {},
   "outputs": [],
   "source": [
    "classified = image.select(bands).classify(classifier).rename(\"landcover\")\n",
    "m.addLayer(classified.randomVisualizer(), {}, \"Classified\")\n",
    "m"
   ]
  },
  {
   "cell_type": "code",
   "execution_count": null,
   "id": "26",
   "metadata": {},
   "outputs": [],
   "source": [
    "geemap.get_info(nlcd)"
   ]
  },
  {
   "cell_type": "code",
   "execution_count": null,
   "id": "27",
   "metadata": {},
   "outputs": [],
   "source": [
    "class_values = nlcd.get(\"landcover_class_values\")\n",
    "class_palette = nlcd.get(\"landcover_class_palette\")\n",
    "classified = classified.set(\n",
    "    {\"landcover_class_values\": class_values, \"landcover_class_palette\": class_palette}\n",
    ")"
   ]
  },
  {
   "cell_type": "code",
   "execution_count": null,
   "id": "28",
   "metadata": {},
   "outputs": [],
   "source": [
    "m.addLayer(classified, {}, \"Land cover\")\n",
    "m.add_legend(title=\"Land cover type\", builtin_legend=\"NLCD\")\n",
    "m"
   ]
  },
  {
   "cell_type": "code",
   "execution_count": null,
   "id": "29",
   "metadata": {},
   "outputs": [],
   "source": [
    "geemap.download_ee_image(\n",
    "    landcover, filename=\"supervised.tif\", region=image.geometry(), scale=30\n",
    ")"
   ]
  },
  {
   "cell_type": "markdown",
   "id": "30",
   "metadata": {},
   "source": [
    "## Accuracy assessment"
   ]
  },
  {
   "cell_type": "code",
   "execution_count": null,
   "id": "31",
   "metadata": {},
   "outputs": [],
   "source": [
    "m = geemap.Map()\n",
    "point = ee.Geometry.Point([-122.4439, 37.7538])\n",
    "\n",
    "img = (\n",
    "    ee.ImageCollection(\"COPERNICUS/S2_SR\")\n",
    "    .filterBounds(point)\n",
    "    .filterDate(\"2020-01-01\", \"2021-01-01\")\n",
    "    .sort(\"CLOUDY_PIXEL_PERCENTAGE\")\n",
    "    .first()\n",
    "    .select(\"B.*\")\n",
    ")\n",
    "\n",
    "vis_params = {\"min\": 100, \"max\": 3500, \"bands\": [\"B11\", \"B8\", \"B3\"]}\n",
    "\n",
    "m.centerObject(point, 9)\n",
    "m.addLayer(img, vis_params, \"Sentinel-2\")\n",
    "m"
   ]
  },
  {
   "cell_type": "code",
   "execution_count": null,
   "id": "32",
   "metadata": {},
   "outputs": [],
   "source": [
    "lc = ee.Image(\"ESA/WorldCover/v100/2020\")\n",
    "classValues = [10, 20, 30, 40, 50, 60, 70, 80, 90, 95, 100]\n",
    "remapValues = ee.List.sequence(0, 10)\n",
    "label = \"lc\"\n",
    "lc = lc.remap(classValues, remapValues).rename(label).toByte()"
   ]
  },
  {
   "cell_type": "code",
   "execution_count": null,
   "id": "33",
   "metadata": {},
   "outputs": [],
   "source": [
    "sample = img.addBands(lc).stratifiedSample(\n",
    "    **{\n",
    "        \"numPoints\": 100,\n",
    "        \"classBand\": label,\n",
    "        \"region\": img.geometry(),\n",
    "        \"scale\": 10,\n",
    "        \"geometries\": True,\n",
    "    }\n",
    ")"
   ]
  },
  {
   "cell_type": "code",
   "execution_count": null,
   "id": "34",
   "metadata": {},
   "outputs": [],
   "source": [
    "sample = sample.randomColumn()\n",
    "trainingSample = sample.filter(\"random <= 0.8\")\n",
    "validationSample = sample.filter(\"random > 0.8\")"
   ]
  },
  {
   "cell_type": "code",
   "execution_count": null,
   "id": "35",
   "metadata": {},
   "outputs": [],
   "source": [
    "trainedClassifier = ee.Classifier.smileRandomForest(numberOfTrees=10).train(\n",
    "    **{\n",
    "        \"features\": trainingSample,\n",
    "        \"classProperty\": label,\n",
    "        \"inputProperties\": img.bandNames(),\n",
    "    }\n",
    ")"
   ]
  },
  {
   "cell_type": "code",
   "execution_count": null,
   "id": "36",
   "metadata": {},
   "outputs": [],
   "source": [
    "print(\"Results of trained classifier\", trainedClassifier.explain().getInfo())"
   ]
  },
  {
   "cell_type": "code",
   "execution_count": null,
   "id": "37",
   "metadata": {},
   "outputs": [],
   "source": [
    "trainAccuracy = trainedClassifier.confusionMatrix()\n",
    "trainAccuracy.getInfo()"
   ]
  },
  {
   "cell_type": "code",
   "execution_count": null,
   "id": "38",
   "metadata": {},
   "outputs": [],
   "source": [
    "trainAccuracy.accuracy().getInfo()"
   ]
  },
  {
   "cell_type": "code",
   "execution_count": null,
   "id": "39",
   "metadata": {},
   "outputs": [],
   "source": [
    "trainAccuracy.kappa().getInfo()"
   ]
  },
  {
   "cell_type": "code",
   "execution_count": null,
   "id": "40",
   "metadata": {},
   "outputs": [],
   "source": [
    "validationSample = validationSample.classify(trainedClassifier)\n",
    "validationAccuracy = validationSample.errorMatrix(label, \"classification\")\n",
    "validationAccuracy.getInfo()"
   ]
  },
  {
   "cell_type": "code",
   "execution_count": null,
   "id": "41",
   "metadata": {},
   "outputs": [],
   "source": [
    "validationAccuracy.accuracy().getInfo()"
   ]
  },
  {
   "cell_type": "code",
   "execution_count": null,
   "id": "42",
   "metadata": {},
   "outputs": [],
   "source": [
    "validationAccuracy.producersAccuracy().getInfo()"
   ]
  },
  {
   "cell_type": "code",
   "execution_count": null,
   "id": "43",
   "metadata": {},
   "outputs": [],
   "source": [
    "validationAccuracy.consumersAccuracy().getInfo()"
   ]
  },
  {
   "cell_type": "code",
   "execution_count": null,
   "id": "44",
   "metadata": {},
   "outputs": [],
   "source": [
    "import csv\n",
    "\n",
    "with open(\"training.csv\", \"w\", newline=\"\") as f:\n",
    "    writer = csv.writer(f)\n",
    "    writer.writerows(trainAccuracy.getInfo())\n",
    "\n",
    "with open(\"validation.csv\", \"w\", newline=\"\") as f:\n",
    "    writer = csv.writer(f)\n",
    "    writer.writerows(validationAccuracy.getInfo())"
   ]
  },
  {
   "cell_type": "code",
   "execution_count": null,
   "id": "45",
   "metadata": {},
   "outputs": [],
   "source": [
    "imgClassified = img.classify(trainedClassifier)"
   ]
  },
  {
   "cell_type": "code",
   "execution_count": null,
   "id": "46",
   "metadata": {},
   "outputs": [],
   "source": [
    "classVis = {\n",
    "    \"min\": 0,\n",
    "    \"max\": 10,\n",
    "    \"palette\": [\n",
    "        \"006400\",\n",
    "        \"ffbb22\",\n",
    "        \"ffff4c\",\n",
    "        \"f096ff\",\n",
    "        \"fa0000\",\n",
    "        \"b4b4b4\",\n",
    "        \"f0f0f0\",\n",
    "        \"0064c8\",\n",
    "        \"0096a0\",\n",
    "        \"00cf75\",\n",
    "        \"fae6a0\",\n",
    "    ],\n",
    "}\n",
    "m.addLayer(lc, classVis, \"ESA Land Cover\", False)\n",
    "m.addLayer(imgClassified, classVis, \"Classified\")\n",
    "m.addLayer(trainingSample, {\"color\": \"black\"}, \"Training sample\")\n",
    "m.addLayer(validationSample, {\"color\": \"white\"}, \"Validation sample\")\n",
    "m.add_legend(title=\"Land Cover Type\", builtin_legend=\"ESA_WorldCover\")\n",
    "m.centerObject(img)\n",
    "m"
   ]
  },
  {
   "cell_type": "markdown",
   "id": "47",
   "metadata": {},
   "source": [
    "## Create and export maps"
   ]
  },
  {
   "cell_type": "code",
   "execution_count": null,
   "id": "48",
   "metadata": {},
   "outputs": [],
   "source": [
    "m = geemap.Map(center=(41.0462, -109.7424), zoom=6)\n",
    "\n",
    "dem = ee.Image(\"USGS/SRTMGL1_003\")\n",
    "landsat7 = ee.Image(\"LANDSAT/LE7_TOA_5YEAR/1999_2003\").select(\n",
    "    [\"B1\", \"B2\", \"B3\", \"B4\", \"B5\", \"B7\"]\n",
    ")\n",
    "\n",
    "vis_params = {\n",
    "    \"min\": 0,\n",
    "    \"max\": 4000,\n",
    "    \"palette\": [\"006633\", \"E5FFCC\", \"662A00\", \"D8D8D8\", \"F5F5F5\"],\n",
    "}\n",
    "\n",
    "m.add_layer(\n",
    "    landsat7,\n",
    "    {\"bands\": [\"B4\", \"B3\", \"B2\"], \"min\": 20, \"max\": 200, \"gamma\": 2},\n",
    "    \"landsat\",\n",
    ")\n",
    "m.add_layer(dem, vis_params, \"dem\", True, 1)\n",
    "m"
   ]
  },
  {
   "cell_type": "code",
   "execution_count": null,
   "id": "49",
   "metadata": {},
   "outputs": [],
   "source": [
    "m.layer_to_image(\"dem\", output=\"dem.tif\", crs=\"EPSG:3857\", region=None, scale=None)\n",
    "m.layer_to_image(\"dem\", output=\"dem.jpg\", scale=500)\n",
    "geemap.show_image(\"dem.jpg\")"
   ]
  },
  {
   "cell_type": "code",
   "execution_count": null,
   "id": "50",
   "metadata": {},
   "outputs": [],
   "source": [
    "m.layer_to_image(\"landsat\", output=\"landsat.tif\")\n",
    "geemap.geotiff_to_image(\"landsat.tif\", output=\"landsat.jpg\")\n",
    "geemap.show_image(\"landsat.jpg\")"
   ]
  },
  {
   "cell_type": "code",
   "execution_count": null,
   "id": "51",
   "metadata": {},
   "outputs": [],
   "source": [
    "from geemap import cartoee\n",
    "import matplotlib.pyplot as plt"
   ]
  },
  {
   "cell_type": "markdown",
   "id": "52",
   "metadata": {},
   "source": [
    "### Plotting single-band images"
   ]
  },
  {
   "cell_type": "code",
   "execution_count": null,
   "id": "53",
   "metadata": {},
   "outputs": [],
   "source": [
    "srtm = ee.Image(\"CGIAR/SRTM90_V4\")\n",
    "\n",
    "# define bounding box [east, south, west, north] to request data\n",
    "region = [180, -60, -180, 85]\n",
    "vis = {\"min\": 0, \"max\": 3000}"
   ]
  },
  {
   "cell_type": "code",
   "execution_count": null,
   "id": "54",
   "metadata": {},
   "outputs": [],
   "source": [
    "fig = plt.figure(figsize=(15, 9))\n",
    "\n",
    "# use cartoee to get a map\n",
    "ax = cartoee.get_map(srtm, region=region, vis_params=vis)\n",
    "\n",
    "# add a color bar to the map using the visualization params we passed to the map\n",
    "cartoee.add_colorbar(\n",
    "    ax, vis, loc=\"bottom\", label=\"Elevation (m)\", orientation=\"horizontal\"\n",
    ")\n",
    "\n",
    "# add grid lines to the map at a specified interval\n",
    "cartoee.add_gridlines(ax, interval=[60, 30], linestyle=\":\")\n",
    "\n",
    "# add coastlines using the cartopy api\n",
    "ax.coastlines(color=\"red\")\n",
    "\n",
    "plt.show()"
   ]
  },
  {
   "cell_type": "code",
   "execution_count": null,
   "id": "55",
   "metadata": {},
   "outputs": [],
   "source": [
    "fig = plt.figure(figsize=(15, 7))\n",
    "\n",
    "cmap = \"terrain\"\n",
    "\n",
    "ax = cartoee.get_map(srtm, region=region, vis_params=vis, cmap=cmap)\n",
    "cartoee.add_colorbar(\n",
    "    ax, vis, cmap=cmap, loc=\"right\", label=\"Elevation (m)\", orientation=\"vertical\"\n",
    ")\n",
    "\n",
    "cartoee.add_gridlines(ax, interval=[60, 30], linestyle=\"--\")\n",
    "ax.coastlines(color=\"red\")\n",
    "ax.set_title(label=\"Global Elevation Map\", fontsize=15)\n",
    "\n",
    "plt.show()"
   ]
  },
  {
   "cell_type": "code",
   "execution_count": null,
   "id": "56",
   "metadata": {},
   "outputs": [],
   "source": [
    "cartoee.savefig(fig, fname=\"srtm.jpg\", dpi=300, bbox_inches=\"tight\")"
   ]
  },
  {
   "cell_type": "markdown",
   "id": "57",
   "metadata": {},
   "source": [
    "### Plotting multi-band images"
   ]
  },
  {
   "cell_type": "code",
   "execution_count": null,
   "id": "58",
   "metadata": {},
   "outputs": [],
   "source": [
    "image = ee.Image(\"LANDSAT/LC08/C01/T1_SR/LC08_044034_20140318\")\n",
    "vis = {\"bands\": [\"B5\", \"B4\", \"B3\"], \"min\": 0, \"max\": 5000, \"gamma\": 1.3}"
   ]
  },
  {
   "cell_type": "code",
   "execution_count": null,
   "id": "59",
   "metadata": {},
   "outputs": [],
   "source": [
    "fig = plt.figure(figsize=(15, 10))\n",
    "\n",
    "ax = cartoee.get_map(image, vis_params=vis)\n",
    "cartoee.pad_view(ax)\n",
    "cartoee.add_gridlines(ax, interval=0.5, xtick_rotation=0, linestyle=\":\")\n",
    "ax.coastlines(color=\"yellow\")\n",
    "\n",
    "plt.show()"
   ]
  },
  {
   "cell_type": "code",
   "execution_count": null,
   "id": "60",
   "metadata": {},
   "outputs": [],
   "source": [
    "fig = plt.figure(figsize=(15, 10))\n",
    "\n",
    "region = [-121.8025, 37.3458, -122.6265, 37.9178]\n",
    "ax = cartoee.get_map(image, vis_params=vis, region=region)\n",
    "cartoee.add_gridlines(ax, interval=0.15, xtick_rotation=0, linestyle=\":\")\n",
    "ax.coastlines(color=\"yellow\")\n",
    "\n",
    "plt.show()"
   ]
  },
  {
   "cell_type": "markdown",
   "id": "61",
   "metadata": {},
   "source": [
    "### Using custom projections\n",
    "\n",
    "#### The PlateCarree projection"
   ]
  },
  {
   "cell_type": "code",
   "execution_count": null,
   "id": "62",
   "metadata": {},
   "outputs": [],
   "source": [
    "ocean = (\n",
    "    ee.ImageCollection(\"NASA/OCEANDATA/MODIS-Terra/L3SMI\")\n",
    "    .filter(ee.Filter.date(\"2018-01-01\", \"2018-03-01\"))\n",
    "    .median()\n",
    "    .select([\"sst\"], [\"SST\"])\n",
    ")"
   ]
  },
  {
   "cell_type": "code",
   "execution_count": null,
   "id": "63",
   "metadata": {},
   "outputs": [],
   "source": [
    "visualization = {\"bands\": \"SST\", \"min\": -2, \"max\": 30}\n",
    "bbox = [180, -88, -180, 88]"
   ]
  },
  {
   "cell_type": "code",
   "execution_count": null,
   "id": "64",
   "metadata": {},
   "outputs": [],
   "source": [
    "fig = plt.figure(figsize=(15, 10))\n",
    "\n",
    "ax = cartoee.get_map(ocean, cmap=\"plasma\", vis_params=visualization, region=bbox)\n",
    "cb = cartoee.add_colorbar(ax, vis_params=visualization, loc=\"right\", cmap=\"plasma\")\n",
    "\n",
    "ax.set_title(label=\"Sea Surface Temperature\", fontsize=15)\n",
    "\n",
    "ax.coastlines()\n",
    "plt.show()"
   ]
  },
  {
   "cell_type": "code",
   "execution_count": null,
   "id": "65",
   "metadata": {},
   "outputs": [],
   "source": [
    "cartoee.savefig(fig, \"SST.jpg\", dpi=300)"
   ]
  },
  {
   "cell_type": "markdown",
   "id": "66",
   "metadata": {},
   "source": [
    "#### Custom projections"
   ]
  },
  {
   "cell_type": "code",
   "execution_count": null,
   "id": "67",
   "metadata": {},
   "outputs": [],
   "source": [
    "import cartopy.crs as ccrs"
   ]
  },
  {
   "cell_type": "code",
   "execution_count": null,
   "id": "68",
   "metadata": {},
   "outputs": [],
   "source": [
    "fig = plt.figure(figsize=(15, 10))\n",
    "\n",
    "projection = ccrs.Mollweide(central_longitude=-180)\n",
    "ax = cartoee.get_map(\n",
    "    ocean, vis_params=visualization, region=bbox, cmap=\"plasma\", proj=projection\n",
    ")\n",
    "cb = cartoee.add_colorbar(\n",
    "    ax, vis_params=visualization, loc=\"bottom\", cmap=\"plasma\", orientation=\"horizontal\"\n",
    ")\n",
    "ax.set_title(\"Mollweide projection\")\n",
    "ax.coastlines()\n",
    "\n",
    "plt.show()"
   ]
  },
  {
   "cell_type": "code",
   "execution_count": null,
   "id": "69",
   "metadata": {},
   "outputs": [],
   "source": [
    "fig = plt.figure(figsize=(15, 10))\n",
    "\n",
    "projection = ccrs.Robinson(central_longitude=-180)\n",
    "ax = cartoee.get_map(\n",
    "    ocean, vis_params=visualization, region=bbox, cmap=\"plasma\", proj=projection\n",
    ")\n",
    "cb = cartoee.add_colorbar(\n",
    "    ax, vis_params=visualization, loc=\"bottom\", cmap=\"plasma\", orientation=\"horizontal\"\n",
    ")\n",
    "ax.set_title(\"Robinson projection\")\n",
    "ax.coastlines()\n",
    "\n",
    "plt.show()"
   ]
  },
  {
   "cell_type": "code",
   "execution_count": null,
   "id": "70",
   "metadata": {},
   "outputs": [],
   "source": [
    "fig = plt.figure(figsize=(15, 10))\n",
    "\n",
    "projection = ccrs.InterruptedGoodeHomolosine(central_longitude=-180)\n",
    "ax = cartoee.get_map(\n",
    "    ocean, vis_params=visualization, region=bbox, cmap=\"plasma\", proj=projection\n",
    ")\n",
    "cb = cartoee.add_colorbar(\n",
    "    ax, vis_params=visualization, loc=\"bottom\", cmap=\"plasma\", orientation=\"horizontal\"\n",
    ")\n",
    "ax.set_title(\"Goode homolosine projection\")\n",
    "ax.coastlines()\n",
    "\n",
    "plt.show()"
   ]
  },
  {
   "cell_type": "code",
   "execution_count": null,
   "id": "71",
   "metadata": {},
   "outputs": [],
   "source": [
    "fig = plt.figure(figsize=(15, 10))\n",
    "\n",
    "projection = ccrs.EqualEarth(central_longitude=-180)\n",
    "ax = cartoee.get_map(\n",
    "    ocean, vis_params=visualization, region=bbox, cmap=\"plasma\", proj=projection\n",
    ")\n",
    "cb = cartoee.add_colorbar(\n",
    "    ax, vis_params=visualization, loc=\"right\", cmap=\"plasma\", orientation=\"vertical\"\n",
    ")\n",
    "ax.set_title(\"Equal Earth projection\")\n",
    "ax.coastlines()\n",
    "\n",
    "plt.show()"
   ]
  },
  {
   "cell_type": "code",
   "execution_count": null,
   "id": "72",
   "metadata": {},
   "outputs": [],
   "source": [
    "fig = plt.figure(figsize=(11, 10))\n",
    "\n",
    "projection = ccrs.Orthographic(-130, -10)\n",
    "ax = cartoee.get_map(\n",
    "    ocean, vis_params=visualization, region=bbox, cmap=\"plasma\", proj=projection\n",
    ")\n",
    "cb = cartoee.add_colorbar(\n",
    "    ax, vis_params=visualization, loc=\"right\", cmap=\"plasma\", orientation=\"vertical\"\n",
    ")\n",
    "ax.set_title(\"Orographic projection\")\n",
    "ax.coastlines()\n",
    "\n",
    "plt.show()"
   ]
  },
  {
   "cell_type": "markdown",
   "id": "73",
   "metadata": {},
   "source": [
    "## Building interactive web apps\n",
    "\n",
    "```bash\n",
    "# %pip install solara\n",
    "```"
   ]
  },
  {
   "cell_type": "code",
   "execution_count": null,
   "id": "74",
   "metadata": {},
   "outputs": [],
   "source": [
    "import ee\n",
    "import geemap\n",
    "import solara\n",
    "\n",
    "\n",
    "class Map(geemap.Map):\n",
    "    def __init__(self, **kwargs):\n",
    "        super().__init__(**kwargs)\n",
    "        self.add_ee_data()\n",
    "\n",
    "    def add_ee_data(self):\n",
    "        years = [\"2001\", \"2004\", \"2006\", \"2008\", \"2011\", \"2013\", \"2016\", \"2019\"]\n",
    "\n",
    "        def getNLCD(year):\n",
    "            dataset = ee.ImageCollection(\"USGS/NLCD_RELEASES/2019_REL/NLCD\")\n",
    "            nlcd = dataset.filter(ee.Filter.eq(\"system:index\", year)).first()\n",
    "            landcover = nlcd.select(\"landcover\")\n",
    "            return landcover\n",
    "\n",
    "        collection = ee.ImageCollection(ee.List(years).map(lambda year: getNLCD(year)))\n",
    "        labels = [f\"NLCD {year}\" for year in years]\n",
    "        self.ts_inspector(\n",
    "            left_ts=collection,\n",
    "            right_ts=collection,\n",
    "            left_names=labels,\n",
    "            right_names=labels,\n",
    "        )\n",
    "        self.add_legend(\n",
    "            title=\"NLCD Land Cover Type\",\n",
    "            builtin_legend=\"NLCD\",\n",
    "            height=\"460px\",\n",
    "            add_header=False,\n",
    "        )\n",
    "\n",
    "\n",
    "@solara.component\n",
    "def Page():\n",
    "    with solara.Column(style={\"min-width\": \"500px\"}):\n",
    "        m.element(\n",
    "            center=[40, -100],\n",
    "            zoom=4,\n",
    "            height=\"800px\",\n",
    "        )"
   ]
  },
  {
   "cell_type": "markdown",
   "id": "75",
   "metadata": {},
   "source": [
    "```bash\n",
    "conda activate gee\n",
    "solara run ./pages\n",
    "```"
   ]
  },
  {
   "cell_type": "code",
   "execution_count": null,
   "id": "76",
   "metadata": {},
   "outputs": [],
   "source": [
    "import geemap\n",
    "\n",
    "geemap.get_ee_token()"
   ]
  }
 ],
 "metadata": {
  "kernelspec": {
   "display_name": "Python 3",
   "language": "python",
   "name": "python3"
  }
 },
 "nbformat": 4,
 "nbformat_minor": 5
}
